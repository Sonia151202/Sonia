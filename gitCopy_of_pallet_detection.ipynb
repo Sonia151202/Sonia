{
  "metadata": {
    "kernelspec": {
      "language": "python",
      "display_name": "Python 3",
      "name": "python3"
    },
    "language_info": {
      "name": "python",
      "version": "3.11.11",
      "mimetype": "text/x-python",
      "codemirror_mode": {
        "name": "ipython",
        "version": 3
      },
      "pygments_lexer": "ipython3",
      "nbconvert_exporter": "python",
      "file_extension": ".py"
    },
    "kaggle": {
      "accelerator": "gpu",
      "dataSources": [
        {
          "sourceId": 11634813,
          "sourceType": "datasetVersion",
          "datasetId": 7299939
        },
        {
          "sourceId": 11635486,
          "sourceType": "datasetVersion",
          "datasetId": 7300454
        },
        {
          "sourceId": 11635765,
          "sourceType": "datasetVersion",
          "datasetId": 7300679
        },
        {
          "sourceId": 11637606,
          "sourceType": "datasetVersion",
          "datasetId": 7302036
        }
      ],
      "dockerImageVersionId": 31013,
      "isInternetEnabled": true,
      "language": "python",
      "sourceType": "notebook",
      "isGpuEnabled": true
    },
    "colab": {
      "provenance": []
    }
  },
  "nbformat_minor": 0,
  "nbformat": 4,
  "cells": [
    {
      "source": [
        "# IMPORTANT: SOME KAGGLE DATA SOURCES ARE PRIVATE\n",
        "# RUN THIS CELL IN ORDER TO IMPORT YOUR KAGGLE DATA SOURCES.\n",
        "import kagglehub\n",
        "kagglehub.login()\n"
      ],
      "metadata": {
        "id": "zEMB9M-wXUGC"
      },
      "cell_type": "code",
      "outputs": [],
      "execution_count": null
    },
    {
      "source": [
        "# IMPORTANT: RUN THIS CELL IN ORDER TO IMPORT YOUR KAGGLE DATA SOURCES,\n",
        "# THEN FEEL FREE TO DELETE THIS CELL.\n",
        "# NOTE: THIS NOTEBOOK ENVIRONMENT DIFFERS FROM KAGGLE'S PYTHON\n",
        "# ENVIRONMENT SO THERE MAY BE MISSING LIBRARIES USED BY YOUR\n",
        "# NOTEBOOK.\n",
        "\n",
        "bommasonia_combined_coco_path = kagglehub.dataset_download('bommasonia/combined-coco')\n",
        "bommasonia_combined_yolov8_path = kagglehub.dataset_download('bommasonia/combined-yolov8')\n",
        "bommasonia_yolov8_path = kagglehub.dataset_download('bommasonia/yolov8')\n",
        "bommasonia_yolov5_data_path = kagglehub.dataset_download('bommasonia/yolov5-data')\n",
        "\n",
        "print('Data source import complete.')\n"
      ],
      "metadata": {
        "id": "SBgOy7FhXUGD"
      },
      "cell_type": "code",
      "outputs": [],
      "execution_count": null
    },
    {
      "cell_type": "code",
      "source": [
        "# This Python 3 environment comes with many helpful analytics libraries installed\n",
        "# It is defined by the kaggle/python Docker image: https://github.com/kaggle/docker-python\n",
        "# For example, here's several helpful packages to load\n",
        "\n",
        "import numpy as np # linear algebra\n",
        "import pandas as pd # data processing, CSV file I/O (e.g. pd.read_csv)\n",
        "\n",
        "# Input data files are available in the read-only \"../input/\" directory\n",
        "# For example, running this (by clicking run or pressing Shift+Enter) will list all files under the input directory\n",
        "\n",
        "import os\n",
        "for dirname, _, filenames in os.walk('/kaggle/input'):\n",
        "    for filename in filenames:\n",
        "        print(os.path.join(dirname, filename))\n",
        "\n",
        "# You can write up to 20GB to the current directory (/kaggle/working/) that gets preserved as output when you create a version using \"Save & Run All\"\n",
        "# You can also write temporary files to /kaggle/temp/, but they won't be saved outside of the current session"
      ],
      "metadata": {
        "_uuid": "8f2839f25d086af736a60e9eeb907d3b93b6e0e5",
        "_cell_guid": "b1076dfc-b9ad-4769-8c92-a6c4dae69d19",
        "trusted": true,
        "id": "c3X1sLd5XUGD"
      },
      "outputs": [],
      "execution_count": null
    },
    {
      "cell_type": "markdown",
      "source": [
        "YOLOV8m"
      ],
      "metadata": {
        "id": "w4j8ZThgXUGE"
      }
    },
    {
      "cell_type": "code",
      "source": [
        "# 1. Install Ultralytics library\n",
        "!pip install ultralytics --quiet\n",
        "\n",
        "# 2. Import required modules\n",
        "from ultralytics import YOLO\n",
        "import os\n",
        "\n",
        "# 4. Set dataset path (adjust this to your actual dataset location)\n",
        "dataset_path = '/kaggle/input/yolov8/pallet detection.v1i.yolov8'\n",
        "\n",
        "# 5. Create the data.yaml file programmatically\n",
        "yaml_path = '/kaggle/working/data.yaml'\n",
        "yaml_content = f\"\"\"\n",
        "path: {dataset_path}\n",
        "train: train/images\n",
        "val: valid/images\n",
        "test: test/images\n",
        "\n",
        "names:\n",
        "  0: pallet\n",
        "\"\"\"\n",
        "\n",
        "with open(yaml_path, 'w') as f:\n",
        "    f.write(yaml_content)\n",
        "\n",
        "# 6. Load YOLOv8m model (you can use yolov8n.pt or yolov8l.pt for different sizes)\n",
        "model = YOLO('yolov8m.pt')  # Loads pre-trained YOLOv8m model\n"
      ],
      "metadata": {
        "trusted": true,
        "execution": {
          "iopub.status.busy": "2025-05-05T01:36:33.047836Z",
          "iopub.execute_input": "2025-05-05T01:36:33.048077Z",
          "iopub.status.idle": "2025-05-05T01:37:48.270293Z",
          "shell.execute_reply.started": "2025-05-05T01:36:33.048052Z",
          "shell.execute_reply": "2025-05-05T01:37:48.269339Z"
        },
        "id": "21za8LseXUGG",
        "outputId": "1c967f68-6a5d-40c7-fc8d-f4e161dd0dd2"
      },
      "outputs": [
        {
          "name": "stdout",
          "text": "\u001b[2K   \u001b[90m━━━━━━━━━━━━━━━━━━━━━━━━━━━━━━━━━━━━━━━━\u001b[0m \u001b[32m1.0/1.0 MB\u001b[0m \u001b[31m49.0 MB/s\u001b[0m eta \u001b[36m0:00:00\u001b[0m\n\u001b[2K   \u001b[90m━━━━━━━━━━━━━━━━━━━━━━━━━━━━━━━━━━━━━━━━\u001b[0m \u001b[32m363.4/363.4 MB\u001b[0m \u001b[31m4.3 MB/s\u001b[0m eta \u001b[36m0:00:00\u001b[0m0:00:01\u001b[0m00:01\u001b[0m\n\u001b[2K   \u001b[90m━━━━━━━━━━━━━━━━━━━━━━━━━━━━━━━━━━━━━━━━\u001b[0m \u001b[32m664.8/664.8 MB\u001b[0m \u001b[31m2.1 MB/s\u001b[0m eta \u001b[36m0:00:00\u001b[0m0:00:01\u001b[0m00:01\u001b[0m\n\u001b[2K   \u001b[90m━━━━━━━━━━━━━━━━━━━━━━━━━━━━━━━━━━━━━━━━\u001b[0m \u001b[32m211.5/211.5 MB\u001b[0m \u001b[31m7.7 MB/s\u001b[0m eta \u001b[36m0:00:00\u001b[0m0:00:01\u001b[0m00:01\u001b[0m\n\u001b[2K   \u001b[90m━━━━━━━━━━━━━━━━━━━━━━━━━━━━━━━━━━━━━━━━\u001b[0m \u001b[32m56.3/56.3 MB\u001b[0m \u001b[31m30.4 MB/s\u001b[0m eta \u001b[36m0:00:00\u001b[0m:00:01\u001b[0m00:01\u001b[0m\n\u001b[2K   \u001b[90m━━━━━━━━━━━━━━━━━━━━━━━━━━━━━━━━━━━━━━━━\u001b[0m \u001b[32m127.9/127.9 MB\u001b[0m \u001b[31m13.7 MB/s\u001b[0m eta \u001b[36m0:00:00\u001b[0m:00:01\u001b[0m00:01\u001b[0m\n\u001b[2K   \u001b[90m━━━━━━━━━━━━━━━━━━━━━━━━━━━━━━━━━━━━━━━━\u001b[0m \u001b[32m207.5/207.5 MB\u001b[0m \u001b[31m8.6 MB/s\u001b[0m eta \u001b[36m0:00:00\u001b[0m0:00:01\u001b[0m00:01\u001b[0m\n\u001b[2K   \u001b[90m━━━━━━━━━━━━━━━━━━━━━━━━━━━━━━━━━━━━━━━━\u001b[0m \u001b[32m21.1/21.1 MB\u001b[0m \u001b[31m82.3 MB/s\u001b[0m eta \u001b[36m0:00:00\u001b[0m:00:01\u001b[0m00:01\u001b[0m\n\u001b[?25h\u001b[31mERROR: pip's dependency resolver does not currently take into account all the packages that are installed. This behaviour is the source of the following dependency conflicts.\npylibcugraph-cu12 24.12.0 requires pylibraft-cu12==24.12.*, but you have pylibraft-cu12 25.2.0 which is incompatible.\npylibcugraph-cu12 24.12.0 requires rmm-cu12==24.12.*, but you have rmm-cu12 25.2.0 which is incompatible.\u001b[0m\u001b[31m\n\u001b[0mCreating new Ultralytics Settings v0.0.6 file ✅ \nView Ultralytics Settings with 'yolo settings' or at '/root/.config/Ultralytics/settings.json'\nUpdate Settings with 'yolo settings key=value', i.e. 'yolo settings runs_dir=path/to/dir'. For help see https://docs.ultralytics.com/quickstart/#ultralytics-settings.\nDownloading https://github.com/ultralytics/assets/releases/download/v8.3.0/yolov8m.pt to 'yolov8m.pt'...\n",
          "output_type": "stream"
        },
        {
          "name": "stderr",
          "text": "100%|██████████| 49.7M/49.7M [00:00<00:00, 54.5MB/s]\n",
          "output_type": "stream"
        }
      ],
      "execution_count": null
    },
    {
      "cell_type": "code",
      "source": [
        "\n",
        "# 7. Train the model\n",
        "model.train(\n",
        "    data=yaml_path,\n",
        "    epochs=30,\n",
        "    imgsz=640,\n",
        "    batch=8,\n",
        "    project='pallet_detection_project',\n",
        "    name='yolov8m_run',\n",
        "    exist_ok=True\n",
        ")\n"
      ],
      "metadata": {
        "trusted": true,
        "execution": {
          "iopub.status.busy": "2025-05-05T01:42:16.815655Z",
          "iopub.execute_input": "2025-05-05T01:42:16.816426Z",
          "iopub.status.idle": "2025-05-05T02:53:48.923937Z",
          "shell.execute_reply.started": "2025-05-05T01:42:16.816391Z",
          "shell.execute_reply": "2025-05-05T02:53:48.923075Z"
        },
        "id": "ATjaDjEMXUGH",
        "outputId": "3b9868b4-2fc3-4d34-a334-8b1e5199aa80"
      },
      "outputs": [
        {
          "name": "stdout",
          "text": "Ultralytics 8.3.127 🚀 Python-3.11.11 torch-2.5.1+cu124 CUDA:0 (Tesla P100-PCIE-16GB, 16269MiB)\n\u001b[34m\u001b[1mengine/trainer: \u001b[0magnostic_nms=False, amp=True, augment=False, auto_augment=randaugment, batch=8, bgr=0.0, box=7.5, cache=False, cfg=None, classes=None, close_mosaic=10, cls=0.5, conf=None, copy_paste=0.0, copy_paste_mode=flip, cos_lr=False, cutmix=0.0, data=/kaggle/working/data.yaml, degrees=0.0, deterministic=True, device=cuda:0, dfl=1.5, dnn=False, dropout=0.0, dynamic=False, embed=None, epochs=30, erasing=0.4, exist_ok=True, fliplr=0.5, flipud=0.0, format=torchscript, fraction=1.0, freeze=None, half=False, hsv_h=0.015, hsv_s=0.7, hsv_v=0.4, imgsz=640, int8=False, iou=0.7, keras=False, kobj=1.0, line_width=None, lr0=0.01, lrf=0.01, mask_ratio=4, max_det=300, mixup=0.0, mode=train, model=yolov8m.pt, momentum=0.937, mosaic=1.0, multi_scale=False, name=yolov8m_run, nbs=64, nms=False, opset=None, optimize=False, optimizer=auto, overlap_mask=True, patience=100, perspective=0.0, plots=True, pose=12.0, pretrained=True, profile=False, project=pallet_detection_project, rect=False, resume=False, retina_masks=False, save=True, save_conf=False, save_crop=False, save_dir=pallet_detection_project/yolov8m_run, save_frames=False, save_json=False, save_period=-1, save_txt=False, scale=0.5, seed=0, shear=0.0, show=False, show_boxes=True, show_conf=True, show_labels=True, simplify=True, single_cls=False, source=None, split=val, stream_buffer=False, task=detect, time=None, tracker=botsort.yaml, translate=0.1, val=True, verbose=True, vid_stride=1, visualize=False, warmup_bias_lr=0.1, warmup_epochs=3.0, warmup_momentum=0.8, weight_decay=0.0005, workers=8, workspace=None\n\n                   from  n    params  module                                       arguments                     \n  0                  -1  1      1392  ultralytics.nn.modules.conv.Conv             [3, 48, 3, 2]                 \n  1                  -1  1     41664  ultralytics.nn.modules.conv.Conv             [48, 96, 3, 2]                \n  2                  -1  2    111360  ultralytics.nn.modules.block.C2f             [96, 96, 2, True]             \n  3                  -1  1    166272  ultralytics.nn.modules.conv.Conv             [96, 192, 3, 2]               \n  4                  -1  4    813312  ultralytics.nn.modules.block.C2f             [192, 192, 4, True]           \n  5                  -1  1    664320  ultralytics.nn.modules.conv.Conv             [192, 384, 3, 2]              \n  6                  -1  4   3248640  ultralytics.nn.modules.block.C2f             [384, 384, 4, True]           \n  7                  -1  1   1991808  ultralytics.nn.modules.conv.Conv             [384, 576, 3, 2]              \n  8                  -1  2   3985920  ultralytics.nn.modules.block.C2f             [576, 576, 2, True]           \n  9                  -1  1    831168  ultralytics.nn.modules.block.SPPF            [576, 576, 5]                 \n 10                  -1  1         0  torch.nn.modules.upsampling.Upsample         [None, 2, 'nearest']          \n 11             [-1, 6]  1         0  ultralytics.nn.modules.conv.Concat           [1]                           \n 12                  -1  2   1993728  ultralytics.nn.modules.block.C2f             [960, 384, 2]                 \n 13                  -1  1         0  torch.nn.modules.upsampling.Upsample         [None, 2, 'nearest']          \n 14             [-1, 4]  1         0  ultralytics.nn.modules.conv.Concat           [1]                           \n 15                  -1  2    517632  ultralytics.nn.modules.block.C2f             [576, 192, 2]                 \n 16                  -1  1    332160  ultralytics.nn.modules.conv.Conv             [192, 192, 3, 2]              \n 17            [-1, 12]  1         0  ultralytics.nn.modules.conv.Concat           [1]                           \n 18                  -1  2   1846272  ultralytics.nn.modules.block.C2f             [576, 384, 2]                 \n 19                  -1  1   1327872  ultralytics.nn.modules.conv.Conv             [384, 384, 3, 2]              \n 20             [-1, 9]  1         0  ultralytics.nn.modules.conv.Concat           [1]                           \n 21                  -1  2   4207104  ultralytics.nn.modules.block.C2f             [960, 576, 2]                 \n 22        [15, 18, 21]  1   3776275  ultralytics.nn.modules.head.Detect           [1, [192, 384, 576]]          \nModel summary: 169 layers, 25,856,899 parameters, 25,856,883 gradients, 79.1 GFLOPs\n\nTransferred 475/475 items from pretrained weights\nFreezing layer 'model.22.dfl.conv.weight'\n\u001b[34m\u001b[1mAMP: \u001b[0mrunning Automatic Mixed Precision (AMP) checks...\n\u001b[34m\u001b[1mAMP: \u001b[0mchecks passed ✅\n\u001b[34m\u001b[1mtrain: \u001b[0mFast image access ✅ (ping: 0.2±0.4 ms, read: 61.1±21.8 MB/s, size: 76.9 KB)\n",
          "output_type": "stream"
        },
        {
          "name": "stderr",
          "text": "\u001b[34m\u001b[1mtrain: \u001b[0mScanning /kaggle/input/yolov8/pallet detection.v1i.yolov8/train/labels... 3119 images, 0 backgrounds, 0 corrupt: 100%|██████████| 3119/3119 [00:07<00:00, 434.31it/s]",
          "output_type": "stream"
        },
        {
          "name": "stdout",
          "text": "WARNING ⚠️ \u001b[34m\u001b[1mtrain: \u001b[0mCache directory /kaggle/input/yolov8/pallet detection.v1i.yolov8/train is not writeable, cache not saved.\n\u001b[34m\u001b[1malbumentations: \u001b[0mBlur(p=0.01, blur_limit=(3, 7)), MedianBlur(p=0.01, blur_limit=(3, 7)), ToGray(p=0.01, num_output_channels=3, method='weighted_average'), CLAHE(p=0.01, clip_limit=(1.0, 4.0), tile_grid_size=(8, 8))\n",
          "output_type": "stream"
        },
        {
          "name": "stderr",
          "text": "\n",
          "output_type": "stream"
        },
        {
          "name": "stdout",
          "text": "\u001b[34m\u001b[1mval: \u001b[0mFast image access ✅ (ping: 1.2±0.4 ms, read: 74.3±12.9 MB/s, size: 80.1 KB)\n",
          "output_type": "stream"
        },
        {
          "name": "stderr",
          "text": "\u001b[34m\u001b[1mval: \u001b[0mScanning /kaggle/input/yolov8/pallet detection.v1i.yolov8/valid/labels... 200 images, 0 backgrounds, 0 corrupt: 100%|██████████| 200/200 [00:01<00:00, 196.32it/s]",
          "output_type": "stream"
        },
        {
          "name": "stdout",
          "text": "WARNING ⚠️ \u001b[34m\u001b[1mval: \u001b[0mCache directory /kaggle/input/yolov8/pallet detection.v1i.yolov8/valid is not writeable, cache not saved.\n",
          "output_type": "stream"
        },
        {
          "name": "stderr",
          "text": "\n",
          "output_type": "stream"
        },
        {
          "name": "stdout",
          "text": "Plotting labels to pallet_detection_project/yolov8m_run/labels.jpg... \n\u001b[34m\u001b[1moptimizer:\u001b[0m 'optimizer=auto' found, ignoring 'lr0=0.01' and 'momentum=0.937' and determining best 'optimizer', 'lr0' and 'momentum' automatically... \n\u001b[34m\u001b[1moptimizer:\u001b[0m AdamW(lr=0.002, momentum=0.9) with parameter groups 77 weight(decay=0.0), 84 weight(decay=0.0005), 83 bias(decay=0.0)\nImage sizes 640 train, 640 val\nUsing 4 dataloader workers\nLogging results to \u001b[1mpallet_detection_project/yolov8m_run\u001b[0m\nStarting training for 30 epochs...\n\n      Epoch    GPU_mem   box_loss   cls_loss   dfl_loss  Instances       Size\n",
          "output_type": "stream"
        },
        {
          "name": "stderr",
          "text": "       1/30      4.72G     0.9156     0.5901      1.017        368        640: 100%|██████████| 390/390 [02:23<00:00,  2.73it/s]\n                 Class     Images  Instances      Box(P          R      mAP50  mAP50-95): 100%|██████████| 13/13 [00:04<00:00,  3.03it/s]",
          "output_type": "stream"
        },
        {
          "name": "stdout",
          "text": "                   all        200       7030      0.887      0.982      0.925      0.655\n",
          "output_type": "stream"
        },
        {
          "name": "stderr",
          "text": "\n",
          "output_type": "stream"
        },
        {
          "name": "stdout",
          "text": "\n      Epoch    GPU_mem   box_loss   cls_loss   dfl_loss  Instances       Size\n",
          "output_type": "stream"
        },
        {
          "name": "stderr",
          "text": "       2/30      4.76G     0.9091     0.5766      1.011        404        640: 100%|██████████| 390/390 [02:19<00:00,  2.79it/s]\n                 Class     Images  Instances      Box(P          R      mAP50  mAP50-95): 100%|██████████| 13/13 [00:03<00:00,  4.16it/s]",
          "output_type": "stream"
        },
        {
          "name": "stdout",
          "text": "                   all        200       7030       0.89       0.99      0.929       0.71\n",
          "output_type": "stream"
        },
        {
          "name": "stderr",
          "text": "\n",
          "output_type": "stream"
        },
        {
          "name": "stdout",
          "text": "\n      Epoch    GPU_mem   box_loss   cls_loss   dfl_loss  Instances       Size\n",
          "output_type": "stream"
        },
        {
          "name": "stderr",
          "text": "       3/30      4.76G     0.8679     0.5277     0.9815        485        640: 100%|██████████| 390/390 [02:19<00:00,  2.81it/s]\n                 Class     Images  Instances      Box(P          R      mAP50  mAP50-95): 100%|██████████| 13/13 [00:03<00:00,  4.04it/s]",
          "output_type": "stream"
        },
        {
          "name": "stdout",
          "text": "                   all        200       7030      0.872      0.977      0.944      0.753\n",
          "output_type": "stream"
        },
        {
          "name": "stderr",
          "text": "\n",
          "output_type": "stream"
        },
        {
          "name": "stdout",
          "text": "\n      Epoch    GPU_mem   box_loss   cls_loss   dfl_loss  Instances       Size\n",
          "output_type": "stream"
        },
        {
          "name": "stderr",
          "text": "       4/30      4.76G     0.8323     0.4947     0.9643        288        640: 100%|██████████| 390/390 [02:18<00:00,  2.81it/s]\n                 Class     Images  Instances      Box(P          R      mAP50  mAP50-95): 100%|██████████| 13/13 [00:03<00:00,  4.15it/s]",
          "output_type": "stream"
        },
        {
          "name": "stdout",
          "text": "                   all        200       7030      0.915      0.986       0.97      0.779\n",
          "output_type": "stream"
        },
        {
          "name": "stderr",
          "text": "\n",
          "output_type": "stream"
        },
        {
          "name": "stdout",
          "text": "\n      Epoch    GPU_mem   box_loss   cls_loss   dfl_loss  Instances       Size\n",
          "output_type": "stream"
        },
        {
          "name": "stderr",
          "text": "       5/30      4.76G     0.7928     0.4605     0.9459        232        640: 100%|██████████| 390/390 [02:18<00:00,  2.82it/s]\n                 Class     Images  Instances      Box(P          R      mAP50  mAP50-95): 100%|██████████| 13/13 [00:03<00:00,  4.25it/s]",
          "output_type": "stream"
        },
        {
          "name": "stdout",
          "text": "                   all        200       7030      0.894      0.989       0.94       0.74\n",
          "output_type": "stream"
        },
        {
          "name": "stderr",
          "text": "\n",
          "output_type": "stream"
        },
        {
          "name": "stdout",
          "text": "\n      Epoch    GPU_mem   box_loss   cls_loss   dfl_loss  Instances       Size\n",
          "output_type": "stream"
        },
        {
          "name": "stderr",
          "text": "       6/30      4.76G     0.7549     0.4373     0.9335        242        640: 100%|██████████| 390/390 [02:18<00:00,  2.82it/s]\n                 Class     Images  Instances      Box(P          R      mAP50  mAP50-95): 100%|██████████| 13/13 [00:03<00:00,  4.21it/s]",
          "output_type": "stream"
        },
        {
          "name": "stdout",
          "text": "                   all        200       7030      0.891      0.989       0.92       0.75\n",
          "output_type": "stream"
        },
        {
          "name": "stderr",
          "text": "\n",
          "output_type": "stream"
        },
        {
          "name": "stdout",
          "text": "\n      Epoch    GPU_mem   box_loss   cls_loss   dfl_loss  Instances       Size\n",
          "output_type": "stream"
        },
        {
          "name": "stderr",
          "text": "       7/30      4.76G     0.7331     0.4233     0.9246        362        640: 100%|██████████| 390/390 [02:18<00:00,  2.82it/s]\n                 Class     Images  Instances      Box(P          R      mAP50  mAP50-95): 100%|██████████| 13/13 [00:03<00:00,  4.20it/s]",
          "output_type": "stream"
        },
        {
          "name": "stdout",
          "text": "                   all        200       7030      0.889       0.99      0.915      0.733\n",
          "output_type": "stream"
        },
        {
          "name": "stderr",
          "text": "\n",
          "output_type": "stream"
        },
        {
          "name": "stdout",
          "text": "\n      Epoch    GPU_mem   box_loss   cls_loss   dfl_loss  Instances       Size\n",
          "output_type": "stream"
        },
        {
          "name": "stderr",
          "text": "       8/30      4.76G     0.7195     0.4087     0.9187        223        640: 100%|██████████| 390/390 [02:18<00:00,  2.81it/s]\n                 Class     Images  Instances      Box(P          R      mAP50  mAP50-95): 100%|██████████| 13/13 [00:03<00:00,  4.19it/s]",
          "output_type": "stream"
        },
        {
          "name": "stdout",
          "text": "                   all        200       7030      0.906      0.987      0.957      0.755\n",
          "output_type": "stream"
        },
        {
          "name": "stderr",
          "text": "\n",
          "output_type": "stream"
        },
        {
          "name": "stdout",
          "text": "\n      Epoch    GPU_mem   box_loss   cls_loss   dfl_loss  Instances       Size\n",
          "output_type": "stream"
        },
        {
          "name": "stderr",
          "text": "       9/30      4.76G     0.6985     0.3908      0.914        315        640: 100%|██████████| 390/390 [02:18<00:00,  2.82it/s]\n                 Class     Images  Instances      Box(P          R      mAP50  mAP50-95): 100%|██████████| 13/13 [00:03<00:00,  4.22it/s]",
          "output_type": "stream"
        },
        {
          "name": "stdout",
          "text": "                   all        200       7030      0.874      0.983      0.911      0.745\n",
          "output_type": "stream"
        },
        {
          "name": "stderr",
          "text": "\n",
          "output_type": "stream"
        },
        {
          "name": "stdout",
          "text": "\n      Epoch    GPU_mem   box_loss   cls_loss   dfl_loss  Instances       Size\n",
          "output_type": "stream"
        },
        {
          "name": "stderr",
          "text": "      10/30      4.76G     0.6916      0.386     0.9098        271        640: 100%|██████████| 390/390 [02:18<00:00,  2.82it/s]\n                 Class     Images  Instances      Box(P          R      mAP50  mAP50-95): 100%|██████████| 13/13 [00:03<00:00,  4.19it/s]",
          "output_type": "stream"
        },
        {
          "name": "stdout",
          "text": "                   all        200       7030      0.898      0.983      0.957      0.775\n",
          "output_type": "stream"
        },
        {
          "name": "stderr",
          "text": "\n",
          "output_type": "stream"
        },
        {
          "name": "stdout",
          "text": "\n      Epoch    GPU_mem   box_loss   cls_loss   dfl_loss  Instances       Size\n",
          "output_type": "stream"
        },
        {
          "name": "stderr",
          "text": "      11/30      4.76G     0.6705     0.3762     0.9006        255        640: 100%|██████████| 390/390 [02:18<00:00,  2.82it/s]\n                 Class     Images  Instances      Box(P          R      mAP50  mAP50-95): 100%|██████████| 13/13 [00:03<00:00,  4.23it/s]",
          "output_type": "stream"
        },
        {
          "name": "stdout",
          "text": "                   all        200       7030      0.879      0.987      0.882      0.704\n",
          "output_type": "stream"
        },
        {
          "name": "stderr",
          "text": "\n",
          "output_type": "stream"
        },
        {
          "name": "stdout",
          "text": "\n      Epoch    GPU_mem   box_loss   cls_loss   dfl_loss  Instances       Size\n",
          "output_type": "stream"
        },
        {
          "name": "stderr",
          "text": "      12/30      4.76G     0.6648     0.3684     0.8999        296        640: 100%|██████████| 390/390 [02:18<00:00,  2.82it/s]\n                 Class     Images  Instances      Box(P          R      mAP50  mAP50-95): 100%|██████████| 13/13 [00:03<00:00,  4.23it/s]",
          "output_type": "stream"
        },
        {
          "name": "stdout",
          "text": "                   all        200       7030      0.887       0.99      0.911      0.732\n",
          "output_type": "stream"
        },
        {
          "name": "stderr",
          "text": "\n",
          "output_type": "stream"
        },
        {
          "name": "stdout",
          "text": "\n      Epoch    GPU_mem   box_loss   cls_loss   dfl_loss  Instances       Size\n",
          "output_type": "stream"
        },
        {
          "name": "stderr",
          "text": "      13/30      4.76G     0.6433     0.3537     0.8908        292        640: 100%|██████████| 390/390 [02:18<00:00,  2.81it/s]\n                 Class     Images  Instances      Box(P          R      mAP50  mAP50-95): 100%|██████████| 13/13 [00:03<00:00,  4.26it/s]",
          "output_type": "stream"
        },
        {
          "name": "stdout",
          "text": "                   all        200       7030      0.882      0.986      0.912      0.734\n",
          "output_type": "stream"
        },
        {
          "name": "stderr",
          "text": "\n",
          "output_type": "stream"
        },
        {
          "name": "stdout",
          "text": "\n      Epoch    GPU_mem   box_loss   cls_loss   dfl_loss  Instances       Size\n",
          "output_type": "stream"
        },
        {
          "name": "stderr",
          "text": "      14/30      4.76G     0.6364      0.351     0.8899        407        640: 100%|██████████| 390/390 [02:18<00:00,  2.82it/s]\n                 Class     Images  Instances      Box(P          R      mAP50  mAP50-95): 100%|██████████| 13/13 [00:03<00:00,  4.25it/s]",
          "output_type": "stream"
        },
        {
          "name": "stdout",
          "text": "                   all        200       7030      0.912      0.984      0.962      0.787\n",
          "output_type": "stream"
        },
        {
          "name": "stderr",
          "text": "\n",
          "output_type": "stream"
        },
        {
          "name": "stdout",
          "text": "\n      Epoch    GPU_mem   box_loss   cls_loss   dfl_loss  Instances       Size\n",
          "output_type": "stream"
        },
        {
          "name": "stderr",
          "text": "      15/30      4.76G     0.6273     0.3415     0.8874        184        640: 100%|██████████| 390/390 [02:18<00:00,  2.82it/s]\n                 Class     Images  Instances      Box(P          R      mAP50  mAP50-95): 100%|██████████| 13/13 [00:03<00:00,  4.15it/s]",
          "output_type": "stream"
        },
        {
          "name": "stdout",
          "text": "                   all        200       7030      0.888      0.993      0.951      0.761\n",
          "output_type": "stream"
        },
        {
          "name": "stderr",
          "text": "\n",
          "output_type": "stream"
        },
        {
          "name": "stdout",
          "text": "\n      Epoch    GPU_mem   box_loss   cls_loss   dfl_loss  Instances       Size\n",
          "output_type": "stream"
        },
        {
          "name": "stderr",
          "text": "      16/30      4.76G     0.6146     0.3347     0.8867        291        640: 100%|██████████| 390/390 [02:18<00:00,  2.82it/s]\n                 Class     Images  Instances      Box(P          R      mAP50  mAP50-95): 100%|██████████| 13/13 [00:03<00:00,  4.25it/s]",
          "output_type": "stream"
        },
        {
          "name": "stdout",
          "text": "                   all        200       7030      0.894      0.989      0.965      0.792\n",
          "output_type": "stream"
        },
        {
          "name": "stderr",
          "text": "\n",
          "output_type": "stream"
        },
        {
          "name": "stdout",
          "text": "\n      Epoch    GPU_mem   box_loss   cls_loss   dfl_loss  Instances       Size\n",
          "output_type": "stream"
        },
        {
          "name": "stderr",
          "text": "      17/30      4.76G     0.5998     0.3285     0.8812        228        640: 100%|██████████| 390/390 [02:18<00:00,  2.82it/s]\n                 Class     Images  Instances      Box(P          R      mAP50  mAP50-95): 100%|██████████| 13/13 [00:03<00:00,  4.24it/s]",
          "output_type": "stream"
        },
        {
          "name": "stdout",
          "text": "                   all        200       7030       0.89      0.987      0.941      0.766\n",
          "output_type": "stream"
        },
        {
          "name": "stderr",
          "text": "\n",
          "output_type": "stream"
        },
        {
          "name": "stdout",
          "text": "\n      Epoch    GPU_mem   box_loss   cls_loss   dfl_loss  Instances       Size\n",
          "output_type": "stream"
        },
        {
          "name": "stderr",
          "text": "      18/30      4.76G     0.5973     0.3237     0.8809        450        640: 100%|██████████| 390/390 [02:18<00:00,  2.82it/s]\n                 Class     Images  Instances      Box(P          R      mAP50  mAP50-95): 100%|██████████| 13/13 [00:03<00:00,  4.25it/s]",
          "output_type": "stream"
        },
        {
          "name": "stdout",
          "text": "                   all        200       7030      0.898      0.986      0.969      0.788\n",
          "output_type": "stream"
        },
        {
          "name": "stderr",
          "text": "\n",
          "output_type": "stream"
        },
        {
          "name": "stdout",
          "text": "\n      Epoch    GPU_mem   box_loss   cls_loss   dfl_loss  Instances       Size\n",
          "output_type": "stream"
        },
        {
          "name": "stderr",
          "text": "      19/30      4.76G     0.5811     0.3169     0.8765        383        640: 100%|██████████| 390/390 [02:18<00:00,  2.82it/s]\n                 Class     Images  Instances      Box(P          R      mAP50  mAP50-95): 100%|██████████| 13/13 [00:03<00:00,  4.23it/s]",
          "output_type": "stream"
        },
        {
          "name": "stdout",
          "text": "                   all        200       7030      0.888      0.986      0.953      0.764\n",
          "output_type": "stream"
        },
        {
          "name": "stderr",
          "text": "\n",
          "output_type": "stream"
        },
        {
          "name": "stdout",
          "text": "\n      Epoch    GPU_mem   box_loss   cls_loss   dfl_loss  Instances       Size\n",
          "output_type": "stream"
        },
        {
          "name": "stderr",
          "text": "      20/30      4.76G     0.5613     0.3065     0.8728        349        640: 100%|██████████| 390/390 [02:18<00:00,  2.82it/s]\n                 Class     Images  Instances      Box(P          R      mAP50  mAP50-95): 100%|██████████| 13/13 [00:03<00:00,  4.09it/s]",
          "output_type": "stream"
        },
        {
          "name": "stdout",
          "text": "                   all        200       7030      0.889      0.993      0.948      0.755\n",
          "output_type": "stream"
        },
        {
          "name": "stderr",
          "text": "\n",
          "output_type": "stream"
        },
        {
          "name": "stdout",
          "text": "Closing dataloader mosaic\n\u001b[34m\u001b[1malbumentations: \u001b[0mBlur(p=0.01, blur_limit=(3, 7)), MedianBlur(p=0.01, blur_limit=(3, 7)), ToGray(p=0.01, num_output_channels=3, method='weighted_average'), CLAHE(p=0.01, clip_limit=(1.0, 4.0), tile_grid_size=(8, 8))\n\n      Epoch    GPU_mem   box_loss   cls_loss   dfl_loss  Instances       Size\n",
          "output_type": "stream"
        },
        {
          "name": "stderr",
          "text": "      21/30      4.76G     0.5479     0.3093      0.861        238        640: 100%|██████████| 390/390 [02:17<00:00,  2.83it/s]\n                 Class     Images  Instances      Box(P          R      mAP50  mAP50-95): 100%|██████████| 13/13 [00:03<00:00,  4.25it/s]",
          "output_type": "stream"
        },
        {
          "name": "stdout",
          "text": "                   all        200       7030      0.885      0.987      0.911      0.731\n",
          "output_type": "stream"
        },
        {
          "name": "stderr",
          "text": "\n",
          "output_type": "stream"
        },
        {
          "name": "stdout",
          "text": "\n      Epoch    GPU_mem   box_loss   cls_loss   dfl_loss  Instances       Size\n",
          "output_type": "stream"
        },
        {
          "name": "stderr",
          "text": "      22/30      4.76G     0.5402     0.3039     0.8592         63        640: 100%|██████████| 390/390 [02:17<00:00,  2.84it/s]\n                 Class     Images  Instances      Box(P          R      mAP50  mAP50-95): 100%|██████████| 13/13 [00:03<00:00,  4.25it/s]",
          "output_type": "stream"
        },
        {
          "name": "stdout",
          "text": "                   all        200       7030      0.896      0.989      0.913      0.735\n",
          "output_type": "stream"
        },
        {
          "name": "stderr",
          "text": "\n",
          "output_type": "stream"
        },
        {
          "name": "stdout",
          "text": "\n      Epoch    GPU_mem   box_loss   cls_loss   dfl_loss  Instances       Size\n",
          "output_type": "stream"
        },
        {
          "name": "stderr",
          "text": "      23/30      4.76G     0.5164     0.2893     0.8487        184        640: 100%|██████████| 390/390 [02:17<00:00,  2.84it/s]\n                 Class     Images  Instances      Box(P          R      mAP50  mAP50-95): 100%|██████████| 13/13 [00:03<00:00,  4.28it/s]",
          "output_type": "stream"
        },
        {
          "name": "stdout",
          "text": "                   all        200       7030       0.89       0.99      0.899      0.717\n",
          "output_type": "stream"
        },
        {
          "name": "stderr",
          "text": "\n",
          "output_type": "stream"
        },
        {
          "name": "stdout",
          "text": "\n      Epoch    GPU_mem   box_loss   cls_loss   dfl_loss  Instances       Size\n",
          "output_type": "stream"
        },
        {
          "name": "stderr",
          "text": "      24/30      4.76G     0.4968     0.2759     0.8458        259        640: 100%|██████████| 390/390 [02:17<00:00,  2.84it/s]\n                 Class     Images  Instances      Box(P          R      mAP50  mAP50-95): 100%|██████████| 13/13 [00:03<00:00,  4.26it/s]",
          "output_type": "stream"
        },
        {
          "name": "stdout",
          "text": "                   all        200       7030      0.894      0.991      0.924      0.747\n",
          "output_type": "stream"
        },
        {
          "name": "stderr",
          "text": "\n",
          "output_type": "stream"
        },
        {
          "name": "stdout",
          "text": "\n      Epoch    GPU_mem   box_loss   cls_loss   dfl_loss  Instances       Size\n",
          "output_type": "stream"
        },
        {
          "name": "stderr",
          "text": "      25/30      4.76G     0.4783     0.2671     0.8436        212        640: 100%|██████████| 390/390 [02:17<00:00,  2.84it/s]\n                 Class     Images  Instances      Box(P          R      mAP50  mAP50-95): 100%|██████████| 13/13 [00:03<00:00,  4.26it/s]",
          "output_type": "stream"
        },
        {
          "name": "stdout",
          "text": "                   all        200       7030       0.89      0.989       0.96      0.785\n",
          "output_type": "stream"
        },
        {
          "name": "stderr",
          "text": "\n",
          "output_type": "stream"
        },
        {
          "name": "stdout",
          "text": "\n      Epoch    GPU_mem   box_loss   cls_loss   dfl_loss  Instances       Size\n",
          "output_type": "stream"
        },
        {
          "name": "stderr",
          "text": "      26/30      4.76G      0.468     0.2613     0.8398        296        640: 100%|██████████| 390/390 [02:17<00:00,  2.84it/s]\n                 Class     Images  Instances      Box(P          R      mAP50  mAP50-95): 100%|██████████| 13/13 [00:03<00:00,  4.24it/s]",
          "output_type": "stream"
        },
        {
          "name": "stdout",
          "text": "                   all        200       7030       0.89      0.989      0.961      0.788\n",
          "output_type": "stream"
        },
        {
          "name": "stderr",
          "text": "\n",
          "output_type": "stream"
        },
        {
          "name": "stdout",
          "text": "\n      Epoch    GPU_mem   box_loss   cls_loss   dfl_loss  Instances       Size\n",
          "output_type": "stream"
        },
        {
          "name": "stderr",
          "text": "      27/30      4.76G     0.4521     0.2523      0.839        227        640: 100%|██████████| 390/390 [02:17<00:00,  2.85it/s]\n                 Class     Images  Instances      Box(P          R      mAP50  mAP50-95): 100%|██████████| 13/13 [00:03<00:00,  4.25it/s]",
          "output_type": "stream"
        },
        {
          "name": "stdout",
          "text": "                   all        200       7030       0.89      0.989      0.957      0.779\n",
          "output_type": "stream"
        },
        {
          "name": "stderr",
          "text": "\n",
          "output_type": "stream"
        },
        {
          "name": "stdout",
          "text": "\n      Epoch    GPU_mem   box_loss   cls_loss   dfl_loss  Instances       Size\n",
          "output_type": "stream"
        },
        {
          "name": "stderr",
          "text": "      28/30      4.76G     0.4455     0.2466     0.8361        124        640: 100%|██████████| 390/390 [02:17<00:00,  2.84it/s]\n                 Class     Images  Instances      Box(P          R      mAP50  mAP50-95): 100%|██████████| 13/13 [00:03<00:00,  4.28it/s]",
          "output_type": "stream"
        },
        {
          "name": "stdout",
          "text": "                   all        200       7030      0.887      0.993      0.945      0.779\n",
          "output_type": "stream"
        },
        {
          "name": "stderr",
          "text": "\n",
          "output_type": "stream"
        },
        {
          "name": "stdout",
          "text": "\n      Epoch    GPU_mem   box_loss   cls_loss   dfl_loss  Instances       Size\n",
          "output_type": "stream"
        },
        {
          "name": "stderr",
          "text": "      29/30      4.76G     0.4285     0.2372     0.8341        292        640: 100%|██████████| 390/390 [02:16<00:00,  2.85it/s]\n                 Class     Images  Instances      Box(P          R      mAP50  mAP50-95): 100%|██████████| 13/13 [00:03<00:00,  4.24it/s]",
          "output_type": "stream"
        },
        {
          "name": "stdout",
          "text": "                   all        200       7030      0.888      0.991      0.934      0.766\n",
          "output_type": "stream"
        },
        {
          "name": "stderr",
          "text": "\n",
          "output_type": "stream"
        },
        {
          "name": "stdout",
          "text": "\n      Epoch    GPU_mem   box_loss   cls_loss   dfl_loss  Instances       Size\n",
          "output_type": "stream"
        },
        {
          "name": "stderr",
          "text": "      30/30      4.76G     0.4172      0.232     0.8312        114        640: 100%|██████████| 390/390 [02:16<00:00,  2.85it/s]\n                 Class     Images  Instances      Box(P          R      mAP50  mAP50-95): 100%|██████████| 13/13 [00:03<00:00,  4.30it/s]",
          "output_type": "stream"
        },
        {
          "name": "stdout",
          "text": "                   all        200       7030      0.889      0.993      0.938      0.773\n",
          "output_type": "stream"
        },
        {
          "name": "stderr",
          "text": "\n",
          "output_type": "stream"
        },
        {
          "name": "stdout",
          "text": "\n30 epochs completed in 1.185 hours.\nOptimizer stripped from pallet_detection_project/yolov8m_run/weights/last.pt, 52.0MB\nOptimizer stripped from pallet_detection_project/yolov8m_run/weights/best.pt, 52.0MB\n\nValidating pallet_detection_project/yolov8m_run/weights/best.pt...\nUltralytics 8.3.127 🚀 Python-3.11.11 torch-2.5.1+cu124 CUDA:0 (Tesla P100-PCIE-16GB, 16269MiB)\nModel summary (fused): 92 layers, 25,840,339 parameters, 0 gradients, 78.7 GFLOPs\n",
          "output_type": "stream"
        },
        {
          "name": "stderr",
          "text": "                 Class     Images  Instances      Box(P          R      mAP50  mAP50-95): 100%|██████████| 13/13 [00:06<00:00,  2.09it/s]\n",
          "output_type": "stream"
        },
        {
          "name": "stdout",
          "text": "                   all        200       7030      0.894      0.989      0.965      0.792\n",
          "output_type": "stream"
        },
        {
          "name": "stderr",
          "text": "/usr/local/lib/python3.11/dist-packages/matplotlib/colors.py:721: RuntimeWarning: invalid value encountered in less\n  xa[xa < 0] = -1\n/usr/local/lib/python3.11/dist-packages/matplotlib/colors.py:721: RuntimeWarning: invalid value encountered in less\n  xa[xa < 0] = -1\n",
          "output_type": "stream"
        },
        {
          "name": "stdout",
          "text": "Speed: 0.2ms preprocess, 10.8ms inference, 0.0ms loss, 3.0ms postprocess per image\nResults saved to \u001b[1mpallet_detection_project/yolov8m_run\u001b[0m\n",
          "output_type": "stream"
        },
        {
          "execution_count": 3,
          "output_type": "execute_result",
          "data": {
            "text/plain": "ultralytics.utils.metrics.DetMetrics object with attributes:\n\nap_class_index: array([0])\nbox: ultralytics.utils.metrics.Metric object\nconfusion_matrix: <ultralytics.utils.metrics.ConfusionMatrix object at 0x7ca6c6c991d0>\ncurves: ['Precision-Recall(B)', 'F1-Confidence(B)', 'Precision-Confidence(B)', 'Recall-Confidence(B)']\ncurves_results: [[array([          0,    0.001001,    0.002002,    0.003003,    0.004004,    0.005005,    0.006006,    0.007007,    0.008008,    0.009009,     0.01001,    0.011011,    0.012012,    0.013013,    0.014014,    0.015015,    0.016016,    0.017017,    0.018018,    0.019019,     0.02002,    0.021021,    0.022022,    0.023023,\n          0.024024,    0.025025,    0.026026,    0.027027,    0.028028,    0.029029,     0.03003,    0.031031,    0.032032,    0.033033,    0.034034,    0.035035,    0.036036,    0.037037,    0.038038,    0.039039,     0.04004,    0.041041,    0.042042,    0.043043,    0.044044,    0.045045,    0.046046,    0.047047,\n          0.048048,    0.049049,     0.05005,    0.051051,    0.052052,    0.053053,    0.054054,    0.055055,    0.056056,    0.057057,    0.058058,    0.059059,     0.06006,    0.061061,    0.062062,    0.063063,    0.064064,    0.065065,    0.066066,    0.067067,    0.068068,    0.069069,     0.07007,    0.071071,\n          0.072072,    0.073073,    0.074074,    0.075075,    0.076076,    0.077077,    0.078078,    0.079079,     0.08008,    0.081081,    0.082082,    0.083083,    0.084084,    0.085085,    0.086086,    0.087087,    0.088088,    0.089089,     0.09009,    0.091091,    0.092092,    0.093093,    0.094094,    0.095095,\n          0.096096,    0.097097,    0.098098,    0.099099,      0.1001,      0.1011,      0.1021,      0.1031,      0.1041,     0.10511,     0.10611,     0.10711,     0.10811,     0.10911,     0.11011,     0.11111,     0.11211,     0.11311,     0.11411,     0.11512,     0.11612,     0.11712,     0.11812,     0.11912,\n           0.12012,     0.12112,     0.12212,     0.12312,     0.12412,     0.12513,     0.12613,     0.12713,     0.12813,     0.12913,     0.13013,     0.13113,     0.13213,     0.13313,     0.13413,     0.13514,     0.13614,     0.13714,     0.13814,     0.13914,     0.14014,     0.14114,     0.14214,     0.14314,\n           0.14414,     0.14515,     0.14615,     0.14715,     0.14815,     0.14915,     0.15015,     0.15115,     0.15215,     0.15315,     0.15415,     0.15516,     0.15616,     0.15716,     0.15816,     0.15916,     0.16016,     0.16116,     0.16216,     0.16316,     0.16416,     0.16517,     0.16617,     0.16717,\n           0.16817,     0.16917,     0.17017,     0.17117,     0.17217,     0.17317,     0.17417,     0.17518,     0.17618,     0.17718,     0.17818,     0.17918,     0.18018,     0.18118,     0.18218,     0.18318,     0.18418,     0.18519,     0.18619,     0.18719,     0.18819,     0.18919,     0.19019,     0.19119,\n           0.19219,     0.19319,     0.19419,      0.1952,      0.1962,      0.1972,      0.1982,      0.1992,      0.2002,      0.2012,      0.2022,      0.2032,      0.2042,     0.20521,     0.20621,     0.20721,     0.20821,     0.20921,     0.21021,     0.21121,     0.21221,     0.21321,     0.21421,     0.21522,\n           0.21622,     0.21722,     0.21822,     0.21922,     0.22022,     0.22122,     0.22222,     0.22322,     0.22422,     0.22523,     0.22623,     0.22723,     0.22823,     0.22923,     0.23023,     0.23123,     0.23223,     0.23323,     0.23423,     0.23524,     0.23624,     0.23724,     0.23824,     0.23924,\n           0.24024,     0.24124,     0.24224,     0.24324,     0.24424,     0.24525,     0.24625,     0.24725,     0.24825,     0.24925,     0.25025,     0.25125,     0.25225,     0.25325,     0.25425,     0.25526,     0.25626,     0.25726,     0.25826,     0.25926,     0.26026,     0.26126,     0.26226,     0.26326,\n           0.26426,     0.26527,     0.26627,     0.26727,     0.26827,     0.26927,     0.27027,     0.27127,     0.27227,     0.27327,     0.27427,     0.27528,     0.27628,     0.27728,     0.27828,     0.27928,     0.28028,     0.28128,     0.28228,     0.28328,     0.28428,     0.28529,     0.28629,     0.28729,\n           0.28829,     0.28929,     0.29029,     0.29129,     0.29229,     0.29329,     0.29429,      0.2953,      0.2963,      0.2973,      0.2983,      0.2993,      0.3003,      0.3013,      0.3023,      0.3033,      0.3043,     0.30531,     0.30631,     0.30731,     0.30831,     0.30931,     0.31031,     0.31131,\n           0.31231,     0.31331,     0.31431,     0.31532,     0.31632,     0.31732,     0.31832,     0.31932,     0.32032,     0.32132,     0.32232,     0.32332,     0.32432,     0.32533,     0.32633,     0.32733,     0.32833,     0.32933,     0.33033,     0.33133,     0.33233,     0.33333,     0.33433,     0.33534,\n           0.33634,     0.33734,     0.33834,     0.33934,     0.34034,     0.34134,     0.34234,     0.34334,     0.34434,     0.34535,     0.34635,     0.34735,     0.34835,     0.34935,     0.35035,     0.35135,     0.35235,     0.35335,     0.35435,     0.35536,     0.35636,     0.35736,     0.35836,     0.35936,\n           0.36036,     0.36136,     0.36236,     0.36336,     0.36436,     0.36537,     0.36637,     0.36737,     0.36837,     0.36937,     0.37037,     0.37137,     0.37237,     0.37337,     0.37437,     0.37538,     0.37638,     0.37738,     0.37838,     0.37938,     0.38038,     0.38138,     0.38238,     0.38338,\n           0.38438,     0.38539,     0.38639,     0.38739,     0.38839,     0.38939,     0.39039,     0.39139,     0.39239,     0.39339,     0.39439,      0.3954,      0.3964,      0.3974,      0.3984,      0.3994,      0.4004,      0.4014,      0.4024,      0.4034,      0.4044,     0.40541,     0.40641,     0.40741,\n           0.40841,     0.40941,     0.41041,     0.41141,     0.41241,     0.41341,     0.41441,     0.41542,     0.41642,     0.41742,     0.41842,     0.41942,     0.42042,     0.42142,     0.42242,     0.42342,     0.42442,     0.42543,     0.42643,     0.42743,     0.42843,     0.42943,     0.43043,     0.43143,\n           0.43243,     0.43343,     0.43443,     0.43544,     0.43644,     0.43744,     0.43844,     0.43944,     0.44044,     0.44144,     0.44244,     0.44344,     0.44444,     0.44545,     0.44645,     0.44745,     0.44845,     0.44945,     0.45045,     0.45145,     0.45245,     0.45345,     0.45445,     0.45546,\n           0.45646,     0.45746,     0.45846,     0.45946,     0.46046,     0.46146,     0.46246,     0.46346,     0.46446,     0.46547,     0.46647,     0.46747,     0.46847,     0.46947,     0.47047,     0.47147,     0.47247,     0.47347,     0.47447,     0.47548,     0.47648,     0.47748,     0.47848,     0.47948,\n           0.48048,     0.48148,     0.48248,     0.48348,     0.48448,     0.48549,     0.48649,     0.48749,     0.48849,     0.48949,     0.49049,     0.49149,     0.49249,     0.49349,     0.49449,      0.4955,      0.4965,      0.4975,      0.4985,      0.4995,      0.5005,      0.5015,      0.5025,      0.5035,\n            0.5045,     0.50551,     0.50651,     0.50751,     0.50851,     0.50951,     0.51051,     0.51151,     0.51251,     0.51351,     0.51451,     0.51552,     0.51652,     0.51752,     0.51852,     0.51952,     0.52052,     0.52152,     0.52252,     0.52352,     0.52452,     0.52553,     0.52653,     0.52753,\n           0.52853,     0.52953,     0.53053,     0.53153,     0.53253,     0.53353,     0.53453,     0.53554,     0.53654,     0.53754,     0.53854,     0.53954,     0.54054,     0.54154,     0.54254,     0.54354,     0.54454,     0.54555,     0.54655,     0.54755,     0.54855,     0.54955,     0.55055,     0.55155,\n           0.55255,     0.55355,     0.55455,     0.55556,     0.55656,     0.55756,     0.55856,     0.55956,     0.56056,     0.56156,     0.56256,     0.56356,     0.56456,     0.56557,     0.56657,     0.56757,     0.56857,     0.56957,     0.57057,     0.57157,     0.57257,     0.57357,     0.57457,     0.57558,\n           0.57658,     0.57758,     0.57858,     0.57958,     0.58058,     0.58158,     0.58258,     0.58358,     0.58458,     0.58559,     0.58659,     0.58759,     0.58859,     0.58959,     0.59059,     0.59159,     0.59259,     0.59359,     0.59459,      0.5956,      0.5966,      0.5976,      0.5986,      0.5996,\n            0.6006,      0.6016,      0.6026,      0.6036,      0.6046,     0.60561,     0.60661,     0.60761,     0.60861,     0.60961,     0.61061,     0.61161,     0.61261,     0.61361,     0.61461,     0.61562,     0.61662,     0.61762,     0.61862,     0.61962,     0.62062,     0.62162,     0.62262,     0.62362,\n           0.62462,     0.62563,     0.62663,     0.62763,     0.62863,     0.62963,     0.63063,     0.63163,     0.63263,     0.63363,     0.63463,     0.63564,     0.63664,     0.63764,     0.63864,     0.63964,     0.64064,     0.64164,     0.64264,     0.64364,     0.64464,     0.64565,     0.64665,     0.64765,\n           0.64865,     0.64965,     0.65065,     0.65165,     0.65265,     0.65365,     0.65465,     0.65566,     0.65666,     0.65766,     0.65866,     0.65966,     0.66066,     0.66166,     0.66266,     0.66366,     0.66466,     0.66567,     0.66667,     0.66767,     0.66867,     0.66967,     0.67067,     0.67167,\n           0.67267,     0.67367,     0.67467,     0.67568,     0.67668,     0.67768,     0.67868,     0.67968,     0.68068,     0.68168,     0.68268,     0.68368,     0.68468,     0.68569,     0.68669,     0.68769,     0.68869,     0.68969,     0.69069,     0.69169,     0.69269,     0.69369,     0.69469,      0.6957,\n            0.6967,      0.6977,      0.6987,      0.6997,      0.7007,      0.7017,      0.7027,      0.7037,      0.7047,     0.70571,     0.70671,     0.70771,     0.70871,     0.70971,     0.71071,     0.71171,     0.71271,     0.71371,     0.71471,     0.71572,     0.71672,     0.71772,     0.71872,     0.71972,\n           0.72072,     0.72172,     0.72272,     0.72372,     0.72472,     0.72573,     0.72673,     0.72773,     0.72873,     0.72973,     0.73073,     0.73173,     0.73273,     0.73373,     0.73473,     0.73574,     0.73674,     0.73774,     0.73874,     0.73974,     0.74074,     0.74174,     0.74274,     0.74374,\n           0.74474,     0.74575,     0.74675,     0.74775,     0.74875,     0.74975,     0.75075,     0.75175,     0.75275,     0.75375,     0.75475,     0.75576,     0.75676,     0.75776,     0.75876,     0.75976,     0.76076,     0.76176,     0.76276,     0.76376,     0.76476,     0.76577,     0.76677,     0.76777,\n           0.76877,     0.76977,     0.77077,     0.77177,     0.77277,     0.77377,     0.77477,     0.77578,     0.77678,     0.77778,     0.77878,     0.77978,     0.78078,     0.78178,     0.78278,     0.78378,     0.78478,     0.78579,     0.78679,     0.78779,     0.78879,     0.78979,     0.79079,     0.79179,\n           0.79279,     0.79379,     0.79479,      0.7958,      0.7968,      0.7978,      0.7988,      0.7998,      0.8008,      0.8018,      0.8028,      0.8038,      0.8048,     0.80581,     0.80681,     0.80781,     0.80881,     0.80981,     0.81081,     0.81181,     0.81281,     0.81381,     0.81481,     0.81582,\n           0.81682,     0.81782,     0.81882,     0.81982,     0.82082,     0.82182,     0.82282,     0.82382,     0.82482,     0.82583,     0.82683,     0.82783,     0.82883,     0.82983,     0.83083,     0.83183,     0.83283,     0.83383,     0.83483,     0.83584,     0.83684,     0.83784,     0.83884,     0.83984,\n           0.84084,     0.84184,     0.84284,     0.84384,     0.84484,     0.84585,     0.84685,     0.84785,     0.84885,     0.84985,     0.85085,     0.85185,     0.85285,     0.85385,     0.85485,     0.85586,     0.85686,     0.85786,     0.85886,     0.85986,     0.86086,     0.86186,     0.86286,     0.86386,\n           0.86486,     0.86587,     0.86687,     0.86787,     0.86887,     0.86987,     0.87087,     0.87187,     0.87287,     0.87387,     0.87487,     0.87588,     0.87688,     0.87788,     0.87888,     0.87988,     0.88088,     0.88188,     0.88288,     0.88388,     0.88488,     0.88589,     0.88689,     0.88789,\n           0.88889,     0.88989,     0.89089,     0.89189,     0.89289,     0.89389,     0.89489,      0.8959,      0.8969,      0.8979,      0.8989,      0.8999,      0.9009,      0.9019,      0.9029,      0.9039,      0.9049,     0.90591,     0.90691,     0.90791,     0.90891,     0.90991,     0.91091,     0.91191,\n           0.91291,     0.91391,     0.91491,     0.91592,     0.91692,     0.91792,     0.91892,     0.91992,     0.92092,     0.92192,     0.92292,     0.92392,     0.92492,     0.92593,     0.92693,     0.92793,     0.92893,     0.92993,     0.93093,     0.93193,     0.93293,     0.93393,     0.93493,     0.93594,\n           0.93694,     0.93794,     0.93894,     0.93994,     0.94094,     0.94194,     0.94294,     0.94394,     0.94494,     0.94595,     0.94695,     0.94795,     0.94895,     0.94995,     0.95095,     0.95195,     0.95295,     0.95395,     0.95495,     0.95596,     0.95696,     0.95796,     0.95896,     0.95996,\n           0.96096,     0.96196,     0.96296,     0.96396,     0.96496,     0.96597,     0.96697,     0.96797,     0.96897,     0.96997,     0.97097,     0.97197,     0.97297,     0.97397,     0.97497,     0.97598,     0.97698,     0.97798,     0.97898,     0.97998,     0.98098,     0.98198,     0.98298,     0.98398,\n           0.98498,     0.98599,     0.98699,     0.98799,     0.98899,     0.98999,     0.99099,     0.99199,     0.99299,     0.99399,     0.99499,       0.996,       0.997,       0.998,       0.999,           1]), array([[          1,           1,           1,           1,           1,           1,           1,           1,           1,           1,           1,           1,           1,           1,           1,           1,           1,           1,           1,           1,           1,           1,           1,\n                  1,           1,           1,           1,           1,           1,           1,           1,           1,           1,           1,           1,           1,           1,           1,           1,           1,           1,           1,           1,           1,           1,           1,\n                  1,           1,           1,           1,           1,           1,           1,           1,           1,           1,           1,           1,           1,           1,           1,           1,           1,           1,           1,           1,           1,           1,           1,\n                  1,           1,           1,           1,           1,           1,           1,           1,           1,           1,           1,           1,           1,           1,           1,           1,           1,           1,           1,           1,           1,           1,           1,\n                  1,           1,           1,           1,           1,           1,           1,           1,           1,           1,           1,           1,           1,           1,           1,           1,           1,           1,           1,           1,           1,           1,           1,\n                  1,           1,           1,           1,     0.99881,     0.99654,     0.99654,     0.99654,     0.99593,     0.99593,     0.99593,     0.99593,     0.99593,     0.99593,     0.99593,     0.99593,     0.99593,     0.99593,     0.99593,     0.99593,     0.99593,     0.99593,     0.99593,\n            0.99593,     0.99593,     0.99593,     0.99593,     0.99593,     0.99593,     0.99593,     0.99593,     0.99593,     0.99593,     0.99593,     0.99593,     0.99593,     0.99593,     0.99593,     0.99593,     0.99593,     0.99593,     0.99593,     0.99593,     0.99593,     0.99593,     0.99593,\n            0.99593,     0.99593,     0.99593,     0.99593,     0.99593,     0.99593,     0.99593,     0.99593,     0.99593,     0.99593,     0.99593,     0.99593,     0.99593,     0.99593,     0.99593,     0.99593,     0.99593,     0.99593,     0.99593,     0.99593,     0.99593,     0.99593,     0.99593,\n            0.99593,     0.99593,     0.99593,     0.99593,     0.99593,     0.99593,     0.99593,     0.99593,     0.99593,     0.99593,     0.99593,     0.99593,     0.99593,     0.99593,     0.99593,     0.99593,     0.99593,     0.99593,     0.99593,     0.99593,     0.99593,     0.99593,     0.99593,\n            0.99593,     0.99593,     0.99593,     0.99593,     0.99593,     0.99593,     0.99593,     0.99593,     0.99593,     0.99593,     0.99593,     0.99593,     0.99593,     0.99593,     0.99593,     0.99593,     0.99593,     0.99593,     0.99593,     0.99593,     0.99593,     0.99593,     0.99593,\n            0.99593,     0.99593,     0.99593,     0.99593,     0.99593,     0.99593,     0.99593,     0.99593,     0.99593,     0.99593,     0.99593,     0.99593,     0.99593,     0.99593,     0.99593,     0.99593,     0.99593,     0.99593,     0.99593,     0.99593,     0.99593,     0.99593,     0.99593,\n            0.99593,     0.99593,     0.99593,     0.99593,     0.99593,     0.99593,     0.99593,     0.99593,     0.99593,     0.99593,     0.99593,     0.99593,     0.99593,     0.99593,     0.99593,     0.99593,     0.99593,     0.99593,     0.99593,     0.99593,     0.99593,     0.99593,     0.99593,\n            0.99593,     0.99593,     0.99593,     0.99593,     0.99593,     0.99593,     0.99593,     0.99593,     0.99593,     0.99593,     0.99593,     0.99593,     0.99593,     0.99593,     0.99593,     0.99593,     0.99593,     0.99593,     0.99593,     0.99593,     0.99593,     0.99593,     0.99593,\n            0.99593,     0.99593,     0.99593,     0.99593,     0.99593,     0.99593,     0.99593,     0.99593,     0.99593,     0.99593,     0.99593,     0.99593,     0.99593,     0.99593,     0.99593,     0.99593,     0.99593,     0.99593,     0.99593,     0.99593,     0.99593,     0.99593,     0.99593,\n            0.99593,     0.99593,     0.99593,     0.99593,     0.99593,     0.99593,     0.99593,     0.99593,     0.99593,     0.99593,     0.99593,     0.99593,     0.99593,     0.99593,     0.99593,     0.99593,     0.99593,     0.99593,     0.99593,     0.99593,     0.99593,     0.99593,     0.99593,\n            0.99593,     0.99593,     0.99593,     0.99476,     0.99476,     0.99476,     0.99437,     0.99399,     0.99284,     0.99284,      0.9925,      0.9925,      0.9925,     0.99243,     0.99243,     0.99243,     0.99243,     0.99243,     0.99243,     0.99243,     0.99243,     0.99243,     0.99243,\n            0.99243,     0.99243,     0.99243,     0.99243,     0.99243,      0.9921,      0.9921,     0.99173,     0.99139,     0.99067,     0.99034,      0.9901,      0.9901,      0.9901,      0.9901,      0.9901,      0.9901,      0.9901,      0.9901,      0.9901,      0.9901,      0.9901,      0.9901,\n             0.9901,      0.9901,      0.9901,      0.9901,      0.9901,      0.9901,      0.9901,      0.9901,      0.9901,      0.9901,      0.9901,      0.9901,      0.9901,      0.9901,      0.9901,      0.9901,      0.9901,      0.9901,      0.9901,      0.9901,      0.9901,      0.9901,      0.9901,\n             0.9901,      0.9901,      0.9901,      0.9901,      0.9901,      0.9901,      0.9901,      0.9901,      0.9901,      0.9901,      0.9901,      0.9901,      0.9901,     0.98984,     0.98984,     0.98984,     0.98957,     0.98957,     0.98926,       0.989,       0.989,     0.98841,     0.98841,\n            0.98811,     0.98786,     0.98786,     0.98786,     0.98786,     0.98786,     0.98786,     0.98786,     0.98786,     0.98786,     0.98786,     0.98786,     0.98786,     0.98786,     0.98786,     0.98786,     0.98786,     0.98786,     0.98786,     0.98786,     0.98786,     0.98786,     0.98786,\n            0.98786,     0.98786,     0.98786,     0.98735,     0.98735,     0.98735,     0.98708,     0.98681,     0.98657,     0.98657,     0.98639,     0.98639,     0.98639,     0.98639,     0.98614,     0.98614,     0.98588,     0.98588,     0.98588,     0.98588,     0.98588,     0.98588,     0.98588,\n            0.98588,     0.98588,     0.98588,     0.98588,     0.98588,     0.98588,     0.98588,     0.98588,     0.98588,     0.98588,     0.98588,     0.98588,     0.98588,     0.98588,     0.98535,     0.98512,     0.98465,     0.98465,     0.98465,     0.98397,     0.98397,     0.98397,     0.98397,\n            0.98397,     0.98397,     0.98397,     0.98397,     0.98397,     0.98397,     0.98397,     0.98397,     0.98397,     0.98397,     0.98397,     0.98397,     0.98397,     0.98397,     0.98397,     0.98397,     0.98397,     0.98397,     0.98321,     0.98221,     0.98196,     0.98044,     0.98026,\n            0.98026,     0.97982,     0.97982,     0.97922,     0.97922,     0.97922,     0.97922,     0.97898,     0.97826,     0.97779,     0.97733,     0.97562,     0.97468,     0.97463,     0.97463,     0.97463,     0.97463,     0.97439,     0.97397,     0.97374,     0.97358,     0.97314,     0.97295,\n            0.97295,     0.97259,     0.97259,     0.97192,     0.97149,     0.97131,     0.97131,     0.97131,     0.97131,     0.97131,     0.97131,     0.97131,     0.97131,     0.97131,     0.97131,     0.97131,     0.97131,     0.97131,     0.97131,     0.97131,     0.97131,     0.97131,     0.97131,\n            0.97131,     0.97131,     0.97131,      0.9709,     0.97055,     0.97055,     0.97034,     0.96978,     0.96978,     0.96975,     0.96975,     0.96975,     0.96975,     0.96975,     0.96975,     0.96975,     0.96975,     0.96975,     0.96943,     0.96943,     0.96906,     0.96906,     0.96887,\n            0.96874,     0.96841,     0.96841,     0.96841,     0.96828,     0.96828,     0.96828,     0.96828,     0.96828,     0.96828,     0.96791,     0.96759,     0.96759,     0.96743,     0.96743,     0.96728,     0.96691,     0.96672,      0.9667,      0.9667,      0.9667,     0.96668,     0.96668,\n            0.96668,     0.96668,     0.96662,     0.96662,     0.96662,     0.96624,      0.9662,      0.9662,      0.9662,     0.96605,     0.96591,     0.96591,     0.96561,     0.96561,     0.96546,     0.96529,     0.96472,     0.96435,     0.96379,     0.96365,     0.96339,     0.96339,     0.96339,\n            0.96285,     0.96271,     0.96256,     0.96226,     0.96226,     0.96226,     0.96226,     0.96226,     0.96226,     0.96175,     0.96157,     0.96123,     0.96108,     0.96096,     0.96091,     0.96091,     0.96091,     0.96091,     0.96091,     0.96091,     0.96055,     0.96043,     0.96029,\n            0.96011,     0.96001,     0.95985,      0.9598,      0.9598,     0.95955,     0.95955,     0.95955,     0.95885,     0.95831,       0.958,     0.95785,     0.95776,      0.9576,      0.9574,      0.9574,      0.9574,      0.9574,      0.9574,      0.9574,      0.9574,      0.9574,      0.9574,\n             0.9574,      0.9574,      0.9574,      0.9574,      0.9574,      0.9574,      0.9574,      0.9574,      0.9574,      0.9574,      0.9574,      0.9574,      0.9574,     0.95736,     0.95736,     0.95736,     0.95714,     0.95714,     0.95704,     0.95704,     0.95693,     0.95664,     0.95664,\n            0.95664,     0.95664,     0.95664,     0.95664,     0.95664,     0.95664,     0.95664,     0.95664,     0.95664,     0.95652,     0.95652,     0.95652,     0.95652,     0.95652,     0.95652,     0.95652,     0.95652,     0.95652,     0.95652,     0.95652,     0.95652,     0.95652,     0.95652,\n            0.95652,     0.95652,     0.95652,     0.95652,     0.95652,     0.95652,     0.95652,     0.95652,     0.95652,     0.95652,     0.95652,     0.95652,     0.95652,     0.95652,     0.95652,     0.95556,     0.95541,     0.95529,     0.95529,     0.95529,     0.95529,     0.95529,     0.95529,\n            0.95394,      0.9528,     0.95051,      0.9493,      0.9493,      0.9493,      0.9493,      0.9493,      0.9493,      0.9493,      0.9493,      0.9493,      0.9493,     0.94833,     0.94725,     0.94582,     0.94393,     0.94123,     0.93793,     0.93515,     0.93505,     0.93479,      0.9343,\n             0.9343,     0.93313,     0.93272,     0.93272,     0.93272,     0.93272,     0.93272,     0.93272,     0.93272,     0.93272,     0.93272,     0.93272,     0.93272,     0.93272,     0.93272,     0.93272,     0.93272,     0.93272,     0.93272,     0.93272,     0.93272,     0.93272,     0.93272,\n            0.93272,     0.93272,     0.93272,     0.93232,      0.9319,     0.92982,     0.92982,     0.92982,     0.92982,     0.92982,     0.92982,     0.92982,     0.92982,     0.92982,     0.92982,     0.92982,     0.92982,     0.92982,     0.92982,     0.92982,     0.92982,     0.92982,     0.92982,\n            0.92982,     0.92973,     0.92906,     0.92872,     0.92863,     0.92792,     0.92792,     0.92731,     0.92723,     0.92717,     0.92693,     0.92633,     0.92623,     0.92617,     0.92597,     0.92562,     0.92538,     0.92535,     0.92498,     0.92365,     0.92343,     0.92298,     0.92235,\n            0.92183,     0.92107,     0.92028,     0.91997,     0.91907,     0.91871,     0.91855,     0.91855,     0.91855,     0.91855,     0.91855,     0.91855,     0.91855,     0.91855,     0.91855,     0.91855,     0.91855,     0.91855,     0.91855,     0.91855,     0.91855,     0.91855,     0.91855,\n            0.91855,     0.91855,     0.91855,     0.91855,     0.91855,     0.91855,     0.91855,     0.91855,     0.91825,     0.91825,     0.91825,     0.91825,     0.91825,     0.91825,     0.91825,     0.91825,     0.91825,     0.91825,     0.91825,     0.91825,     0.91825,     0.91825,     0.91825,\n            0.91825,     0.91825,     0.91803,       0.918,       0.918,       0.918,       0.918,       0.918,       0.918,       0.918,     0.91736,     0.91652,     0.91643,     0.91643,     0.91643,     0.91643,     0.91643,     0.91643,     0.91643,     0.91643,     0.91643,     0.91643,     0.91643,\n            0.91638,     0.91629,     0.91629,     0.91623,     0.91621,     0.91621,     0.91621,     0.91621,     0.91621,     0.91621,     0.91621,     0.91621,     0.91621,     0.91619,     0.91526,      0.9152,     0.91475,     0.91475,     0.91475,     0.91475,     0.91475,     0.91475,     0.91475,\n            0.91475,     0.91475,     0.91475,     0.91475,     0.91475,     0.91475,     0.91475,     0.91475,     0.91475,     0.91475,     0.91475,     0.91475,     0.91475,     0.91475,     0.91475,     0.91475,     0.91475,     0.91475,     0.91252,     0.91252,     0.91252,     0.91207,       0.912,\n              0.912,       0.912,       0.912,       0.912,       0.912,       0.912,       0.912,     0.91005,     0.91005,     0.91005,     0.91005,     0.91005,     0.90889,     0.90789,     0.90555,     0.90511,     0.90245,     0.90149,     0.90117,     0.89548,     0.89548,     0.89447,     0.89231,\n            0.89231,      0.8913,     0.87032,      0.8282,      0.8282,     0.45954,     0.36763,     0.27572,     0.18381,    0.091907,           0]]), 'Recall', 'Precision'], [array([          0,    0.001001,    0.002002,    0.003003,    0.004004,    0.005005,    0.006006,    0.007007,    0.008008,    0.009009,     0.01001,    0.011011,    0.012012,    0.013013,    0.014014,    0.015015,    0.016016,    0.017017,    0.018018,    0.019019,     0.02002,    0.021021,    0.022022,    0.023023,\n          0.024024,    0.025025,    0.026026,    0.027027,    0.028028,    0.029029,     0.03003,    0.031031,    0.032032,    0.033033,    0.034034,    0.035035,    0.036036,    0.037037,    0.038038,    0.039039,     0.04004,    0.041041,    0.042042,    0.043043,    0.044044,    0.045045,    0.046046,    0.047047,\n          0.048048,    0.049049,     0.05005,    0.051051,    0.052052,    0.053053,    0.054054,    0.055055,    0.056056,    0.057057,    0.058058,    0.059059,     0.06006,    0.061061,    0.062062,    0.063063,    0.064064,    0.065065,    0.066066,    0.067067,    0.068068,    0.069069,     0.07007,    0.071071,\n          0.072072,    0.073073,    0.074074,    0.075075,    0.076076,    0.077077,    0.078078,    0.079079,     0.08008,    0.081081,    0.082082,    0.083083,    0.084084,    0.085085,    0.086086,    0.087087,    0.088088,    0.089089,     0.09009,    0.091091,    0.092092,    0.093093,    0.094094,    0.095095,\n          0.096096,    0.097097,    0.098098,    0.099099,      0.1001,      0.1011,      0.1021,      0.1031,      0.1041,     0.10511,     0.10611,     0.10711,     0.10811,     0.10911,     0.11011,     0.11111,     0.11211,     0.11311,     0.11411,     0.11512,     0.11612,     0.11712,     0.11812,     0.11912,\n           0.12012,     0.12112,     0.12212,     0.12312,     0.12412,     0.12513,     0.12613,     0.12713,     0.12813,     0.12913,     0.13013,     0.13113,     0.13213,     0.13313,     0.13413,     0.13514,     0.13614,     0.13714,     0.13814,     0.13914,     0.14014,     0.14114,     0.14214,     0.14314,\n           0.14414,     0.14515,     0.14615,     0.14715,     0.14815,     0.14915,     0.15015,     0.15115,     0.15215,     0.15315,     0.15415,     0.15516,     0.15616,     0.15716,     0.15816,     0.15916,     0.16016,     0.16116,     0.16216,     0.16316,     0.16416,     0.16517,     0.16617,     0.16717,\n           0.16817,     0.16917,     0.17017,     0.17117,     0.17217,     0.17317,     0.17417,     0.17518,     0.17618,     0.17718,     0.17818,     0.17918,     0.18018,     0.18118,     0.18218,     0.18318,     0.18418,     0.18519,     0.18619,     0.18719,     0.18819,     0.18919,     0.19019,     0.19119,\n           0.19219,     0.19319,     0.19419,      0.1952,      0.1962,      0.1972,      0.1982,      0.1992,      0.2002,      0.2012,      0.2022,      0.2032,      0.2042,     0.20521,     0.20621,     0.20721,     0.20821,     0.20921,     0.21021,     0.21121,     0.21221,     0.21321,     0.21421,     0.21522,\n           0.21622,     0.21722,     0.21822,     0.21922,     0.22022,     0.22122,     0.22222,     0.22322,     0.22422,     0.22523,     0.22623,     0.22723,     0.22823,     0.22923,     0.23023,     0.23123,     0.23223,     0.23323,     0.23423,     0.23524,     0.23624,     0.23724,     0.23824,     0.23924,\n           0.24024,     0.24124,     0.24224,     0.24324,     0.24424,     0.24525,     0.24625,     0.24725,     0.24825,     0.24925,     0.25025,     0.25125,     0.25225,     0.25325,     0.25425,     0.25526,     0.25626,     0.25726,     0.25826,     0.25926,     0.26026,     0.26126,     0.26226,     0.26326,\n           0.26426,     0.26527,     0.26627,     0.26727,     0.26827,     0.26927,     0.27027,     0.27127,     0.27227,     0.27327,     0.27427,     0.27528,     0.27628,     0.27728,     0.27828,     0.27928,     0.28028,     0.28128,     0.28228,     0.28328,     0.28428,     0.28529,     0.28629,     0.28729,\n           0.28829,     0.28929,     0.29029,     0.29129,     0.29229,     0.29329,     0.29429,      0.2953,      0.2963,      0.2973,      0.2983,      0.2993,      0.3003,      0.3013,      0.3023,      0.3033,      0.3043,     0.30531,     0.30631,     0.30731,     0.30831,     0.30931,     0.31031,     0.31131,\n           0.31231,     0.31331,     0.31431,     0.31532,     0.31632,     0.31732,     0.31832,     0.31932,     0.32032,     0.32132,     0.32232,     0.32332,     0.32432,     0.32533,     0.32633,     0.32733,     0.32833,     0.32933,     0.33033,     0.33133,     0.33233,     0.33333,     0.33433,     0.33534,\n           0.33634,     0.33734,     0.33834,     0.33934,     0.34034,     0.34134,     0.34234,     0.34334,     0.34434,     0.34535,     0.34635,     0.34735,     0.34835,     0.34935,     0.35035,     0.35135,     0.35235,     0.35335,     0.35435,     0.35536,     0.35636,     0.35736,     0.35836,     0.35936,\n           0.36036,     0.36136,     0.36236,     0.36336,     0.36436,     0.36537,     0.36637,     0.36737,     0.36837,     0.36937,     0.37037,     0.37137,     0.37237,     0.37337,     0.37437,     0.37538,     0.37638,     0.37738,     0.37838,     0.37938,     0.38038,     0.38138,     0.38238,     0.38338,\n           0.38438,     0.38539,     0.38639,     0.38739,     0.38839,     0.38939,     0.39039,     0.39139,     0.39239,     0.39339,     0.39439,      0.3954,      0.3964,      0.3974,      0.3984,      0.3994,      0.4004,      0.4014,      0.4024,      0.4034,      0.4044,     0.40541,     0.40641,     0.40741,\n           0.40841,     0.40941,     0.41041,     0.41141,     0.41241,     0.41341,     0.41441,     0.41542,     0.41642,     0.41742,     0.41842,     0.41942,     0.42042,     0.42142,     0.42242,     0.42342,     0.42442,     0.42543,     0.42643,     0.42743,     0.42843,     0.42943,     0.43043,     0.43143,\n           0.43243,     0.43343,     0.43443,     0.43544,     0.43644,     0.43744,     0.43844,     0.43944,     0.44044,     0.44144,     0.44244,     0.44344,     0.44444,     0.44545,     0.44645,     0.44745,     0.44845,     0.44945,     0.45045,     0.45145,     0.45245,     0.45345,     0.45445,     0.45546,\n           0.45646,     0.45746,     0.45846,     0.45946,     0.46046,     0.46146,     0.46246,     0.46346,     0.46446,     0.46547,     0.46647,     0.46747,     0.46847,     0.46947,     0.47047,     0.47147,     0.47247,     0.47347,     0.47447,     0.47548,     0.47648,     0.47748,     0.47848,     0.47948,\n           0.48048,     0.48148,     0.48248,     0.48348,     0.48448,     0.48549,     0.48649,     0.48749,     0.48849,     0.48949,     0.49049,     0.49149,     0.49249,     0.49349,     0.49449,      0.4955,      0.4965,      0.4975,      0.4985,      0.4995,      0.5005,      0.5015,      0.5025,      0.5035,\n            0.5045,     0.50551,     0.50651,     0.50751,     0.50851,     0.50951,     0.51051,     0.51151,     0.51251,     0.51351,     0.51451,     0.51552,     0.51652,     0.51752,     0.51852,     0.51952,     0.52052,     0.52152,     0.52252,     0.52352,     0.52452,     0.52553,     0.52653,     0.52753,\n           0.52853,     0.52953,     0.53053,     0.53153,     0.53253,     0.53353,     0.53453,     0.53554,     0.53654,     0.53754,     0.53854,     0.53954,     0.54054,     0.54154,     0.54254,     0.54354,     0.54454,     0.54555,     0.54655,     0.54755,     0.54855,     0.54955,     0.55055,     0.55155,\n           0.55255,     0.55355,     0.55455,     0.55556,     0.55656,     0.55756,     0.55856,     0.55956,     0.56056,     0.56156,     0.56256,     0.56356,     0.56456,     0.56557,     0.56657,     0.56757,     0.56857,     0.56957,     0.57057,     0.57157,     0.57257,     0.57357,     0.57457,     0.57558,\n           0.57658,     0.57758,     0.57858,     0.57958,     0.58058,     0.58158,     0.58258,     0.58358,     0.58458,     0.58559,     0.58659,     0.58759,     0.58859,     0.58959,     0.59059,     0.59159,     0.59259,     0.59359,     0.59459,      0.5956,      0.5966,      0.5976,      0.5986,      0.5996,\n            0.6006,      0.6016,      0.6026,      0.6036,      0.6046,     0.60561,     0.60661,     0.60761,     0.60861,     0.60961,     0.61061,     0.61161,     0.61261,     0.61361,     0.61461,     0.61562,     0.61662,     0.61762,     0.61862,     0.61962,     0.62062,     0.62162,     0.62262,     0.62362,\n           0.62462,     0.62563,     0.62663,     0.62763,     0.62863,     0.62963,     0.63063,     0.63163,     0.63263,     0.63363,     0.63463,     0.63564,     0.63664,     0.63764,     0.63864,     0.63964,     0.64064,     0.64164,     0.64264,     0.64364,     0.64464,     0.64565,     0.64665,     0.64765,\n           0.64865,     0.64965,     0.65065,     0.65165,     0.65265,     0.65365,     0.65465,     0.65566,     0.65666,     0.65766,     0.65866,     0.65966,     0.66066,     0.66166,     0.66266,     0.66366,     0.66466,     0.66567,     0.66667,     0.66767,     0.66867,     0.66967,     0.67067,     0.67167,\n           0.67267,     0.67367,     0.67467,     0.67568,     0.67668,     0.67768,     0.67868,     0.67968,     0.68068,     0.68168,     0.68268,     0.68368,     0.68468,     0.68569,     0.68669,     0.68769,     0.68869,     0.68969,     0.69069,     0.69169,     0.69269,     0.69369,     0.69469,      0.6957,\n            0.6967,      0.6977,      0.6987,      0.6997,      0.7007,      0.7017,      0.7027,      0.7037,      0.7047,     0.70571,     0.70671,     0.70771,     0.70871,     0.70971,     0.71071,     0.71171,     0.71271,     0.71371,     0.71471,     0.71572,     0.71672,     0.71772,     0.71872,     0.71972,\n           0.72072,     0.72172,     0.72272,     0.72372,     0.72472,     0.72573,     0.72673,     0.72773,     0.72873,     0.72973,     0.73073,     0.73173,     0.73273,     0.73373,     0.73473,     0.73574,     0.73674,     0.73774,     0.73874,     0.73974,     0.74074,     0.74174,     0.74274,     0.74374,\n           0.74474,     0.74575,     0.74675,     0.74775,     0.74875,     0.74975,     0.75075,     0.75175,     0.75275,     0.75375,     0.75475,     0.75576,     0.75676,     0.75776,     0.75876,     0.75976,     0.76076,     0.76176,     0.76276,     0.76376,     0.76476,     0.76577,     0.76677,     0.76777,\n           0.76877,     0.76977,     0.77077,     0.77177,     0.77277,     0.77377,     0.77477,     0.77578,     0.77678,     0.77778,     0.77878,     0.77978,     0.78078,     0.78178,     0.78278,     0.78378,     0.78478,     0.78579,     0.78679,     0.78779,     0.78879,     0.78979,     0.79079,     0.79179,\n           0.79279,     0.79379,     0.79479,      0.7958,      0.7968,      0.7978,      0.7988,      0.7998,      0.8008,      0.8018,      0.8028,      0.8038,      0.8048,     0.80581,     0.80681,     0.80781,     0.80881,     0.80981,     0.81081,     0.81181,     0.81281,     0.81381,     0.81481,     0.81582,\n           0.81682,     0.81782,     0.81882,     0.81982,     0.82082,     0.82182,     0.82282,     0.82382,     0.82482,     0.82583,     0.82683,     0.82783,     0.82883,     0.82983,     0.83083,     0.83183,     0.83283,     0.83383,     0.83483,     0.83584,     0.83684,     0.83784,     0.83884,     0.83984,\n           0.84084,     0.84184,     0.84284,     0.84384,     0.84484,     0.84585,     0.84685,     0.84785,     0.84885,     0.84985,     0.85085,     0.85185,     0.85285,     0.85385,     0.85485,     0.85586,     0.85686,     0.85786,     0.85886,     0.85986,     0.86086,     0.86186,     0.86286,     0.86386,\n           0.86486,     0.86587,     0.86687,     0.86787,     0.86887,     0.86987,     0.87087,     0.87187,     0.87287,     0.87387,     0.87487,     0.87588,     0.87688,     0.87788,     0.87888,     0.87988,     0.88088,     0.88188,     0.88288,     0.88388,     0.88488,     0.88589,     0.88689,     0.88789,\n           0.88889,     0.88989,     0.89089,     0.89189,     0.89289,     0.89389,     0.89489,      0.8959,      0.8969,      0.8979,      0.8989,      0.8999,      0.9009,      0.9019,      0.9029,      0.9039,      0.9049,     0.90591,     0.90691,     0.90791,     0.90891,     0.90991,     0.91091,     0.91191,\n           0.91291,     0.91391,     0.91491,     0.91592,     0.91692,     0.91792,     0.91892,     0.91992,     0.92092,     0.92192,     0.92292,     0.92392,     0.92492,     0.92593,     0.92693,     0.92793,     0.92893,     0.92993,     0.93093,     0.93193,     0.93293,     0.93393,     0.93493,     0.93594,\n           0.93694,     0.93794,     0.93894,     0.93994,     0.94094,     0.94194,     0.94294,     0.94394,     0.94494,     0.94595,     0.94695,     0.94795,     0.94895,     0.94995,     0.95095,     0.95195,     0.95295,     0.95395,     0.95495,     0.95596,     0.95696,     0.95796,     0.95896,     0.95996,\n           0.96096,     0.96196,     0.96296,     0.96396,     0.96496,     0.96597,     0.96697,     0.96797,     0.96897,     0.96997,     0.97097,     0.97197,     0.97297,     0.97397,     0.97497,     0.97598,     0.97698,     0.97798,     0.97898,     0.97998,     0.98098,     0.98198,     0.98298,     0.98398,\n           0.98498,     0.98599,     0.98699,     0.98799,     0.98899,     0.98999,     0.99099,     0.99199,     0.99299,     0.99399,     0.99499,       0.996,       0.997,       0.998,       0.999,           1]), array([[    0.68496,     0.68496,     0.74879,     0.77924,     0.79931,     0.81274,     0.82182,     0.83311,     0.83762,     0.84623,     0.85137,     0.85398,     0.85661,      0.8603,     0.86242,     0.86399,     0.86454,     0.86508,     0.86667,      0.8683,     0.87045,     0.87207,     0.87315,\n            0.87429,     0.87591,     0.87701,     0.87864,     0.87867,     0.87976,      0.8803,     0.88031,     0.88033,     0.88034,     0.88035,     0.88141,     0.88145,     0.88197,       0.882,     0.88252,     0.88256,      0.8831,      0.8842,     0.88477,      0.8848,     0.88532,     0.88532,\n            0.88533,     0.88533,     0.88533,     0.88534,     0.88534,     0.88535,     0.88535,     0.88535,     0.88536,     0.88536,     0.88537,     0.88537,      0.8859,     0.88592,     0.88645,     0.88647,     0.88649,       0.887,     0.88701,     0.88701,     0.88702,     0.88702,     0.88703,\n            0.88703,     0.88703,     0.88704,     0.88704,     0.88705,     0.88705,     0.88757,     0.88759,     0.88761,     0.88813,     0.88813,     0.88813,     0.88814,     0.88814,     0.88815,     0.88815,     0.88815,     0.88816,     0.88816,     0.88816,     0.88817,     0.88817,     0.88818,\n            0.88818,     0.88869,      0.8887,     0.88871,     0.88872,     0.88873,     0.88874,     0.88983,     0.88985,     0.89039,     0.89042,     0.89044,     0.89096,     0.89097,     0.89098,     0.89099,       0.891,     0.89101,     0.89153,     0.89154,     0.89155,     0.89156,     0.89157,\n            0.89158,      0.8921,      0.8921,     0.89211,     0.89212,     0.89212,     0.89213,     0.89213,     0.89214,     0.89214,     0.89266,     0.89267,     0.89267,     0.89267,     0.89267,     0.89267,     0.89268,     0.89268,     0.89268,     0.89268,     0.89269,     0.89269,     0.89269,\n            0.89269,     0.89269,      0.8927,      0.8927,      0.8927,      0.8927,     0.89271,     0.89271,     0.89271,     0.89271,     0.89271,     0.89272,     0.89272,     0.89325,     0.89327,     0.89381,     0.89381,     0.89382,     0.89383,     0.89384,     0.89385,     0.89386,     0.89495,\n            0.89496,     0.89497,     0.89498,     0.89499,     0.89499,       0.895,     0.89553,     0.89554,     0.89554,     0.89555,     0.89556,     0.89557,     0.89558,     0.89614,     0.89668,     0.89669,      0.8967,     0.89671,     0.89671,     0.89672,     0.89725,     0.89725,     0.89725,\n            0.89726,     0.89726,     0.89726,     0.89726,     0.89727,     0.89727,     0.89727,     0.89727,     0.89728,     0.89728,     0.89728,     0.89728,     0.89729,     0.89729,     0.89729,     0.89729,      0.8973,      0.8973,      0.8973,     0.89782,     0.89783,     0.89784,     0.89785,\n            0.89786,     0.89787,     0.89787,      0.8984,     0.89841,     0.89842,     0.89843,     0.89845,     0.89846,     0.89898,     0.89898,     0.89899,     0.89899,     0.89899,     0.89899,       0.899,       0.899,       0.899,       0.899,     0.89901,     0.89901,     0.89901,     0.89901,\n            0.89902,     0.89902,     0.89902,     0.89902,     0.89903,     0.89903,     0.89903,     0.89956,     0.89956,     0.89957,     0.89957,     0.89958,     0.89958,     0.89959,     0.89959,      0.8996,      0.8996,     0.89961,     0.89961,     0.90014,     0.90016,     0.90017,     0.90018,\n            0.90072,     0.90072,     0.90073,     0.90073,     0.90074,     0.90074,     0.90075,     0.90075,     0.90076,     0.90077,     0.90077,      0.9013,      0.9013,     0.90131,     0.90131,     0.90131,     0.90132,     0.90132,     0.90132,     0.90133,     0.90133,     0.90134,     0.90134,\n            0.90134,     0.90135,     0.90135,     0.90188,     0.90188,     0.90189,     0.90189,      0.9019,      0.9019,      0.9019,     0.90191,     0.90191,     0.90192,     0.90192,     0.90193,     0.90193,     0.90193,     0.90246,     0.90246,     0.90246,     0.90247,     0.90247,     0.90247,\n            0.90247,     0.90247,     0.90247,     0.90247,     0.90248,     0.90248,     0.90248,     0.90248,     0.90248,     0.90248,     0.90248,     0.90249,     0.90249,     0.90249,     0.90249,     0.90249,     0.90249,     0.90249,      0.9025,      0.9025,      0.9025,      0.9025,      0.9025,\n             0.9025,      0.9025,     0.90251,     0.90251,     0.90251,     0.90251,     0.90251,     0.90251,     0.90252,     0.90252,     0.90305,     0.90306,     0.90307,     0.90309,      0.9031,     0.90363,     0.90364,     0.90365,     0.90366,     0.90367,     0.90368,     0.90304,     0.90303,\n            0.90302,     0.90301,       0.903,     0.90299,     0.90298,      0.9035,     0.90351,     0.90351,     0.90351,     0.90352,     0.90352,     0.90353,     0.90353,     0.90353,     0.90354,     0.90354,     0.90354,     0.90355,     0.90355,     0.90355,     0.90356,     0.90411,     0.90414,\n            0.90468,     0.90468,     0.90468,     0.90469,     0.90469,     0.90469,     0.90469,      0.9047,      0.9047,      0.9047,     0.90471,     0.90471,     0.90471,     0.90472,     0.90472,     0.90472,     0.90473,     0.90473,     0.90526,     0.90526,     0.90527,     0.90527,     0.90527,\n            0.90527,     0.90528,     0.90528,     0.90528,     0.90528,     0.90529,     0.90529,     0.90529,     0.90529,      0.9053,      0.9053,      0.9053,      0.9053,     0.90531,     0.90531,     0.90531,     0.90531,     0.90532,     0.90585,     0.90585,     0.90586,     0.90587,     0.90588,\n            0.90588,     0.90589,      0.9059,      0.9059,     0.90646,     0.90649,     0.90705,     0.90708,     0.90762,     0.90762,     0.90762,     0.90762,     0.90762,     0.90763,     0.90763,     0.90763,     0.90763,     0.90764,     0.90764,     0.90764,     0.90764,     0.90764,     0.90765,\n            0.90765,     0.90765,     0.90765,     0.90766,     0.90766,     0.90766,     0.90766,     0.90767,     0.90767,     0.90767,     0.90767,      0.9088,      0.9088,     0.90881,     0.90881,     0.90881,     0.90882,     0.90882,     0.90882,     0.90883,     0.90883,     0.90883,     0.90884,\n            0.90884,     0.90885,     0.90885,     0.90885,      0.9094,     0.90942,     0.90944,     0.90998,     0.90998,     0.90999,     0.90999,     0.90999,     0.90999,        0.91,        0.91,        0.91,     0.91001,     0.91001,     0.91001,     0.91001,     0.91002,     0.91002,     0.91002,\n            0.91002,     0.91003,     0.91003,     0.91003,     0.91003,     0.91004,     0.91058,     0.91058,     0.91059,      0.9106,     0.91061,     0.91061,     0.91062,     0.91063,     0.91117,     0.91117,     0.91117,     0.91118,     0.91118,     0.91118,     0.91118,     0.91119,     0.91119,\n            0.91119,     0.91119,      0.9112,      0.9112,      0.9112,      0.9112,     0.91121,     0.91121,     0.91121,     0.91121,     0.91122,     0.91122,     0.91122,     0.91122,     0.91176,     0.91176,     0.91177,     0.91177,     0.91177,     0.91177,     0.91177,     0.91178,     0.91178,\n            0.91178,     0.91178,     0.91178,     0.91179,     0.91179,     0.91179,     0.91179,     0.91179,     0.91179,      0.9118,      0.9118,      0.9118,      0.9118,      0.9118,     0.91181,     0.91181,     0.91181,     0.91181,     0.91181,     0.91181,     0.91182,     0.91182,     0.91182,\n            0.91182,     0.91237,     0.91239,      0.9124,     0.91242,     0.91298,       0.913,     0.91356,     0.91356,     0.91357,     0.91358,     0.91358,     0.91359,      0.9136,      0.9136,     0.91361,     0.91419,     0.91477,      0.9148,     0.91537,     0.91539,     0.91541,     0.91596,\n            0.91597,     0.91599,       0.916,     0.91601,     0.91657,     0.91658,     0.91659,     0.91661,     0.91717,      0.9172,     0.91776,     0.91776,     0.91777,     0.91777,     0.91778,     0.91778,     0.91779,     0.91779,     0.91779,      0.9178,      0.9178,     0.91781,     0.91781,\n            0.91781,     0.91836,     0.91837,     0.91837,     0.91838,     0.91838,     0.91839,     0.91839,     0.91839,      0.9184,      0.9184,     0.91841,     0.91841,     0.91842,     0.91957,     0.91959,      0.9196,     0.91961,     0.91962,     0.91963,     0.92019,      0.9202,     0.92021,\n            0.92023,     0.92078,     0.92079,      0.9208,     0.92081,     0.92082,     0.92083,     0.92084,     0.92201,     0.92201,     0.92202,     0.92203,     0.92204,     0.92205,     0.92206,     0.92262,     0.92263,     0.92265,     0.92267,     0.92323,     0.92323,     0.92324,     0.92324,\n            0.92325,     0.92326,     0.92326,     0.92327,     0.92328,     0.92444,     0.92445,     0.92446,     0.92446,     0.92447,     0.92448,     0.92449,     0.92449,      0.9245,     0.92506,     0.92507,     0.92508,     0.92509,     0.92511,     0.92567,     0.92567,     0.92568,     0.92569,\n            0.92569,      0.9257,      0.9257,     0.92571,     0.92572,     0.92572,     0.92573,     0.92634,     0.92695,     0.92754,     0.92756,     0.92693,     0.92692,     0.92691,      0.9269,     0.92689,     0.92688,     0.92687,     0.92686,     0.92744,     0.92804,     0.92806,     0.92809,\n             0.9287,     0.92928,     0.92928,     0.92929,     0.92929,      0.9293,      0.9293,     0.92931,     0.92932,     0.92932,     0.92933,     0.92989,     0.92992,     0.92994,     0.93052,     0.93052,     0.93053,     0.93054,     0.93055,     0.93055,     0.93056,     0.93057,     0.93115,\n            0.93119,     0.93239,      0.9324,     0.93241,     0.93242,     0.93243,     0.93244,     0.93301,     0.93302,     0.93303,     0.93304,     0.93305,     0.93306,     0.93363,     0.93365,     0.93367,     0.93426,     0.93427,     0.93429,      0.9343,     0.93431,     0.93489,     0.93489,\n             0.9349,     0.93491,     0.93492,     0.93492,     0.93493,     0.93494,     0.93551,     0.93553,     0.93554,     0.93555,     0.93557,     0.93614,     0.93619,     0.93741,     0.93743,     0.93745,     0.93803,     0.93803,     0.93804,     0.93804,     0.93805,     0.93805,     0.93806,\n            0.93806,     0.93807,     0.93807,     0.93808,     0.93808,     0.93866,     0.93871,     0.93805,     0.93858,     0.93861,     0.93799,     0.93798,     0.93796,     0.93795,     0.93793,      0.9385,     0.93852,     0.93854,     0.93913,     0.93913,     0.93914,     0.93914,     0.93915,\n            0.93915,     0.93916,     0.93916,     0.93917,     0.93917,     0.93918,     0.93918,     0.93919,     0.93854,     0.93851,     0.93848,      0.9391,     0.93845,     0.93844,     0.93842,     0.93841,      0.9384,     0.93962,     0.94024,     0.94025,     0.94027,     0.94029,      0.9409,\n            0.94152,     0.94154,     0.94157,     0.94092,      0.9409,     0.94089,     0.94087,     0.94086,     0.94137,      0.9414,     0.94202,     0.94202,     0.94131,     0.94126,     0.94254,     0.94101,     0.94098,     0.94095,     0.94091,     0.94088,     0.94145,     0.94009,     0.93791,\n            0.93789,     0.93787,     0.93785,     0.93632,     0.93756,      0.9369,     0.93468,     0.93319,     0.92868,     0.92561,     0.92556,     0.92462,     0.92087,     0.91832,     0.91383,      0.9128,     0.90562,     0.90245,     0.90085,     0.89509,     0.88861,     0.88563,     0.88331,\n            0.88142,     0.87773,     0.87587,     0.86992,     0.86647,       0.865,     0.85803,     0.85251,     0.84938,      0.8517,     0.84551,     0.84269,     0.84058,     0.83501,     0.82749,     0.82149,     0.81053,     0.79204,      0.7855,     0.77794,      0.7668,     0.75243,     0.74324,\n            0.73053,     0.72324,     0.70011,     0.69301,     0.68339,     0.66729,      0.6451,     0.62997,     0.60838,     0.59234,      0.5724,     0.55929,     0.53896,     0.52674,     0.50062,     0.49097,      0.4812,     0.46295,     0.45451,     0.42335,     0.40729,     0.38351,     0.36091,\n             0.3416,     0.33374,     0.32181,     0.30176,     0.29145,     0.27469,     0.25328,      0.2269,     0.21136,     0.19982,      0.1836,     0.17646,     0.14279,     0.12801,     0.12042,     0.10529,     0.10264,    0.081922,    0.071358,    0.047264,     0.02531,    0.019726,    0.017135,\n           0.017063,    0.016992,    0.011576,   0.0087764,   0.0087319,   0.0086874,   0.0086429,   0.0085985,    0.008554,   0.0085095,   0.0058108,     0.00304,           0,           0,           0,           0,           0,           0,           0,           0,           0,           0,           0,\n                  0,           0,           0,           0,           0,           0,           0,           0,           0,           0,           0,           0,           0,           0,           0,           0,           0,           0,           0,           0,           0,           0,           0,\n                  0,           0,           0,           0,           0,           0,           0,           0,           0,           0,           0,           0,           0,           0,           0,           0,           0,           0,           0,           0,           0,           0,           0,\n                  0,           0,           0,           0,           0,           0,           0,           0,           0,           0,           0]]), 'Confidence', 'F1'], [array([          0,    0.001001,    0.002002,    0.003003,    0.004004,    0.005005,    0.006006,    0.007007,    0.008008,    0.009009,     0.01001,    0.011011,    0.012012,    0.013013,    0.014014,    0.015015,    0.016016,    0.017017,    0.018018,    0.019019,     0.02002,    0.021021,    0.022022,    0.023023,\n          0.024024,    0.025025,    0.026026,    0.027027,    0.028028,    0.029029,     0.03003,    0.031031,    0.032032,    0.033033,    0.034034,    0.035035,    0.036036,    0.037037,    0.038038,    0.039039,     0.04004,    0.041041,    0.042042,    0.043043,    0.044044,    0.045045,    0.046046,    0.047047,\n          0.048048,    0.049049,     0.05005,    0.051051,    0.052052,    0.053053,    0.054054,    0.055055,    0.056056,    0.057057,    0.058058,    0.059059,     0.06006,    0.061061,    0.062062,    0.063063,    0.064064,    0.065065,    0.066066,    0.067067,    0.068068,    0.069069,     0.07007,    0.071071,\n          0.072072,    0.073073,    0.074074,    0.075075,    0.076076,    0.077077,    0.078078,    0.079079,     0.08008,    0.081081,    0.082082,    0.083083,    0.084084,    0.085085,    0.086086,    0.087087,    0.088088,    0.089089,     0.09009,    0.091091,    0.092092,    0.093093,    0.094094,    0.095095,\n          0.096096,    0.097097,    0.098098,    0.099099,      0.1001,      0.1011,      0.1021,      0.1031,      0.1041,     0.10511,     0.10611,     0.10711,     0.10811,     0.10911,     0.11011,     0.11111,     0.11211,     0.11311,     0.11411,     0.11512,     0.11612,     0.11712,     0.11812,     0.11912,\n           0.12012,     0.12112,     0.12212,     0.12312,     0.12412,     0.12513,     0.12613,     0.12713,     0.12813,     0.12913,     0.13013,     0.13113,     0.13213,     0.13313,     0.13413,     0.13514,     0.13614,     0.13714,     0.13814,     0.13914,     0.14014,     0.14114,     0.14214,     0.14314,\n           0.14414,     0.14515,     0.14615,     0.14715,     0.14815,     0.14915,     0.15015,     0.15115,     0.15215,     0.15315,     0.15415,     0.15516,     0.15616,     0.15716,     0.15816,     0.15916,     0.16016,     0.16116,     0.16216,     0.16316,     0.16416,     0.16517,     0.16617,     0.16717,\n           0.16817,     0.16917,     0.17017,     0.17117,     0.17217,     0.17317,     0.17417,     0.17518,     0.17618,     0.17718,     0.17818,     0.17918,     0.18018,     0.18118,     0.18218,     0.18318,     0.18418,     0.18519,     0.18619,     0.18719,     0.18819,     0.18919,     0.19019,     0.19119,\n           0.19219,     0.19319,     0.19419,      0.1952,      0.1962,      0.1972,      0.1982,      0.1992,      0.2002,      0.2012,      0.2022,      0.2032,      0.2042,     0.20521,     0.20621,     0.20721,     0.20821,     0.20921,     0.21021,     0.21121,     0.21221,     0.21321,     0.21421,     0.21522,\n           0.21622,     0.21722,     0.21822,     0.21922,     0.22022,     0.22122,     0.22222,     0.22322,     0.22422,     0.22523,     0.22623,     0.22723,     0.22823,     0.22923,     0.23023,     0.23123,     0.23223,     0.23323,     0.23423,     0.23524,     0.23624,     0.23724,     0.23824,     0.23924,\n           0.24024,     0.24124,     0.24224,     0.24324,     0.24424,     0.24525,     0.24625,     0.24725,     0.24825,     0.24925,     0.25025,     0.25125,     0.25225,     0.25325,     0.25425,     0.25526,     0.25626,     0.25726,     0.25826,     0.25926,     0.26026,     0.26126,     0.26226,     0.26326,\n           0.26426,     0.26527,     0.26627,     0.26727,     0.26827,     0.26927,     0.27027,     0.27127,     0.27227,     0.27327,     0.27427,     0.27528,     0.27628,     0.27728,     0.27828,     0.27928,     0.28028,     0.28128,     0.28228,     0.28328,     0.28428,     0.28529,     0.28629,     0.28729,\n           0.28829,     0.28929,     0.29029,     0.29129,     0.29229,     0.29329,     0.29429,      0.2953,      0.2963,      0.2973,      0.2983,      0.2993,      0.3003,      0.3013,      0.3023,      0.3033,      0.3043,     0.30531,     0.30631,     0.30731,     0.30831,     0.30931,     0.31031,     0.31131,\n           0.31231,     0.31331,     0.31431,     0.31532,     0.31632,     0.31732,     0.31832,     0.31932,     0.32032,     0.32132,     0.32232,     0.32332,     0.32432,     0.32533,     0.32633,     0.32733,     0.32833,     0.32933,     0.33033,     0.33133,     0.33233,     0.33333,     0.33433,     0.33534,\n           0.33634,     0.33734,     0.33834,     0.33934,     0.34034,     0.34134,     0.34234,     0.34334,     0.34434,     0.34535,     0.34635,     0.34735,     0.34835,     0.34935,     0.35035,     0.35135,     0.35235,     0.35335,     0.35435,     0.35536,     0.35636,     0.35736,     0.35836,     0.35936,\n           0.36036,     0.36136,     0.36236,     0.36336,     0.36436,     0.36537,     0.36637,     0.36737,     0.36837,     0.36937,     0.37037,     0.37137,     0.37237,     0.37337,     0.37437,     0.37538,     0.37638,     0.37738,     0.37838,     0.37938,     0.38038,     0.38138,     0.38238,     0.38338,\n           0.38438,     0.38539,     0.38639,     0.38739,     0.38839,     0.38939,     0.39039,     0.39139,     0.39239,     0.39339,     0.39439,      0.3954,      0.3964,      0.3974,      0.3984,      0.3994,      0.4004,      0.4014,      0.4024,      0.4034,      0.4044,     0.40541,     0.40641,     0.40741,\n           0.40841,     0.40941,     0.41041,     0.41141,     0.41241,     0.41341,     0.41441,     0.41542,     0.41642,     0.41742,     0.41842,     0.41942,     0.42042,     0.42142,     0.42242,     0.42342,     0.42442,     0.42543,     0.42643,     0.42743,     0.42843,     0.42943,     0.43043,     0.43143,\n           0.43243,     0.43343,     0.43443,     0.43544,     0.43644,     0.43744,     0.43844,     0.43944,     0.44044,     0.44144,     0.44244,     0.44344,     0.44444,     0.44545,     0.44645,     0.44745,     0.44845,     0.44945,     0.45045,     0.45145,     0.45245,     0.45345,     0.45445,     0.45546,\n           0.45646,     0.45746,     0.45846,     0.45946,     0.46046,     0.46146,     0.46246,     0.46346,     0.46446,     0.46547,     0.46647,     0.46747,     0.46847,     0.46947,     0.47047,     0.47147,     0.47247,     0.47347,     0.47447,     0.47548,     0.47648,     0.47748,     0.47848,     0.47948,\n           0.48048,     0.48148,     0.48248,     0.48348,     0.48448,     0.48549,     0.48649,     0.48749,     0.48849,     0.48949,     0.49049,     0.49149,     0.49249,     0.49349,     0.49449,      0.4955,      0.4965,      0.4975,      0.4985,      0.4995,      0.5005,      0.5015,      0.5025,      0.5035,\n            0.5045,     0.50551,     0.50651,     0.50751,     0.50851,     0.50951,     0.51051,     0.51151,     0.51251,     0.51351,     0.51451,     0.51552,     0.51652,     0.51752,     0.51852,     0.51952,     0.52052,     0.52152,     0.52252,     0.52352,     0.52452,     0.52553,     0.52653,     0.52753,\n           0.52853,     0.52953,     0.53053,     0.53153,     0.53253,     0.53353,     0.53453,     0.53554,     0.53654,     0.53754,     0.53854,     0.53954,     0.54054,     0.54154,     0.54254,     0.54354,     0.54454,     0.54555,     0.54655,     0.54755,     0.54855,     0.54955,     0.55055,     0.55155,\n           0.55255,     0.55355,     0.55455,     0.55556,     0.55656,     0.55756,     0.55856,     0.55956,     0.56056,     0.56156,     0.56256,     0.56356,     0.56456,     0.56557,     0.56657,     0.56757,     0.56857,     0.56957,     0.57057,     0.57157,     0.57257,     0.57357,     0.57457,     0.57558,\n           0.57658,     0.57758,     0.57858,     0.57958,     0.58058,     0.58158,     0.58258,     0.58358,     0.58458,     0.58559,     0.58659,     0.58759,     0.58859,     0.58959,     0.59059,     0.59159,     0.59259,     0.59359,     0.59459,      0.5956,      0.5966,      0.5976,      0.5986,      0.5996,\n            0.6006,      0.6016,      0.6026,      0.6036,      0.6046,     0.60561,     0.60661,     0.60761,     0.60861,     0.60961,     0.61061,     0.61161,     0.61261,     0.61361,     0.61461,     0.61562,     0.61662,     0.61762,     0.61862,     0.61962,     0.62062,     0.62162,     0.62262,     0.62362,\n           0.62462,     0.62563,     0.62663,     0.62763,     0.62863,     0.62963,     0.63063,     0.63163,     0.63263,     0.63363,     0.63463,     0.63564,     0.63664,     0.63764,     0.63864,     0.63964,     0.64064,     0.64164,     0.64264,     0.64364,     0.64464,     0.64565,     0.64665,     0.64765,\n           0.64865,     0.64965,     0.65065,     0.65165,     0.65265,     0.65365,     0.65465,     0.65566,     0.65666,     0.65766,     0.65866,     0.65966,     0.66066,     0.66166,     0.66266,     0.66366,     0.66466,     0.66567,     0.66667,     0.66767,     0.66867,     0.66967,     0.67067,     0.67167,\n           0.67267,     0.67367,     0.67467,     0.67568,     0.67668,     0.67768,     0.67868,     0.67968,     0.68068,     0.68168,     0.68268,     0.68368,     0.68468,     0.68569,     0.68669,     0.68769,     0.68869,     0.68969,     0.69069,     0.69169,     0.69269,     0.69369,     0.69469,      0.6957,\n            0.6967,      0.6977,      0.6987,      0.6997,      0.7007,      0.7017,      0.7027,      0.7037,      0.7047,     0.70571,     0.70671,     0.70771,     0.70871,     0.70971,     0.71071,     0.71171,     0.71271,     0.71371,     0.71471,     0.71572,     0.71672,     0.71772,     0.71872,     0.71972,\n           0.72072,     0.72172,     0.72272,     0.72372,     0.72472,     0.72573,     0.72673,     0.72773,     0.72873,     0.72973,     0.73073,     0.73173,     0.73273,     0.73373,     0.73473,     0.73574,     0.73674,     0.73774,     0.73874,     0.73974,     0.74074,     0.74174,     0.74274,     0.74374,\n           0.74474,     0.74575,     0.74675,     0.74775,     0.74875,     0.74975,     0.75075,     0.75175,     0.75275,     0.75375,     0.75475,     0.75576,     0.75676,     0.75776,     0.75876,     0.75976,     0.76076,     0.76176,     0.76276,     0.76376,     0.76476,     0.76577,     0.76677,     0.76777,\n           0.76877,     0.76977,     0.77077,     0.77177,     0.77277,     0.77377,     0.77477,     0.77578,     0.77678,     0.77778,     0.77878,     0.77978,     0.78078,     0.78178,     0.78278,     0.78378,     0.78478,     0.78579,     0.78679,     0.78779,     0.78879,     0.78979,     0.79079,     0.79179,\n           0.79279,     0.79379,     0.79479,      0.7958,      0.7968,      0.7978,      0.7988,      0.7998,      0.8008,      0.8018,      0.8028,      0.8038,      0.8048,     0.80581,     0.80681,     0.80781,     0.80881,     0.80981,     0.81081,     0.81181,     0.81281,     0.81381,     0.81481,     0.81582,\n           0.81682,     0.81782,     0.81882,     0.81982,     0.82082,     0.82182,     0.82282,     0.82382,     0.82482,     0.82583,     0.82683,     0.82783,     0.82883,     0.82983,     0.83083,     0.83183,     0.83283,     0.83383,     0.83483,     0.83584,     0.83684,     0.83784,     0.83884,     0.83984,\n           0.84084,     0.84184,     0.84284,     0.84384,     0.84484,     0.84585,     0.84685,     0.84785,     0.84885,     0.84985,     0.85085,     0.85185,     0.85285,     0.85385,     0.85485,     0.85586,     0.85686,     0.85786,     0.85886,     0.85986,     0.86086,     0.86186,     0.86286,     0.86386,\n           0.86486,     0.86587,     0.86687,     0.86787,     0.86887,     0.86987,     0.87087,     0.87187,     0.87287,     0.87387,     0.87487,     0.87588,     0.87688,     0.87788,     0.87888,     0.87988,     0.88088,     0.88188,     0.88288,     0.88388,     0.88488,     0.88589,     0.88689,     0.88789,\n           0.88889,     0.88989,     0.89089,     0.89189,     0.89289,     0.89389,     0.89489,      0.8959,      0.8969,      0.8979,      0.8989,      0.8999,      0.9009,      0.9019,      0.9029,      0.9039,      0.9049,     0.90591,     0.90691,     0.90791,     0.90891,     0.90991,     0.91091,     0.91191,\n           0.91291,     0.91391,     0.91491,     0.91592,     0.91692,     0.91792,     0.91892,     0.91992,     0.92092,     0.92192,     0.92292,     0.92392,     0.92492,     0.92593,     0.92693,     0.92793,     0.92893,     0.92993,     0.93093,     0.93193,     0.93293,     0.93393,     0.93493,     0.93594,\n           0.93694,     0.93794,     0.93894,     0.93994,     0.94094,     0.94194,     0.94294,     0.94394,     0.94494,     0.94595,     0.94695,     0.94795,     0.94895,     0.94995,     0.95095,     0.95195,     0.95295,     0.95395,     0.95495,     0.95596,     0.95696,     0.95796,     0.95896,     0.95996,\n           0.96096,     0.96196,     0.96296,     0.96396,     0.96496,     0.96597,     0.96697,     0.96797,     0.96897,     0.96997,     0.97097,     0.97197,     0.97297,     0.97397,     0.97497,     0.97598,     0.97698,     0.97798,     0.97898,     0.97998,     0.98098,     0.98198,     0.98298,     0.98398,\n           0.98498,     0.98599,     0.98699,     0.98799,     0.98899,     0.98999,     0.99099,     0.99199,     0.99299,     0.99399,     0.99499,       0.996,       0.997,       0.998,       0.999,           1]), array([[    0.52242,     0.52242,     0.60051,     0.64066,     0.66826,     0.68725,     0.70034,     0.71689,     0.72359,     0.73654,     0.74437,     0.74837,     0.75241,     0.75813,     0.76143,     0.76387,     0.76473,     0.76558,     0.76807,     0.77063,     0.77402,      0.7766,     0.77832,\n            0.78012,      0.7827,     0.78446,     0.78708,     0.78713,     0.78888,     0.78975,     0.78977,     0.78979,      0.7898,     0.78982,     0.79154,     0.79159,     0.79244,     0.79248,     0.79333,     0.79339,     0.79426,     0.79605,     0.79698,     0.79703,     0.79786,     0.79787,\n            0.79787,     0.79788,     0.79789,     0.79789,      0.7979,     0.79791,     0.79791,     0.79792,     0.79793,     0.79793,     0.79794,     0.79795,      0.7988,     0.79884,      0.7997,     0.79973,     0.79976,      0.8006,     0.80061,     0.80062,     0.80062,     0.80063,     0.80064,\n            0.80065,     0.80065,     0.80066,     0.80067,     0.80067,     0.80068,     0.80152,     0.80155,     0.80158,     0.80244,     0.80244,     0.80245,     0.80245,     0.80246,     0.80247,     0.80247,     0.80248,     0.80248,     0.80249,      0.8025,      0.8025,     0.80251,     0.80251,\n            0.80252,     0.80336,     0.80337,     0.80339,     0.80341,     0.80343,     0.80344,     0.80521,     0.80526,     0.80614,     0.80618,     0.80622,     0.80708,      0.8071,     0.80711,     0.80713,     0.80714,     0.80716,     0.80801,     0.80803,     0.80804,     0.80806,     0.80808,\n            0.80809,     0.80894,     0.80895,     0.80896,     0.80897,     0.80898,     0.80899,       0.809,     0.80901,     0.80902,     0.80987,     0.80988,     0.80988,     0.80988,     0.80989,     0.80989,     0.80989,      0.8099,      0.8099,      0.8099,     0.80991,     0.80991,     0.80992,\n            0.80992,     0.80992,     0.80993,     0.80993,     0.80993,     0.80994,     0.80994,     0.80995,     0.80995,     0.80995,     0.80996,     0.80996,     0.80996,     0.81083,     0.81087,     0.81175,     0.81177,     0.81178,      0.8118,     0.81182,     0.81183,     0.81185,     0.81365,\n            0.81366,     0.81368,     0.81369,      0.8137,     0.81372,     0.81373,      0.8146,     0.81461,     0.81463,     0.81464,     0.81465,     0.81467,     0.81468,     0.81561,      0.8165,     0.81652,     0.81654,     0.81655,     0.81657,     0.81658,     0.81745,     0.81745,     0.81746,\n            0.81746,     0.81747,     0.81747,     0.81748,     0.81748,     0.81748,     0.81749,     0.81749,      0.8175,      0.8175,     0.81751,     0.81751,     0.81751,     0.81752,     0.81752,     0.81753,     0.81753,     0.81754,     0.81754,     0.81841,     0.81842,     0.81843,     0.81845,\n            0.81846,     0.81848,     0.81849,     0.81937,     0.81939,      0.8194,     0.81942,     0.81944,     0.81946,     0.82033,     0.82033,     0.82034,     0.82034,     0.82035,     0.82035,     0.82036,     0.82036,     0.82037,     0.82037,     0.82037,     0.82038,     0.82038,     0.82039,\n            0.82039,      0.8204,      0.8204,     0.82041,     0.82041,     0.82041,     0.82042,     0.82129,      0.8213,     0.82131,     0.82132,     0.82132,     0.82133,     0.82134,     0.82135,     0.82136,     0.82137,     0.82137,     0.82138,     0.82227,     0.82229,     0.82231,     0.82233,\n            0.82323,     0.82323,     0.82324,     0.82325,     0.82326,     0.82327,     0.82328,     0.82329,      0.8233,     0.82331,     0.82332,      0.8242,     0.82421,     0.82421,     0.82422,     0.82422,     0.82423,     0.82424,     0.82424,     0.82425,     0.82426,     0.82426,     0.82427,\n            0.82427,     0.82428,     0.82429,     0.82517,     0.82518,     0.82518,     0.82519,      0.8252,     0.82521,     0.82521,     0.82522,     0.82523,     0.82524,     0.82524,     0.82525,     0.82526,     0.82526,     0.82615,     0.82615,     0.82615,     0.82615,     0.82616,     0.82616,\n            0.82616,     0.82616,     0.82617,     0.82617,     0.82617,     0.82617,     0.82618,     0.82618,     0.82618,     0.82618,     0.82619,     0.82619,     0.82619,     0.82619,     0.82619,      0.8262,      0.8262,      0.8262,      0.8262,     0.82621,     0.82621,     0.82621,     0.82621,\n            0.82622,     0.82622,     0.82622,     0.82622,     0.82623,     0.82623,     0.82623,     0.82623,     0.82624,     0.82624,     0.82713,     0.82715,     0.82717,     0.82719,     0.82722,     0.82812,     0.82813,     0.82815,     0.82816,     0.82818,      0.8282,     0.82801,     0.82801,\n            0.82801,       0.828,       0.828,       0.828,       0.828,     0.82888,     0.82889,      0.8289,      0.8289,     0.82891,     0.82892,     0.82892,     0.82893,     0.82893,     0.82894,     0.82895,     0.82895,     0.82896,     0.82896,     0.82897,     0.82898,      0.8299,     0.82996,\n            0.83086,     0.83086,     0.83087,     0.83087,     0.83088,     0.83089,     0.83089,      0.8309,      0.8309,     0.83091,     0.83091,     0.83092,     0.83092,     0.83093,     0.83093,     0.83094,     0.83095,     0.83095,     0.83185,     0.83185,     0.83185,     0.83186,     0.83186,\n            0.83187,     0.83187,     0.83188,     0.83188,     0.83188,     0.83189,     0.83189,      0.8319,      0.8319,     0.83191,     0.83191,     0.83191,     0.83192,     0.83192,     0.83193,     0.83193,     0.83194,     0.83194,     0.83284,     0.83285,     0.83286,     0.83287,     0.83289,\n             0.8329,     0.83291,     0.83292,     0.83293,     0.83387,     0.83392,     0.83487,     0.83492,     0.83583,     0.83583,     0.83584,     0.83584,     0.83585,     0.83585,     0.83585,     0.83586,     0.83586,     0.83587,     0.83587,     0.83587,     0.83588,     0.83588,     0.83589,\n            0.83589,     0.83589,      0.8359,      0.8359,      0.8359,     0.83591,     0.83591,     0.83592,     0.83592,     0.83592,     0.83593,     0.83784,     0.83785,     0.83785,     0.83786,     0.83786,     0.83787,     0.83788,     0.83788,     0.83789,      0.8379,      0.8379,     0.83791,\n            0.83791,     0.83792,     0.83793,     0.83793,     0.83886,      0.8389,     0.83893,     0.83985,     0.83986,     0.83986,     0.83987,     0.83987,     0.83988,     0.83988,     0.83989,     0.83989,     0.83989,      0.8399,      0.8399,     0.83991,     0.83991,     0.83992,     0.83992,\n            0.83993,     0.83993,     0.83993,     0.83994,     0.83994,     0.83995,     0.84087,     0.84088,     0.84089,      0.8409,     0.84092,     0.84093,     0.84094,     0.84096,     0.84188,     0.84188,     0.84189,     0.84189,      0.8419,      0.8419,      0.8419,     0.84191,     0.84191,\n            0.84192,     0.84192,     0.84193,     0.84193,     0.84193,     0.84194,     0.84194,     0.84195,     0.84195,     0.84196,     0.84196,     0.84197,     0.84197,     0.84197,     0.84289,      0.8429,      0.8429,      0.8429,     0.84291,     0.84291,     0.84291,     0.84292,     0.84292,\n            0.84292,     0.84293,     0.84293,     0.84293,     0.84293,     0.84294,     0.84294,     0.84294,     0.84295,     0.84295,     0.84295,     0.84296,     0.84296,     0.84296,     0.84297,     0.84297,     0.84297,     0.84298,     0.84298,     0.84298,     0.84299,     0.84299,     0.84299,\n            0.84299,     0.84393,     0.84396,     0.84399,     0.84401,     0.84497,     0.84501,     0.84596,     0.84598,     0.84599,       0.846,     0.84601,     0.84602,     0.84603,     0.84605,     0.84606,     0.84706,     0.84805,      0.8481,     0.84907,     0.84911,     0.84914,      0.8501,\n            0.85012,     0.85014,     0.85016,     0.85018,     0.85114,     0.85116,     0.85119,     0.85121,     0.85219,     0.85224,      0.8532,     0.85321,     0.85322,     0.85322,     0.85323,     0.85324,     0.85325,     0.85325,     0.85326,     0.85327,     0.85327,     0.85328,     0.85329,\n             0.8533,     0.85424,     0.85425,     0.85426,     0.85427,     0.85428,     0.85428,     0.85429,      0.8543,     0.85431,     0.85432,     0.85432,     0.85433,     0.85434,     0.85634,     0.85636,     0.85638,      0.8564,     0.85642,     0.85644,     0.85741,     0.85743,     0.85745,\n            0.85747,     0.85844,     0.85846,     0.85848,     0.85849,     0.85851,     0.85853,     0.85854,     0.86057,     0.86058,      0.8606,     0.86061,     0.86063,     0.86064,     0.86066,     0.86163,     0.86167,      0.8617,     0.86173,      0.8627,     0.86271,     0.86272,     0.86273,\n            0.86274,     0.86275,     0.86276,     0.86277,     0.86279,     0.86483,     0.86484,     0.86485,     0.86486,     0.86488,     0.86489,      0.8649,     0.86491,     0.86493,     0.86591,     0.86593,     0.86595,     0.86597,     0.86599,     0.86697,     0.86698,       0.867,     0.86701,\n            0.86702,     0.86703,     0.86704,     0.86705,     0.86706,     0.86707,     0.86708,     0.86814,     0.86923,     0.87026,      0.8703,     0.87018,     0.87018,     0.87017,     0.87017,     0.87017,     0.87017,     0.87017,     0.87016,     0.87119,     0.87224,     0.87228,     0.87233,\n            0.87341,     0.87443,     0.87444,     0.87445,     0.87446,     0.87447,     0.87448,     0.87449,      0.8745,     0.87451,     0.87452,     0.87552,     0.87557,     0.87561,     0.87663,     0.87664,     0.87665,     0.87667,     0.87668,     0.87669,     0.87671,     0.87672,     0.87775,\n            0.87782,     0.87995,     0.87997,     0.87999,     0.88001,     0.88002,     0.88004,     0.88106,     0.88108,      0.8811,     0.88111,     0.88113,     0.88115,     0.88217,     0.88221,     0.88225,     0.88329,     0.88332,     0.88334,     0.88337,     0.88339,     0.88442,     0.88443,\n            0.88444,     0.88446,     0.88447,     0.88448,      0.8845,     0.88451,     0.88554,     0.88557,     0.88559,     0.88561,     0.88563,     0.88667,     0.88675,     0.88895,     0.88898,     0.88902,     0.89006,     0.89007,     0.89008,     0.89009,      0.8901,      0.8901,     0.89011,\n            0.89012,     0.89013,     0.89014,     0.89015,     0.89016,      0.8912,     0.89128,     0.89117,      0.8922,     0.89226,     0.89218,     0.89218,     0.89218,     0.89217,     0.89217,     0.89322,     0.89325,     0.89329,     0.89435,     0.89436,     0.89437,     0.89438,     0.89439,\n             0.8944,     0.89441,     0.89442,     0.89442,     0.89443,     0.89444,     0.89445,     0.89446,     0.89434,     0.89434,     0.89433,     0.89547,     0.89536,     0.89536,     0.89536,     0.89535,     0.89535,     0.89759,     0.89872,     0.89875,     0.89879,     0.89882,     0.89993,\n            0.90106,     0.90111,     0.90116,     0.90105,     0.90105,     0.90105,     0.90104,     0.90104,     0.90319,     0.90324,     0.90438,     0.90552,      0.9054,     0.90539,     0.90777,     0.90971,      0.9097,      0.9097,     0.91079,     0.91079,     0.91191,     0.91177,     0.91142,\n            0.91142,     0.91141,     0.91141,     0.91229,     0.91469,     0.91464,     0.91429,     0.91406,     0.91334,     0.91402,     0.91401,     0.91621,     0.91562,     0.91631,     0.91573,       0.918,     0.91814,     0.91766,     0.91741,      0.9178,      0.9168,     0.92025,     0.92524,\n             0.9263,     0.92857,     0.92972,     0.92892,     0.92846,     0.93257,     0.93167,     0.93243,     0.93504,     0.94914,     0.94868,     0.95496,     0.95645,     0.95597,     0.95531,     0.95653,     0.95737,     0.95952,     0.96081,     0.96217,     0.96545,     0.96652,     0.96804,\n            0.96941,     0.97122,     0.97462,     0.97919,     0.98396,     0.98338,     0.98538,     0.98785,     0.98722,        0.99,     0.98951,     0.98917,     0.99237,     0.99213,     0.99576,     0.99565,     0.99554,     0.99531,     0.99519,     0.99474,     0.99448,     0.99405,     0.99359,\n            0.99315,     0.99296,     0.99265,     0.99207,     0.99174,     0.99116,      0.9903,     0.98902,           1,           1,           1,           1,           1,           1,           1,           1,           1,           1,           1,           1,           1,           1,           1,\n                  1,           1,           1,           1,           1,           1,           1,           1,           1,           1,           1,           1,           1,           1,           1,           1,           1,           1,           1,           1,           1,           1,           1,\n                  1,           1,           1,           1,           1,           1,           1,           1,           1,           1,           1,           1,           1,           1,           1,           1,           1,           1,           1,           1,           1,           1,           1,\n                  1,           1,           1,           1,           1,           1,           1,           1,           1,           1,           1,           1,           1,           1,           1,           1,           1,           1,           1,           1,           1,           1,           1,\n                  1,           1,           1,           1,           1,           1,           1,           1,           1,           1,           1]]), 'Confidence', 'Precision'], [array([          0,    0.001001,    0.002002,    0.003003,    0.004004,    0.005005,    0.006006,    0.007007,    0.008008,    0.009009,     0.01001,    0.011011,    0.012012,    0.013013,    0.014014,    0.015015,    0.016016,    0.017017,    0.018018,    0.019019,     0.02002,    0.021021,    0.022022,    0.023023,\n          0.024024,    0.025025,    0.026026,    0.027027,    0.028028,    0.029029,     0.03003,    0.031031,    0.032032,    0.033033,    0.034034,    0.035035,    0.036036,    0.037037,    0.038038,    0.039039,     0.04004,    0.041041,    0.042042,    0.043043,    0.044044,    0.045045,    0.046046,    0.047047,\n          0.048048,    0.049049,     0.05005,    0.051051,    0.052052,    0.053053,    0.054054,    0.055055,    0.056056,    0.057057,    0.058058,    0.059059,     0.06006,    0.061061,    0.062062,    0.063063,    0.064064,    0.065065,    0.066066,    0.067067,    0.068068,    0.069069,     0.07007,    0.071071,\n          0.072072,    0.073073,    0.074074,    0.075075,    0.076076,    0.077077,    0.078078,    0.079079,     0.08008,    0.081081,    0.082082,    0.083083,    0.084084,    0.085085,    0.086086,    0.087087,    0.088088,    0.089089,     0.09009,    0.091091,    0.092092,    0.093093,    0.094094,    0.095095,\n          0.096096,    0.097097,    0.098098,    0.099099,      0.1001,      0.1011,      0.1021,      0.1031,      0.1041,     0.10511,     0.10611,     0.10711,     0.10811,     0.10911,     0.11011,     0.11111,     0.11211,     0.11311,     0.11411,     0.11512,     0.11612,     0.11712,     0.11812,     0.11912,\n           0.12012,     0.12112,     0.12212,     0.12312,     0.12412,     0.12513,     0.12613,     0.12713,     0.12813,     0.12913,     0.13013,     0.13113,     0.13213,     0.13313,     0.13413,     0.13514,     0.13614,     0.13714,     0.13814,     0.13914,     0.14014,     0.14114,     0.14214,     0.14314,\n           0.14414,     0.14515,     0.14615,     0.14715,     0.14815,     0.14915,     0.15015,     0.15115,     0.15215,     0.15315,     0.15415,     0.15516,     0.15616,     0.15716,     0.15816,     0.15916,     0.16016,     0.16116,     0.16216,     0.16316,     0.16416,     0.16517,     0.16617,     0.16717,\n           0.16817,     0.16917,     0.17017,     0.17117,     0.17217,     0.17317,     0.17417,     0.17518,     0.17618,     0.17718,     0.17818,     0.17918,     0.18018,     0.18118,     0.18218,     0.18318,     0.18418,     0.18519,     0.18619,     0.18719,     0.18819,     0.18919,     0.19019,     0.19119,\n           0.19219,     0.19319,     0.19419,      0.1952,      0.1962,      0.1972,      0.1982,      0.1992,      0.2002,      0.2012,      0.2022,      0.2032,      0.2042,     0.20521,     0.20621,     0.20721,     0.20821,     0.20921,     0.21021,     0.21121,     0.21221,     0.21321,     0.21421,     0.21522,\n           0.21622,     0.21722,     0.21822,     0.21922,     0.22022,     0.22122,     0.22222,     0.22322,     0.22422,     0.22523,     0.22623,     0.22723,     0.22823,     0.22923,     0.23023,     0.23123,     0.23223,     0.23323,     0.23423,     0.23524,     0.23624,     0.23724,     0.23824,     0.23924,\n           0.24024,     0.24124,     0.24224,     0.24324,     0.24424,     0.24525,     0.24625,     0.24725,     0.24825,     0.24925,     0.25025,     0.25125,     0.25225,     0.25325,     0.25425,     0.25526,     0.25626,     0.25726,     0.25826,     0.25926,     0.26026,     0.26126,     0.26226,     0.26326,\n           0.26426,     0.26527,     0.26627,     0.26727,     0.26827,     0.26927,     0.27027,     0.27127,     0.27227,     0.27327,     0.27427,     0.27528,     0.27628,     0.27728,     0.27828,     0.27928,     0.28028,     0.28128,     0.28228,     0.28328,     0.28428,     0.28529,     0.28629,     0.28729,\n           0.28829,     0.28929,     0.29029,     0.29129,     0.29229,     0.29329,     0.29429,      0.2953,      0.2963,      0.2973,      0.2983,      0.2993,      0.3003,      0.3013,      0.3023,      0.3033,      0.3043,     0.30531,     0.30631,     0.30731,     0.30831,     0.30931,     0.31031,     0.31131,\n           0.31231,     0.31331,     0.31431,     0.31532,     0.31632,     0.31732,     0.31832,     0.31932,     0.32032,     0.32132,     0.32232,     0.32332,     0.32432,     0.32533,     0.32633,     0.32733,     0.32833,     0.32933,     0.33033,     0.33133,     0.33233,     0.33333,     0.33433,     0.33534,\n           0.33634,     0.33734,     0.33834,     0.33934,     0.34034,     0.34134,     0.34234,     0.34334,     0.34434,     0.34535,     0.34635,     0.34735,     0.34835,     0.34935,     0.35035,     0.35135,     0.35235,     0.35335,     0.35435,     0.35536,     0.35636,     0.35736,     0.35836,     0.35936,\n           0.36036,     0.36136,     0.36236,     0.36336,     0.36436,     0.36537,     0.36637,     0.36737,     0.36837,     0.36937,     0.37037,     0.37137,     0.37237,     0.37337,     0.37437,     0.37538,     0.37638,     0.37738,     0.37838,     0.37938,     0.38038,     0.38138,     0.38238,     0.38338,\n           0.38438,     0.38539,     0.38639,     0.38739,     0.38839,     0.38939,     0.39039,     0.39139,     0.39239,     0.39339,     0.39439,      0.3954,      0.3964,      0.3974,      0.3984,      0.3994,      0.4004,      0.4014,      0.4024,      0.4034,      0.4044,     0.40541,     0.40641,     0.40741,\n           0.40841,     0.40941,     0.41041,     0.41141,     0.41241,     0.41341,     0.41441,     0.41542,     0.41642,     0.41742,     0.41842,     0.41942,     0.42042,     0.42142,     0.42242,     0.42342,     0.42442,     0.42543,     0.42643,     0.42743,     0.42843,     0.42943,     0.43043,     0.43143,\n           0.43243,     0.43343,     0.43443,     0.43544,     0.43644,     0.43744,     0.43844,     0.43944,     0.44044,     0.44144,     0.44244,     0.44344,     0.44444,     0.44545,     0.44645,     0.44745,     0.44845,     0.44945,     0.45045,     0.45145,     0.45245,     0.45345,     0.45445,     0.45546,\n           0.45646,     0.45746,     0.45846,     0.45946,     0.46046,     0.46146,     0.46246,     0.46346,     0.46446,     0.46547,     0.46647,     0.46747,     0.46847,     0.46947,     0.47047,     0.47147,     0.47247,     0.47347,     0.47447,     0.47548,     0.47648,     0.47748,     0.47848,     0.47948,\n           0.48048,     0.48148,     0.48248,     0.48348,     0.48448,     0.48549,     0.48649,     0.48749,     0.48849,     0.48949,     0.49049,     0.49149,     0.49249,     0.49349,     0.49449,      0.4955,      0.4965,      0.4975,      0.4985,      0.4995,      0.5005,      0.5015,      0.5025,      0.5035,\n            0.5045,     0.50551,     0.50651,     0.50751,     0.50851,     0.50951,     0.51051,     0.51151,     0.51251,     0.51351,     0.51451,     0.51552,     0.51652,     0.51752,     0.51852,     0.51952,     0.52052,     0.52152,     0.52252,     0.52352,     0.52452,     0.52553,     0.52653,     0.52753,\n           0.52853,     0.52953,     0.53053,     0.53153,     0.53253,     0.53353,     0.53453,     0.53554,     0.53654,     0.53754,     0.53854,     0.53954,     0.54054,     0.54154,     0.54254,     0.54354,     0.54454,     0.54555,     0.54655,     0.54755,     0.54855,     0.54955,     0.55055,     0.55155,\n           0.55255,     0.55355,     0.55455,     0.55556,     0.55656,     0.55756,     0.55856,     0.55956,     0.56056,     0.56156,     0.56256,     0.56356,     0.56456,     0.56557,     0.56657,     0.56757,     0.56857,     0.56957,     0.57057,     0.57157,     0.57257,     0.57357,     0.57457,     0.57558,\n           0.57658,     0.57758,     0.57858,     0.57958,     0.58058,     0.58158,     0.58258,     0.58358,     0.58458,     0.58559,     0.58659,     0.58759,     0.58859,     0.58959,     0.59059,     0.59159,     0.59259,     0.59359,     0.59459,      0.5956,      0.5966,      0.5976,      0.5986,      0.5996,\n            0.6006,      0.6016,      0.6026,      0.6036,      0.6046,     0.60561,     0.60661,     0.60761,     0.60861,     0.60961,     0.61061,     0.61161,     0.61261,     0.61361,     0.61461,     0.61562,     0.61662,     0.61762,     0.61862,     0.61962,     0.62062,     0.62162,     0.62262,     0.62362,\n           0.62462,     0.62563,     0.62663,     0.62763,     0.62863,     0.62963,     0.63063,     0.63163,     0.63263,     0.63363,     0.63463,     0.63564,     0.63664,     0.63764,     0.63864,     0.63964,     0.64064,     0.64164,     0.64264,     0.64364,     0.64464,     0.64565,     0.64665,     0.64765,\n           0.64865,     0.64965,     0.65065,     0.65165,     0.65265,     0.65365,     0.65465,     0.65566,     0.65666,     0.65766,     0.65866,     0.65966,     0.66066,     0.66166,     0.66266,     0.66366,     0.66466,     0.66567,     0.66667,     0.66767,     0.66867,     0.66967,     0.67067,     0.67167,\n           0.67267,     0.67367,     0.67467,     0.67568,     0.67668,     0.67768,     0.67868,     0.67968,     0.68068,     0.68168,     0.68268,     0.68368,     0.68468,     0.68569,     0.68669,     0.68769,     0.68869,     0.68969,     0.69069,     0.69169,     0.69269,     0.69369,     0.69469,      0.6957,\n            0.6967,      0.6977,      0.6987,      0.6997,      0.7007,      0.7017,      0.7027,      0.7037,      0.7047,     0.70571,     0.70671,     0.70771,     0.70871,     0.70971,     0.71071,     0.71171,     0.71271,     0.71371,     0.71471,     0.71572,     0.71672,     0.71772,     0.71872,     0.71972,\n           0.72072,     0.72172,     0.72272,     0.72372,     0.72472,     0.72573,     0.72673,     0.72773,     0.72873,     0.72973,     0.73073,     0.73173,     0.73273,     0.73373,     0.73473,     0.73574,     0.73674,     0.73774,     0.73874,     0.73974,     0.74074,     0.74174,     0.74274,     0.74374,\n           0.74474,     0.74575,     0.74675,     0.74775,     0.74875,     0.74975,     0.75075,     0.75175,     0.75275,     0.75375,     0.75475,     0.75576,     0.75676,     0.75776,     0.75876,     0.75976,     0.76076,     0.76176,     0.76276,     0.76376,     0.76476,     0.76577,     0.76677,     0.76777,\n           0.76877,     0.76977,     0.77077,     0.77177,     0.77277,     0.77377,     0.77477,     0.77578,     0.77678,     0.77778,     0.77878,     0.77978,     0.78078,     0.78178,     0.78278,     0.78378,     0.78478,     0.78579,     0.78679,     0.78779,     0.78879,     0.78979,     0.79079,     0.79179,\n           0.79279,     0.79379,     0.79479,      0.7958,      0.7968,      0.7978,      0.7988,      0.7998,      0.8008,      0.8018,      0.8028,      0.8038,      0.8048,     0.80581,     0.80681,     0.80781,     0.80881,     0.80981,     0.81081,     0.81181,     0.81281,     0.81381,     0.81481,     0.81582,\n           0.81682,     0.81782,     0.81882,     0.81982,     0.82082,     0.82182,     0.82282,     0.82382,     0.82482,     0.82583,     0.82683,     0.82783,     0.82883,     0.82983,     0.83083,     0.83183,     0.83283,     0.83383,     0.83483,     0.83584,     0.83684,     0.83784,     0.83884,     0.83984,\n           0.84084,     0.84184,     0.84284,     0.84384,     0.84484,     0.84585,     0.84685,     0.84785,     0.84885,     0.84985,     0.85085,     0.85185,     0.85285,     0.85385,     0.85485,     0.85586,     0.85686,     0.85786,     0.85886,     0.85986,     0.86086,     0.86186,     0.86286,     0.86386,\n           0.86486,     0.86587,     0.86687,     0.86787,     0.86887,     0.86987,     0.87087,     0.87187,     0.87287,     0.87387,     0.87487,     0.87588,     0.87688,     0.87788,     0.87888,     0.87988,     0.88088,     0.88188,     0.88288,     0.88388,     0.88488,     0.88589,     0.88689,     0.88789,\n           0.88889,     0.88989,     0.89089,     0.89189,     0.89289,     0.89389,     0.89489,      0.8959,      0.8969,      0.8979,      0.8989,      0.8999,      0.9009,      0.9019,      0.9029,      0.9039,      0.9049,     0.90591,     0.90691,     0.90791,     0.90891,     0.90991,     0.91091,     0.91191,\n           0.91291,     0.91391,     0.91491,     0.91592,     0.91692,     0.91792,     0.91892,     0.91992,     0.92092,     0.92192,     0.92292,     0.92392,     0.92492,     0.92593,     0.92693,     0.92793,     0.92893,     0.92993,     0.93093,     0.93193,     0.93293,     0.93393,     0.93493,     0.93594,\n           0.93694,     0.93794,     0.93894,     0.93994,     0.94094,     0.94194,     0.94294,     0.94394,     0.94494,     0.94595,     0.94695,     0.94795,     0.94895,     0.94995,     0.95095,     0.95195,     0.95295,     0.95395,     0.95495,     0.95596,     0.95696,     0.95796,     0.95896,     0.95996,\n           0.96096,     0.96196,     0.96296,     0.96396,     0.96496,     0.96597,     0.96697,     0.96797,     0.96897,     0.96997,     0.97097,     0.97197,     0.97297,     0.97397,     0.97497,     0.97598,     0.97698,     0.97798,     0.97898,     0.97998,     0.98098,     0.98198,     0.98298,     0.98398,\n           0.98498,     0.98599,     0.98699,     0.98799,     0.98899,     0.98999,     0.99099,     0.99199,     0.99299,     0.99399,     0.99499,       0.996,       0.997,       0.998,       0.999,           1]), array([[    0.99431,     0.99431,     0.99431,     0.99431,     0.99431,     0.99431,     0.99431,     0.99431,     0.99431,     0.99431,     0.99431,     0.99431,     0.99431,     0.99431,     0.99431,     0.99431,     0.99431,     0.99431,     0.99431,     0.99431,     0.99431,     0.99431,     0.99431,\n            0.99431,     0.99431,     0.99431,     0.99431,     0.99431,     0.99431,     0.99431,     0.99431,     0.99431,     0.99431,     0.99431,     0.99431,     0.99431,     0.99431,     0.99431,     0.99431,     0.99431,     0.99431,     0.99431,     0.99431,     0.99431,     0.99431,     0.99431,\n            0.99431,     0.99431,     0.99431,     0.99431,     0.99431,     0.99431,     0.99431,     0.99431,     0.99431,     0.99431,     0.99431,     0.99431,     0.99431,     0.99431,     0.99431,     0.99431,     0.99431,     0.99431,     0.99431,     0.99431,     0.99431,     0.99431,     0.99431,\n            0.99431,     0.99431,     0.99431,     0.99431,     0.99431,     0.99431,     0.99431,     0.99431,     0.99431,     0.99431,     0.99431,     0.99431,     0.99431,     0.99431,     0.99431,     0.99431,     0.99431,     0.99431,     0.99431,     0.99431,     0.99431,     0.99431,     0.99431,\n            0.99431,     0.99431,     0.99431,     0.99431,     0.99431,     0.99431,     0.99431,     0.99431,     0.99431,     0.99431,     0.99431,     0.99431,     0.99431,     0.99431,     0.99431,     0.99431,     0.99431,     0.99431,     0.99431,     0.99431,     0.99431,     0.99431,     0.99431,\n            0.99431,     0.99431,     0.99431,     0.99431,     0.99431,     0.99431,     0.99431,     0.99431,     0.99431,     0.99431,     0.99431,     0.99431,     0.99431,     0.99431,     0.99431,     0.99431,     0.99431,     0.99431,     0.99431,     0.99431,     0.99431,     0.99431,     0.99431,\n            0.99431,     0.99431,     0.99431,     0.99431,     0.99431,     0.99431,     0.99431,     0.99431,     0.99431,     0.99431,     0.99431,     0.99431,     0.99431,     0.99431,     0.99431,     0.99431,     0.99431,     0.99431,     0.99431,     0.99431,     0.99431,     0.99431,     0.99431,\n            0.99431,     0.99431,     0.99431,     0.99431,     0.99431,     0.99431,     0.99431,     0.99431,     0.99431,     0.99431,     0.99431,     0.99431,     0.99431,     0.99431,     0.99431,     0.99431,     0.99431,     0.99431,     0.99431,     0.99431,     0.99431,     0.99431,     0.99431,\n            0.99431,     0.99431,     0.99431,     0.99431,     0.99431,     0.99431,     0.99431,     0.99431,     0.99431,     0.99431,     0.99431,     0.99431,     0.99431,     0.99431,     0.99431,     0.99431,     0.99431,     0.99431,     0.99431,     0.99431,     0.99431,     0.99431,     0.99431,\n            0.99431,     0.99431,     0.99431,     0.99431,     0.99431,     0.99431,     0.99431,     0.99431,     0.99431,     0.99431,     0.99431,     0.99431,     0.99431,     0.99431,     0.99431,     0.99431,     0.99431,     0.99431,     0.99431,     0.99431,     0.99431,     0.99431,     0.99431,\n            0.99431,     0.99431,     0.99431,     0.99431,     0.99431,     0.99431,     0.99431,     0.99431,     0.99431,     0.99431,     0.99431,     0.99431,     0.99431,     0.99431,     0.99431,     0.99431,     0.99431,     0.99431,     0.99431,     0.99431,     0.99431,     0.99431,     0.99431,\n            0.99431,     0.99431,     0.99431,     0.99431,     0.99431,     0.99431,     0.99431,     0.99431,     0.99431,     0.99431,     0.99431,     0.99431,     0.99431,     0.99431,     0.99431,     0.99431,     0.99431,     0.99431,     0.99431,     0.99431,     0.99431,     0.99431,     0.99431,\n            0.99431,     0.99431,     0.99431,     0.99431,     0.99431,     0.99431,     0.99431,     0.99431,     0.99431,     0.99431,     0.99431,     0.99431,     0.99431,     0.99431,     0.99431,     0.99431,     0.99431,     0.99431,     0.99431,     0.99431,     0.99431,     0.99431,     0.99431,\n            0.99431,     0.99431,     0.99431,     0.99431,     0.99431,     0.99431,     0.99431,     0.99431,     0.99431,     0.99431,     0.99431,     0.99431,     0.99431,     0.99431,     0.99431,     0.99431,     0.99431,     0.99431,     0.99431,     0.99431,     0.99431,     0.99431,     0.99431,\n            0.99431,     0.99431,     0.99431,     0.99431,     0.99431,     0.99431,     0.99431,     0.99431,     0.99431,     0.99431,     0.99431,     0.99431,     0.99431,     0.99431,     0.99431,     0.99431,     0.99431,     0.99431,     0.99431,     0.99431,     0.99431,     0.99301,     0.99299,\n            0.99297,     0.99295,     0.99293,     0.99291,     0.99289,     0.99289,     0.99289,     0.99289,     0.99289,     0.99289,     0.99289,     0.99289,     0.99289,     0.99289,     0.99289,     0.99289,     0.99289,     0.99289,     0.99289,     0.99289,     0.99289,     0.99289,     0.99289,\n            0.99289,     0.99289,     0.99289,     0.99289,     0.99289,     0.99289,     0.99289,     0.99289,     0.99289,     0.99289,     0.99289,     0.99289,     0.99289,     0.99289,     0.99289,     0.99289,     0.99289,     0.99289,     0.99289,     0.99289,     0.99289,     0.99289,     0.99289,\n            0.99289,     0.99289,     0.99289,     0.99289,     0.99289,     0.99289,     0.99289,     0.99289,     0.99289,     0.99289,     0.99289,     0.99289,     0.99289,     0.99289,     0.99289,     0.99289,     0.99289,     0.99289,     0.99289,     0.99289,     0.99289,     0.99289,     0.99289,\n            0.99289,     0.99289,     0.99289,     0.99289,     0.99289,     0.99289,     0.99289,     0.99289,     0.99289,     0.99289,     0.99289,     0.99289,     0.99289,     0.99289,     0.99289,     0.99289,     0.99289,     0.99289,     0.99289,     0.99289,     0.99289,     0.99289,     0.99289,\n            0.99289,     0.99289,     0.99289,     0.99289,     0.99289,     0.99289,     0.99289,     0.99289,     0.99289,     0.99289,     0.99289,     0.99289,     0.99289,     0.99289,     0.99289,     0.99289,     0.99289,     0.99289,     0.99289,     0.99289,     0.99289,     0.99289,     0.99289,\n            0.99289,     0.99289,     0.99289,     0.99289,     0.99289,     0.99289,     0.99289,     0.99289,     0.99289,     0.99289,     0.99289,     0.99289,     0.99289,     0.99289,     0.99289,     0.99289,     0.99289,     0.99289,     0.99289,     0.99289,     0.99289,     0.99289,     0.99289,\n            0.99289,     0.99289,     0.99289,     0.99289,     0.99289,     0.99289,     0.99289,     0.99289,     0.99289,     0.99289,     0.99289,     0.99289,     0.99289,     0.99289,     0.99289,     0.99289,     0.99289,     0.99289,     0.99289,     0.99289,     0.99289,     0.99289,     0.99289,\n            0.99289,     0.99289,     0.99289,     0.99289,     0.99289,     0.99289,     0.99289,     0.99289,     0.99289,     0.99289,     0.99289,     0.99289,     0.99289,     0.99289,     0.99289,     0.99289,     0.99289,     0.99289,     0.99289,     0.99289,     0.99289,     0.99289,     0.99289,\n            0.99289,     0.99289,     0.99289,     0.99289,     0.99289,     0.99289,     0.99289,     0.99289,     0.99289,     0.99289,     0.99289,     0.99289,     0.99289,     0.99289,     0.99289,     0.99289,     0.99289,     0.99289,     0.99289,     0.99289,     0.99289,     0.99289,     0.99289,\n            0.99289,     0.99289,     0.99289,     0.99289,     0.99289,     0.99289,     0.99289,     0.99289,     0.99289,     0.99289,     0.99289,     0.99289,     0.99289,     0.99289,     0.99289,     0.99289,     0.99289,     0.99289,     0.99289,     0.99289,     0.99289,     0.99289,     0.99289,\n            0.99289,     0.99289,     0.99289,     0.99289,     0.99289,     0.99289,     0.99289,     0.99289,     0.99289,     0.99289,     0.99289,     0.99289,     0.99289,     0.99289,     0.99289,     0.99289,     0.99289,     0.99289,     0.99289,     0.99289,     0.99289,     0.99289,     0.99289,\n            0.99289,     0.99289,     0.99289,     0.99289,     0.99289,     0.99289,     0.99289,     0.99289,     0.99289,     0.99289,     0.99289,     0.99289,     0.99289,     0.99289,     0.99289,     0.99289,     0.99289,     0.99289,     0.99289,     0.99289,     0.99289,     0.99289,     0.99289,\n            0.99289,     0.99289,     0.99289,     0.99289,     0.99289,     0.99289,     0.99289,     0.99289,     0.99289,     0.99289,     0.99289,     0.99289,     0.99289,     0.99289,     0.99289,     0.99289,     0.99289,     0.99289,     0.99289,     0.99289,     0.99289,     0.99289,     0.99289,\n            0.99289,     0.99289,     0.99289,     0.99289,     0.99289,     0.99289,     0.99289,     0.99289,     0.99289,     0.99289,     0.99289,     0.99289,     0.99289,     0.99289,     0.99289,     0.99289,     0.99289,     0.99289,     0.99289,     0.99289,     0.99289,     0.99289,     0.99289,\n            0.99289,     0.99289,     0.99289,     0.99289,     0.99289,     0.99289,     0.99289,     0.99289,     0.99289,     0.99289,     0.99289,      0.9916,     0.99158,     0.99156,     0.99154,     0.99153,     0.99151,     0.99149,     0.99147,     0.99147,     0.99147,     0.99147,     0.99147,\n            0.99147,     0.99147,     0.99147,     0.99147,     0.99147,     0.99147,     0.99147,     0.99147,     0.99147,     0.99147,     0.99147,     0.99147,     0.99147,     0.99147,     0.99147,     0.99147,     0.99147,     0.99147,     0.99147,     0.99147,     0.99147,     0.99147,     0.99147,\n            0.99147,     0.99147,     0.99147,     0.99147,     0.99147,     0.99147,     0.99147,     0.99147,     0.99147,     0.99147,     0.99147,     0.99147,     0.99147,     0.99147,     0.99147,     0.99147,     0.99147,     0.99147,     0.99147,     0.99147,     0.99147,     0.99147,     0.99147,\n            0.99147,     0.99147,     0.99147,     0.99147,     0.99147,     0.99147,     0.99147,     0.99147,     0.99147,     0.99147,     0.99147,     0.99147,     0.99147,     0.99147,     0.99147,     0.99147,     0.99147,     0.99147,     0.99147,     0.99147,     0.99147,     0.99147,     0.99147,\n            0.99147,     0.99147,     0.99147,     0.99147,     0.99147,     0.99147,     0.99147,     0.99012,     0.99004,     0.99004,     0.98876,     0.98873,      0.9887,     0.98867,     0.98864,     0.98862,     0.98862,     0.98862,     0.98862,     0.98862,     0.98862,     0.98862,     0.98862,\n            0.98862,     0.98862,     0.98862,     0.98862,     0.98862,     0.98862,     0.98862,     0.98862,     0.98732,     0.98727,     0.98721,      0.9872,     0.98589,     0.98587,     0.98584,     0.98582,     0.98579,     0.98578,     0.98578,     0.98578,     0.98578,     0.98578,     0.98578,\n            0.98578,     0.98578,     0.98578,     0.98447,     0.98445,     0.98442,     0.98439,     0.98436,     0.98293,     0.98293,     0.98293,     0.98159,     0.98019,     0.98009,     0.98009,     0.97454,     0.97448,     0.97442,     0.97308,     0.97302,     0.97297,     0.97022,     0.96599,\n            0.96595,     0.96591,     0.96587,     0.96165,     0.96159,     0.96026,     0.95599,     0.95314,     0.94455,     0.93751,     0.93741,     0.93319,     0.92617,     0.92034,     0.91194,     0.90765,     0.89344,     0.88775,     0.88487,     0.87349,      0.8621,     0.85352,     0.84502,\n            0.84068,     0.83217,     0.82792,     0.81796,     0.81225,     0.80657,     0.79518,     0.78521,     0.77809,      0.7724,     0.76258,     0.75403,     0.74976,     0.74122,     0.72983,     0.71987,     0.70275,     0.67433,      0.6643,     0.65292,     0.63595,     0.61598,     0.60317,\n             0.5861,     0.57613,     0.54625,     0.53627,     0.52348,     0.50498,     0.47951,     0.46243,     0.43967,     0.42259,     0.40267,     0.38986,     0.36994,     0.35855,     0.33436,     0.32582,     0.31728,     0.30162,      0.2945,     0.26889,     0.25608,     0.23758,     0.22051,\n            0.20627,     0.20058,     0.19203,     0.17795,     0.17083,     0.15944,     0.14521,     0.12815,     0.11817,       0.111,     0.10108,    0.096768,    0.076885,    0.068382,    0.064069,    0.055573,    0.054097,     0.04271,    0.036999,    0.024204,    0.012817,   0.0099612,   0.0086416,\n          0.0086052,   0.0085687,   0.0058218,   0.0044075,   0.0043851,   0.0043627,   0.0043402,   0.0043178,   0.0042954,   0.0042729,   0.0029139,   0.0015223,           0,           0,           0,           0,           0,           0,           0,           0,           0,           0,           0,\n                  0,           0,           0,           0,           0,           0,           0,           0,           0,           0,           0,           0,           0,           0,           0,           0,           0,           0,           0,           0,           0,           0,           0,\n                  0,           0,           0,           0,           0,           0,           0,           0,           0,           0,           0,           0,           0,           0,           0,           0,           0,           0,           0,           0,           0,           0,           0,\n                  0,           0,           0,           0,           0,           0,           0,           0,           0,           0,           0]]), 'Confidence', 'Recall']]\nfitness: 0.8090798213272866\nkeys: ['metrics/precision(B)', 'metrics/recall(B)', 'metrics/mAP50(B)', 'metrics/mAP50-95(B)']\nmaps: array([    0.79173])\nnames: {0: 'pallet'}\nplot: True\nresults_dict: {'metrics/precision(B)': 0.8944157574446165, 'metrics/recall(B)': 0.9886201991465149, 'metrics/mAP50(B)': 0.965264226273946, 'metrics/mAP50-95(B)': 0.7917259985554355, 'fitness': 0.8090798213272866}\nsave_dir: PosixPath('pallet_detection_project/yolov8m_run')\nspeed: {'preprocess': 0.17908744500800822, 'inference': 10.826023525000892, 'loss': 0.038112759984869626, 'postprocess': 3.008852329990077}\ntask: 'detect'"
          },
          "metadata": {}
        }
      ],
      "execution_count": null
    },
    {
      "cell_type": "code",
      "source": [
        "# 8. Evaluate model on the test set\n",
        "metrics = model.val(data=yaml_path, split='test')  # Runs validation on test images\n",
        "print(f\"\\n✅ mAP@50 on test set: {metrics.box.map50:.4f}\")\n",
        "print(f\"✅ mAP@50-95 on test set: {metrics.box.map:.4f}\")\n",
        "\n",
        "# 9. Predict on test images and save results\n",
        "results = model.predict(\n",
        "    source=os.path.join(dataset_path, 'test/images'),  # Test images folder\n",
        "    conf=0.25,\n",
        "    save=True,  # Save results (bounding boxes, labels)\n",
        "    name='predict_test'\n",
        ")\n",
        "\n",
        "# 10. Visualize first 10 annotated test predictions\n",
        "import cv2\n",
        "import matplotlib.pyplot as plt\n",
        "from pathlib import Path\n",
        "\n",
        "# Path where predictions are saved\n",
        "pred_dir = Path('runs/detect/predict_test')\n",
        "annotated_imgs = sorted(pred_dir.glob(\"*.jpg\"))[:10]  # Get first 10 images\n",
        "\n",
        "plt.figure(figsize=(15, 15))\n",
        "for idx, img_path in enumerate(annotated_imgs):\n",
        "    img = cv2.imread(str(img_path))\n",
        "    img = cv2.cvtColor(img, cv2.COLOR_BGR2RGB)\n",
        "    plt.subplot(5, 2, idx + 1)\n",
        "    plt.imshow(img)\n",
        "    plt.title(img_path.name)\n",
        "    plt.axis(\"off\")\n",
        "plt.tight_layout()\n",
        "plt.show()\n"
      ],
      "metadata": {
        "trusted": true,
        "execution": {
          "iopub.status.busy": "2025-05-05T02:57:35.16851Z",
          "iopub.execute_input": "2025-05-05T02:57:35.169233Z",
          "iopub.status.idle": "2025-05-05T02:57:51.131038Z",
          "shell.execute_reply.started": "2025-05-05T02:57:35.169187Z",
          "shell.execute_reply": "2025-05-05T02:57:51.130179Z"
        },
        "id": "YkrD9iHdXUGI",
        "outputId": "2a3949d5-ecd4-400c-bdb7-d9f9697d2f22"
      },
      "outputs": [
        {
          "name": "stdout",
          "text": "Ultralytics 8.3.127 🚀 Python-3.11.11 torch-2.5.1+cu124 CUDA:0 (Tesla P100-PCIE-16GB, 16269MiB)\nModel summary (fused): 92 layers, 25,840,339 parameters, 0 gradients, 78.7 GFLOPs\n\u001b[34m\u001b[1mval: \u001b[0mFast image access ✅ (ping: 0.0±0.0 ms, read: 11.8±0.4 MB/s, size: 67.7 KB)\n",
          "output_type": "stream"
        },
        {
          "name": "stderr",
          "text": "\u001b[34m\u001b[1mval: \u001b[0mScanning /kaggle/input/yolov8/pallet detection.v1i.yolov8/test/labels... 200 images, 0 backgrounds, 0 corrupt: 100%|██████████| 200/200 [00:01<00:00, 196.19it/s]",
          "output_type": "stream"
        },
        {
          "name": "stdout",
          "text": "WARNING ⚠️ \u001b[34m\u001b[1mval: \u001b[0mCache directory /kaggle/input/yolov8/pallet detection.v1i.yolov8/test is not writeable, cache not saved.\n",
          "output_type": "stream"
        },
        {
          "name": "stderr",
          "text": "\n                 Class     Images  Instances      Box(P          R      mAP50  mAP50-95): 100%|██████████| 25/25 [00:05<00:00,  4.39it/s]\n",
          "output_type": "stream"
        },
        {
          "name": "stdout",
          "text": "                   all        200       5180      0.949      0.979      0.976      0.843\n",
          "output_type": "stream"
        },
        {
          "name": "stderr",
          "text": "/usr/local/lib/python3.11/dist-packages/matplotlib/colors.py:721: RuntimeWarning: invalid value encountered in less\n  xa[xa < 0] = -1\n/usr/local/lib/python3.11/dist-packages/matplotlib/colors.py:721: RuntimeWarning: invalid value encountered in less\n  xa[xa < 0] = -1\n",
          "output_type": "stream"
        },
        {
          "name": "stdout",
          "text": "Speed: 0.9ms preprocess, 12.4ms inference, 0.0ms loss, 7.4ms postprocess per image\nResults saved to \u001b[1mpallet_detection_project/yolov8m_run\u001b[0m\n\n✅ mAP@50 on test set: 0.9758\n✅ mAP@50-95 on test set: 0.8426\n\nimage 1/200 /kaggle/input/yolov8/pallet detection.v1i.yolov8/test/images/OIP-35-_jpg.rf.bbde643a09fc7b2b9305d5ad06540150 (10).jpg: 640x640 44 pallets, 14.8ms\nimage 2/200 /kaggle/input/yolov8/pallet detection.v1i.yolov8/test/images/OIP-35-_jpg.rf.bbde643a09fc7b2b9305d5ad06540150 (2).jpg: 640x640 44 pallets, 14.9ms\nimage 3/200 /kaggle/input/yolov8/pallet detection.v1i.yolov8/test/images/OIP-35-_jpg.rf.bbde643a09fc7b2b9305d5ad06540150 (3).jpg: 640x640 44 pallets, 14.9ms\nimage 4/200 /kaggle/input/yolov8/pallet detection.v1i.yolov8/test/images/OIP-35-_jpg.rf.bbde643a09fc7b2b9305d5ad06540150 (4).jpg: 640x640 44 pallets, 14.8ms\nimage 5/200 /kaggle/input/yolov8/pallet detection.v1i.yolov8/test/images/OIP-35-_jpg.rf.bbde643a09fc7b2b9305d5ad06540150 (5).jpg: 640x640 44 pallets, 14.9ms\nimage 6/200 /kaggle/input/yolov8/pallet detection.v1i.yolov8/test/images/OIP-35-_jpg.rf.bbde643a09fc7b2b9305d5ad06540150 (6).jpg: 640x640 44 pallets, 14.8ms\nimage 7/200 /kaggle/input/yolov8/pallet detection.v1i.yolov8/test/images/OIP-35-_jpg.rf.bbde643a09fc7b2b9305d5ad06540150 (7).jpg: 640x640 44 pallets, 14.8ms\nimage 8/200 /kaggle/input/yolov8/pallet detection.v1i.yolov8/test/images/OIP-35-_jpg.rf.bbde643a09fc7b2b9305d5ad06540150 (8).jpg: 640x640 44 pallets, 14.9ms\nimage 9/200 /kaggle/input/yolov8/pallet detection.v1i.yolov8/test/images/OIP-35-_jpg.rf.bbde643a09fc7b2b9305d5ad06540150 (9).jpg: 640x640 44 pallets, 14.9ms\nimage 10/200 /kaggle/input/yolov8/pallet detection.v1i.yolov8/test/images/OIP-35-_jpg.rf.bbde643a09fc7b2b9305d5ad06540150.jpg: 640x640 44 pallets, 14.9ms\nimage 11/200 /kaggle/input/yolov8/pallet detection.v1i.yolov8/test/images/OIP-42-_jpg.rf.18b1225ba9e40a5e36ac81fb7f65eeeb (10).jpg: 640x640 34 pallets, 14.9ms\nimage 12/200 /kaggle/input/yolov8/pallet detection.v1i.yolov8/test/images/OIP-42-_jpg.rf.18b1225ba9e40a5e36ac81fb7f65eeeb (2).jpg: 640x640 34 pallets, 14.9ms\nimage 13/200 /kaggle/input/yolov8/pallet detection.v1i.yolov8/test/images/OIP-42-_jpg.rf.18b1225ba9e40a5e36ac81fb7f65eeeb (3).jpg: 640x640 34 pallets, 14.8ms\nimage 14/200 /kaggle/input/yolov8/pallet detection.v1i.yolov8/test/images/OIP-42-_jpg.rf.18b1225ba9e40a5e36ac81fb7f65eeeb (4).jpg: 640x640 34 pallets, 14.9ms\nimage 15/200 /kaggle/input/yolov8/pallet detection.v1i.yolov8/test/images/OIP-42-_jpg.rf.18b1225ba9e40a5e36ac81fb7f65eeeb (5).jpg: 640x640 34 pallets, 14.9ms\nimage 16/200 /kaggle/input/yolov8/pallet detection.v1i.yolov8/test/images/OIP-42-_jpg.rf.18b1225ba9e40a5e36ac81fb7f65eeeb (6).jpg: 640x640 34 pallets, 14.7ms\nimage 17/200 /kaggle/input/yolov8/pallet detection.v1i.yolov8/test/images/OIP-42-_jpg.rf.18b1225ba9e40a5e36ac81fb7f65eeeb (7).jpg: 640x640 34 pallets, 14.9ms\nimage 18/200 /kaggle/input/yolov8/pallet detection.v1i.yolov8/test/images/OIP-42-_jpg.rf.18b1225ba9e40a5e36ac81fb7f65eeeb (8).jpg: 640x640 34 pallets, 14.9ms\nimage 19/200 /kaggle/input/yolov8/pallet detection.v1i.yolov8/test/images/OIP-42-_jpg.rf.18b1225ba9e40a5e36ac81fb7f65eeeb (9).jpg: 640x640 34 pallets, 14.9ms\nimage 20/200 /kaggle/input/yolov8/pallet detection.v1i.yolov8/test/images/OIP-42-_jpg.rf.18b1225ba9e40a5e36ac81fb7f65eeeb.jpg: 640x640 34 pallets, 14.9ms\nimage 21/200 /kaggle/input/yolov8/pallet detection.v1i.yolov8/test/images/OIP-47-_jpg.rf.e9f746c8ce473c2b39e79727f044dc23 (10).jpg: 640x640 34 pallets, 14.8ms\nimage 22/200 /kaggle/input/yolov8/pallet detection.v1i.yolov8/test/images/OIP-47-_jpg.rf.e9f746c8ce473c2b39e79727f044dc23 (2).jpg: 640x640 34 pallets, 14.8ms\nimage 23/200 /kaggle/input/yolov8/pallet detection.v1i.yolov8/test/images/OIP-47-_jpg.rf.e9f746c8ce473c2b39e79727f044dc23 (3).jpg: 640x640 34 pallets, 14.9ms\nimage 24/200 /kaggle/input/yolov8/pallet detection.v1i.yolov8/test/images/OIP-47-_jpg.rf.e9f746c8ce473c2b39e79727f044dc23 (4).jpg: 640x640 34 pallets, 14.9ms\nimage 25/200 /kaggle/input/yolov8/pallet detection.v1i.yolov8/test/images/OIP-47-_jpg.rf.e9f746c8ce473c2b39e79727f044dc23 (5).jpg: 640x640 34 pallets, 15.0ms\nimage 26/200 /kaggle/input/yolov8/pallet detection.v1i.yolov8/test/images/OIP-47-_jpg.rf.e9f746c8ce473c2b39e79727f044dc23 (6).jpg: 640x640 34 pallets, 14.8ms\nimage 27/200 /kaggle/input/yolov8/pallet detection.v1i.yolov8/test/images/OIP-47-_jpg.rf.e9f746c8ce473c2b39e79727f044dc23 (7).jpg: 640x640 34 pallets, 15.0ms\nimage 28/200 /kaggle/input/yolov8/pallet detection.v1i.yolov8/test/images/OIP-47-_jpg.rf.e9f746c8ce473c2b39e79727f044dc23 (8).jpg: 640x640 34 pallets, 14.8ms\nimage 29/200 /kaggle/input/yolov8/pallet detection.v1i.yolov8/test/images/OIP-47-_jpg.rf.e9f746c8ce473c2b39e79727f044dc23 (9).jpg: 640x640 34 pallets, 14.8ms\nimage 30/200 /kaggle/input/yolov8/pallet detection.v1i.yolov8/test/images/OIP-47-_jpg.rf.e9f746c8ce473c2b39e79727f044dc23.jpg: 640x640 34 pallets, 14.9ms\nimage 31/200 /kaggle/input/yolov8/pallet detection.v1i.yolov8/test/images/OIP-8-_jpg.rf.034413f487bbe495efae58ace48ecab2 (10).jpg: 640x640 30 pallets, 15.0ms\nimage 32/200 /kaggle/input/yolov8/pallet detection.v1i.yolov8/test/images/OIP-8-_jpg.rf.034413f487bbe495efae58ace48ecab2 (2).jpg: 640x640 30 pallets, 15.0ms\nimage 33/200 /kaggle/input/yolov8/pallet detection.v1i.yolov8/test/images/OIP-8-_jpg.rf.034413f487bbe495efae58ace48ecab2 (3).jpg: 640x640 30 pallets, 14.8ms\nimage 34/200 /kaggle/input/yolov8/pallet detection.v1i.yolov8/test/images/OIP-8-_jpg.rf.034413f487bbe495efae58ace48ecab2 (4).jpg: 640x640 30 pallets, 14.8ms\nimage 35/200 /kaggle/input/yolov8/pallet detection.v1i.yolov8/test/images/OIP-8-_jpg.rf.034413f487bbe495efae58ace48ecab2 (5).jpg: 640x640 30 pallets, 14.7ms\nimage 36/200 /kaggle/input/yolov8/pallet detection.v1i.yolov8/test/images/OIP-8-_jpg.rf.034413f487bbe495efae58ace48ecab2 (6).jpg: 640x640 30 pallets, 14.8ms\nimage 37/200 /kaggle/input/yolov8/pallet detection.v1i.yolov8/test/images/OIP-8-_jpg.rf.034413f487bbe495efae58ace48ecab2 (7).jpg: 640x640 30 pallets, 14.6ms\nimage 38/200 /kaggle/input/yolov8/pallet detection.v1i.yolov8/test/images/OIP-8-_jpg.rf.034413f487bbe495efae58ace48ecab2 (8).jpg: 640x640 30 pallets, 14.8ms\nimage 39/200 /kaggle/input/yolov8/pallet detection.v1i.yolov8/test/images/OIP-8-_jpg.rf.034413f487bbe495efae58ace48ecab2 (9).jpg: 640x640 30 pallets, 14.8ms\nimage 40/200 /kaggle/input/yolov8/pallet detection.v1i.yolov8/test/images/OIP-8-_jpg.rf.034413f487bbe495efae58ace48ecab2.jpg: 640x640 30 pallets, 14.8ms\nimage 41/200 /kaggle/input/yolov8/pallet detection.v1i.yolov8/test/images/PalletRentalResources-384x448_jpg.rf.879292dd1dc3697aa9b66326ce2b7d5d (10).jpg: 640x640 7 pallets, 14.9ms\nimage 42/200 /kaggle/input/yolov8/pallet detection.v1i.yolov8/test/images/PalletRentalResources-384x448_jpg.rf.879292dd1dc3697aa9b66326ce2b7d5d (2).jpg: 640x640 7 pallets, 14.8ms\nimage 43/200 /kaggle/input/yolov8/pallet detection.v1i.yolov8/test/images/PalletRentalResources-384x448_jpg.rf.879292dd1dc3697aa9b66326ce2b7d5d (3).jpg: 640x640 7 pallets, 14.9ms\nimage 44/200 /kaggle/input/yolov8/pallet detection.v1i.yolov8/test/images/PalletRentalResources-384x448_jpg.rf.879292dd1dc3697aa9b66326ce2b7d5d (4).jpg: 640x640 7 pallets, 14.8ms\nimage 45/200 /kaggle/input/yolov8/pallet detection.v1i.yolov8/test/images/PalletRentalResources-384x448_jpg.rf.879292dd1dc3697aa9b66326ce2b7d5d (5).jpg: 640x640 7 pallets, 14.9ms\nimage 46/200 /kaggle/input/yolov8/pallet detection.v1i.yolov8/test/images/PalletRentalResources-384x448_jpg.rf.879292dd1dc3697aa9b66326ce2b7d5d (6).jpg: 640x640 7 pallets, 14.7ms\nimage 47/200 /kaggle/input/yolov8/pallet detection.v1i.yolov8/test/images/PalletRentalResources-384x448_jpg.rf.879292dd1dc3697aa9b66326ce2b7d5d (7).jpg: 640x640 7 pallets, 14.8ms\nimage 48/200 /kaggle/input/yolov8/pallet detection.v1i.yolov8/test/images/PalletRentalResources-384x448_jpg.rf.879292dd1dc3697aa9b66326ce2b7d5d (8).jpg: 640x640 7 pallets, 14.8ms\nimage 49/200 /kaggle/input/yolov8/pallet detection.v1i.yolov8/test/images/PalletRentalResources-384x448_jpg.rf.879292dd1dc3697aa9b66326ce2b7d5d (9).jpg: 640x640 7 pallets, 14.8ms\nimage 50/200 /kaggle/input/yolov8/pallet detection.v1i.yolov8/test/images/PalletRentalResources-384x448_jpg.rf.879292dd1dc3697aa9b66326ce2b7d5d.jpg: 640x640 7 pallets, 14.8ms\nimage 51/200 /kaggle/input/yolov8/pallet detection.v1i.yolov8/test/images/Screenshot-2025-02-11-094349_png.rf.03eac2a2be1d6764a1c905e41a60bdcc (10).jpg: 640x640 45 pallets, 14.9ms\nimage 52/200 /kaggle/input/yolov8/pallet detection.v1i.yolov8/test/images/Screenshot-2025-02-11-094349_png.rf.03eac2a2be1d6764a1c905e41a60bdcc (2).jpg: 640x640 45 pallets, 14.9ms\nimage 53/200 /kaggle/input/yolov8/pallet detection.v1i.yolov8/test/images/Screenshot-2025-02-11-094349_png.rf.03eac2a2be1d6764a1c905e41a60bdcc (3).jpg: 640x640 45 pallets, 14.8ms\nimage 54/200 /kaggle/input/yolov8/pallet detection.v1i.yolov8/test/images/Screenshot-2025-02-11-094349_png.rf.03eac2a2be1d6764a1c905e41a60bdcc (4).jpg: 640x640 45 pallets, 14.9ms\nimage 55/200 /kaggle/input/yolov8/pallet detection.v1i.yolov8/test/images/Screenshot-2025-02-11-094349_png.rf.03eac2a2be1d6764a1c905e41a60bdcc (5).jpg: 640x640 45 pallets, 14.9ms\nimage 56/200 /kaggle/input/yolov8/pallet detection.v1i.yolov8/test/images/Screenshot-2025-02-11-094349_png.rf.03eac2a2be1d6764a1c905e41a60bdcc (6).jpg: 640x640 45 pallets, 15.0ms\nimage 57/200 /kaggle/input/yolov8/pallet detection.v1i.yolov8/test/images/Screenshot-2025-02-11-094349_png.rf.03eac2a2be1d6764a1c905e41a60bdcc (7).jpg: 640x640 45 pallets, 14.9ms\nimage 58/200 /kaggle/input/yolov8/pallet detection.v1i.yolov8/test/images/Screenshot-2025-02-11-094349_png.rf.03eac2a2be1d6764a1c905e41a60bdcc (8).jpg: 640x640 45 pallets, 14.8ms\nimage 59/200 /kaggle/input/yolov8/pallet detection.v1i.yolov8/test/images/Screenshot-2025-02-11-094349_png.rf.03eac2a2be1d6764a1c905e41a60bdcc (9).jpg: 640x640 45 pallets, 14.8ms\nimage 60/200 /kaggle/input/yolov8/pallet detection.v1i.yolov8/test/images/Screenshot-2025-02-11-094349_png.rf.03eac2a2be1d6764a1c905e41a60bdcc.jpg: 640x640 45 pallets, 14.8ms\nimage 61/200 /kaggle/input/yolov8/pallet detection.v1i.yolov8/test/images/Screenshot-2025-02-11-124420_png.rf.2671042e3a700ee29cf18dccc8e2f00f (10).jpg: 640x640 31 pallets, 14.9ms\nimage 62/200 /kaggle/input/yolov8/pallet detection.v1i.yolov8/test/images/Screenshot-2025-02-11-124420_png.rf.2671042e3a700ee29cf18dccc8e2f00f (2).jpg: 640x640 31 pallets, 14.9ms\nimage 63/200 /kaggle/input/yolov8/pallet detection.v1i.yolov8/test/images/Screenshot-2025-02-11-124420_png.rf.2671042e3a700ee29cf18dccc8e2f00f (3).jpg: 640x640 31 pallets, 14.8ms\nimage 64/200 /kaggle/input/yolov8/pallet detection.v1i.yolov8/test/images/Screenshot-2025-02-11-124420_png.rf.2671042e3a700ee29cf18dccc8e2f00f (4).jpg: 640x640 31 pallets, 14.9ms\nimage 65/200 /kaggle/input/yolov8/pallet detection.v1i.yolov8/test/images/Screenshot-2025-02-11-124420_png.rf.2671042e3a700ee29cf18dccc8e2f00f (5).jpg: 640x640 31 pallets, 14.9ms\nimage 66/200 /kaggle/input/yolov8/pallet detection.v1i.yolov8/test/images/Screenshot-2025-02-11-124420_png.rf.2671042e3a700ee29cf18dccc8e2f00f (6).jpg: 640x640 31 pallets, 14.9ms\nimage 67/200 /kaggle/input/yolov8/pallet detection.v1i.yolov8/test/images/Screenshot-2025-02-11-124420_png.rf.2671042e3a700ee29cf18dccc8e2f00f (7).jpg: 640x640 31 pallets, 14.9ms\nimage 68/200 /kaggle/input/yolov8/pallet detection.v1i.yolov8/test/images/Screenshot-2025-02-11-124420_png.rf.2671042e3a700ee29cf18dccc8e2f00f (8).jpg: 640x640 31 pallets, 14.8ms\nimage 69/200 /kaggle/input/yolov8/pallet detection.v1i.yolov8/test/images/Screenshot-2025-02-11-124420_png.rf.2671042e3a700ee29cf18dccc8e2f00f (9).jpg: 640x640 31 pallets, 14.9ms\nimage 70/200 /kaggle/input/yolov8/pallet detection.v1i.yolov8/test/images/Screenshot-2025-02-11-124420_png.rf.2671042e3a700ee29cf18dccc8e2f00f.jpg: 640x640 31 pallets, 14.7ms\nimage 71/200 /kaggle/input/yolov8/pallet detection.v1i.yolov8/test/images/Screenshot-2025-02-11-124440_png.rf.82b77358de963d5042ca762a5405c79e (10).jpg: 640x640 27 pallets, 15.0ms\nimage 72/200 /kaggle/input/yolov8/pallet detection.v1i.yolov8/test/images/Screenshot-2025-02-11-124440_png.rf.82b77358de963d5042ca762a5405c79e (2).jpg: 640x640 27 pallets, 14.8ms\nimage 73/200 /kaggle/input/yolov8/pallet detection.v1i.yolov8/test/images/Screenshot-2025-02-11-124440_png.rf.82b77358de963d5042ca762a5405c79e (3).jpg: 640x640 27 pallets, 14.9ms\nimage 74/200 /kaggle/input/yolov8/pallet detection.v1i.yolov8/test/images/Screenshot-2025-02-11-124440_png.rf.82b77358de963d5042ca762a5405c79e (4).jpg: 640x640 27 pallets, 14.9ms\nimage 75/200 /kaggle/input/yolov8/pallet detection.v1i.yolov8/test/images/Screenshot-2025-02-11-124440_png.rf.82b77358de963d5042ca762a5405c79e (5).jpg: 640x640 27 pallets, 14.9ms\nimage 76/200 /kaggle/input/yolov8/pallet detection.v1i.yolov8/test/images/Screenshot-2025-02-11-124440_png.rf.82b77358de963d5042ca762a5405c79e (6).jpg: 640x640 27 pallets, 14.8ms\nimage 77/200 /kaggle/input/yolov8/pallet detection.v1i.yolov8/test/images/Screenshot-2025-02-11-124440_png.rf.82b77358de963d5042ca762a5405c79e (7).jpg: 640x640 27 pallets, 14.8ms\nimage 78/200 /kaggle/input/yolov8/pallet detection.v1i.yolov8/test/images/Screenshot-2025-02-11-124440_png.rf.82b77358de963d5042ca762a5405c79e (8).jpg: 640x640 27 pallets, 14.9ms\nimage 79/200 /kaggle/input/yolov8/pallet detection.v1i.yolov8/test/images/Screenshot-2025-02-11-124440_png.rf.82b77358de963d5042ca762a5405c79e (9).jpg: 640x640 27 pallets, 14.8ms\nimage 80/200 /kaggle/input/yolov8/pallet detection.v1i.yolov8/test/images/Screenshot-2025-02-11-124440_png.rf.82b77358de963d5042ca762a5405c79e.jpg: 640x640 27 pallets, 14.9ms\nimage 81/200 /kaggle/input/yolov8/pallet detection.v1i.yolov8/test/images/Screenshot-2025-02-11-131137_png.rf.9e0a3ee16b106f5c000b58cef57579fe (10).jpg: 640x640 48 pallets, 14.9ms\nimage 82/200 /kaggle/input/yolov8/pallet detection.v1i.yolov8/test/images/Screenshot-2025-02-11-131137_png.rf.9e0a3ee16b106f5c000b58cef57579fe (2).jpg: 640x640 48 pallets, 14.9ms\nimage 83/200 /kaggle/input/yolov8/pallet detection.v1i.yolov8/test/images/Screenshot-2025-02-11-131137_png.rf.9e0a3ee16b106f5c000b58cef57579fe (3).jpg: 640x640 48 pallets, 14.9ms\nimage 84/200 /kaggle/input/yolov8/pallet detection.v1i.yolov8/test/images/Screenshot-2025-02-11-131137_png.rf.9e0a3ee16b106f5c000b58cef57579fe (4).jpg: 640x640 48 pallets, 14.9ms\nimage 85/200 /kaggle/input/yolov8/pallet detection.v1i.yolov8/test/images/Screenshot-2025-02-11-131137_png.rf.9e0a3ee16b106f5c000b58cef57579fe (5).jpg: 640x640 48 pallets, 14.9ms\nimage 86/200 /kaggle/input/yolov8/pallet detection.v1i.yolov8/test/images/Screenshot-2025-02-11-131137_png.rf.9e0a3ee16b106f5c000b58cef57579fe (6).jpg: 640x640 48 pallets, 14.9ms\nimage 87/200 /kaggle/input/yolov8/pallet detection.v1i.yolov8/test/images/Screenshot-2025-02-11-131137_png.rf.9e0a3ee16b106f5c000b58cef57579fe (7).jpg: 640x640 48 pallets, 14.9ms\nimage 88/200 /kaggle/input/yolov8/pallet detection.v1i.yolov8/test/images/Screenshot-2025-02-11-131137_png.rf.9e0a3ee16b106f5c000b58cef57579fe (8).jpg: 640x640 48 pallets, 14.9ms\nimage 89/200 /kaggle/input/yolov8/pallet detection.v1i.yolov8/test/images/Screenshot-2025-02-11-131137_png.rf.9e0a3ee16b106f5c000b58cef57579fe (9).jpg: 640x640 48 pallets, 14.9ms\nimage 90/200 /kaggle/input/yolov8/pallet detection.v1i.yolov8/test/images/Screenshot-2025-02-11-131137_png.rf.9e0a3ee16b106f5c000b58cef57579fe.jpg: 640x640 48 pallets, 14.9ms\nimage 91/200 /kaggle/input/yolov8/pallet detection.v1i.yolov8/test/images/Screenshot-2025-04-21-162536_png.rf.e500284df8d0fcecc7be80d67e024421 (10).jpg: 640x640 22 pallets, 14.8ms\nimage 92/200 /kaggle/input/yolov8/pallet detection.v1i.yolov8/test/images/Screenshot-2025-04-21-162536_png.rf.e500284df8d0fcecc7be80d67e024421 (2).jpg: 640x640 22 pallets, 14.9ms\nimage 93/200 /kaggle/input/yolov8/pallet detection.v1i.yolov8/test/images/Screenshot-2025-04-21-162536_png.rf.e500284df8d0fcecc7be80d67e024421 (3).jpg: 640x640 22 pallets, 14.8ms\nimage 94/200 /kaggle/input/yolov8/pallet detection.v1i.yolov8/test/images/Screenshot-2025-04-21-162536_png.rf.e500284df8d0fcecc7be80d67e024421 (4).jpg: 640x640 22 pallets, 14.9ms\nimage 95/200 /kaggle/input/yolov8/pallet detection.v1i.yolov8/test/images/Screenshot-2025-04-21-162536_png.rf.e500284df8d0fcecc7be80d67e024421 (5).jpg: 640x640 22 pallets, 14.9ms\nimage 96/200 /kaggle/input/yolov8/pallet detection.v1i.yolov8/test/images/Screenshot-2025-04-21-162536_png.rf.e500284df8d0fcecc7be80d67e024421 (6).jpg: 640x640 22 pallets, 14.8ms\nimage 97/200 /kaggle/input/yolov8/pallet detection.v1i.yolov8/test/images/Screenshot-2025-04-21-162536_png.rf.e500284df8d0fcecc7be80d67e024421 (7).jpg: 640x640 22 pallets, 14.9ms\nimage 98/200 /kaggle/input/yolov8/pallet detection.v1i.yolov8/test/images/Screenshot-2025-04-21-162536_png.rf.e500284df8d0fcecc7be80d67e024421 (8).jpg: 640x640 22 pallets, 14.9ms\nimage 99/200 /kaggle/input/yolov8/pallet detection.v1i.yolov8/test/images/Screenshot-2025-04-21-162536_png.rf.e500284df8d0fcecc7be80d67e024421 (9).jpg: 640x640 22 pallets, 14.8ms\nimage 100/200 /kaggle/input/yolov8/pallet detection.v1i.yolov8/test/images/Screenshot-2025-04-21-162536_png.rf.e500284df8d0fcecc7be80d67e024421.jpg: 640x640 22 pallets, 14.9ms\nimage 101/200 /kaggle/input/yolov8/pallet detection.v1i.yolov8/test/images/Screenshot-2025-04-21-162735_png.rf.da0e4569bf3b5264b4c5694f63a87e9c (10).jpg: 640x640 11 pallets, 14.9ms\nimage 102/200 /kaggle/input/yolov8/pallet detection.v1i.yolov8/test/images/Screenshot-2025-04-21-162735_png.rf.da0e4569bf3b5264b4c5694f63a87e9c (2).jpg: 640x640 11 pallets, 15.0ms\nimage 103/200 /kaggle/input/yolov8/pallet detection.v1i.yolov8/test/images/Screenshot-2025-04-21-162735_png.rf.da0e4569bf3b5264b4c5694f63a87e9c (3).jpg: 640x640 11 pallets, 14.9ms\nimage 104/200 /kaggle/input/yolov8/pallet detection.v1i.yolov8/test/images/Screenshot-2025-04-21-162735_png.rf.da0e4569bf3b5264b4c5694f63a87e9c (4).jpg: 640x640 11 pallets, 14.8ms\nimage 105/200 /kaggle/input/yolov8/pallet detection.v1i.yolov8/test/images/Screenshot-2025-04-21-162735_png.rf.da0e4569bf3b5264b4c5694f63a87e9c (5).jpg: 640x640 11 pallets, 14.9ms\nimage 106/200 /kaggle/input/yolov8/pallet detection.v1i.yolov8/test/images/Screenshot-2025-04-21-162735_png.rf.da0e4569bf3b5264b4c5694f63a87e9c (6).jpg: 640x640 11 pallets, 14.8ms\nimage 107/200 /kaggle/input/yolov8/pallet detection.v1i.yolov8/test/images/Screenshot-2025-04-21-162735_png.rf.da0e4569bf3b5264b4c5694f63a87e9c (7).jpg: 640x640 11 pallets, 14.9ms\nimage 108/200 /kaggle/input/yolov8/pallet detection.v1i.yolov8/test/images/Screenshot-2025-04-21-162735_png.rf.da0e4569bf3b5264b4c5694f63a87e9c (8).jpg: 640x640 11 pallets, 14.9ms\nimage 109/200 /kaggle/input/yolov8/pallet detection.v1i.yolov8/test/images/Screenshot-2025-04-21-162735_png.rf.da0e4569bf3b5264b4c5694f63a87e9c (9).jpg: 640x640 11 pallets, 14.8ms\nimage 110/200 /kaggle/input/yolov8/pallet detection.v1i.yolov8/test/images/Screenshot-2025-04-21-162735_png.rf.da0e4569bf3b5264b4c5694f63a87e9c.jpg: 640x640 11 pallets, 14.9ms\nimage 111/200 /kaggle/input/yolov8/pallet detection.v1i.yolov8/test/images/Screenshot-2025-04-23-105754_png.rf.faa505945fe611c49c24b06316bc45f0 (10).jpg: 640x640 24 pallets, 14.8ms\nimage 112/200 /kaggle/input/yolov8/pallet detection.v1i.yolov8/test/images/Screenshot-2025-04-23-105754_png.rf.faa505945fe611c49c24b06316bc45f0 (2).jpg: 640x640 24 pallets, 14.9ms\nimage 113/200 /kaggle/input/yolov8/pallet detection.v1i.yolov8/test/images/Screenshot-2025-04-23-105754_png.rf.faa505945fe611c49c24b06316bc45f0 (3).jpg: 640x640 24 pallets, 14.9ms\nimage 114/200 /kaggle/input/yolov8/pallet detection.v1i.yolov8/test/images/Screenshot-2025-04-23-105754_png.rf.faa505945fe611c49c24b06316bc45f0 (4).jpg: 640x640 24 pallets, 14.9ms\nimage 115/200 /kaggle/input/yolov8/pallet detection.v1i.yolov8/test/images/Screenshot-2025-04-23-105754_png.rf.faa505945fe611c49c24b06316bc45f0 (5).jpg: 640x640 24 pallets, 14.8ms\nimage 116/200 /kaggle/input/yolov8/pallet detection.v1i.yolov8/test/images/Screenshot-2025-04-23-105754_png.rf.faa505945fe611c49c24b06316bc45f0 (6).jpg: 640x640 24 pallets, 14.8ms\nimage 117/200 /kaggle/input/yolov8/pallet detection.v1i.yolov8/test/images/Screenshot-2025-04-23-105754_png.rf.faa505945fe611c49c24b06316bc45f0 (7).jpg: 640x640 24 pallets, 14.9ms\nimage 118/200 /kaggle/input/yolov8/pallet detection.v1i.yolov8/test/images/Screenshot-2025-04-23-105754_png.rf.faa505945fe611c49c24b06316bc45f0 (8).jpg: 640x640 24 pallets, 14.9ms\nimage 119/200 /kaggle/input/yolov8/pallet detection.v1i.yolov8/test/images/Screenshot-2025-04-23-105754_png.rf.faa505945fe611c49c24b06316bc45f0 (9).jpg: 640x640 24 pallets, 14.9ms\nimage 120/200 /kaggle/input/yolov8/pallet detection.v1i.yolov8/test/images/Screenshot-2025-04-23-105754_png.rf.faa505945fe611c49c24b06316bc45f0.jpg: 640x640 24 pallets, 14.9ms\nimage 121/200 /kaggle/input/yolov8/pallet detection.v1i.yolov8/test/images/Screenshot-2025-04-24-123530_png.rf.6169bddb0162b5375cb34c606b608189 (10).jpg: 640x640 21 pallets, 14.9ms\nimage 122/200 /kaggle/input/yolov8/pallet detection.v1i.yolov8/test/images/Screenshot-2025-04-24-123530_png.rf.6169bddb0162b5375cb34c606b608189 (2).jpg: 640x640 21 pallets, 14.8ms\nimage 123/200 /kaggle/input/yolov8/pallet detection.v1i.yolov8/test/images/Screenshot-2025-04-24-123530_png.rf.6169bddb0162b5375cb34c606b608189 (3).jpg: 640x640 21 pallets, 14.9ms\nimage 124/200 /kaggle/input/yolov8/pallet detection.v1i.yolov8/test/images/Screenshot-2025-04-24-123530_png.rf.6169bddb0162b5375cb34c606b608189 (4).jpg: 640x640 21 pallets, 14.8ms\nimage 125/200 /kaggle/input/yolov8/pallet detection.v1i.yolov8/test/images/Screenshot-2025-04-24-123530_png.rf.6169bddb0162b5375cb34c606b608189 (5).jpg: 640x640 21 pallets, 14.8ms\nimage 126/200 /kaggle/input/yolov8/pallet detection.v1i.yolov8/test/images/Screenshot-2025-04-24-123530_png.rf.6169bddb0162b5375cb34c606b608189 (6).jpg: 640x640 21 pallets, 14.8ms\nimage 127/200 /kaggle/input/yolov8/pallet detection.v1i.yolov8/test/images/Screenshot-2025-04-24-123530_png.rf.6169bddb0162b5375cb34c606b608189 (7).jpg: 640x640 21 pallets, 14.8ms\nimage 128/200 /kaggle/input/yolov8/pallet detection.v1i.yolov8/test/images/Screenshot-2025-04-24-123530_png.rf.6169bddb0162b5375cb34c606b608189 (8).jpg: 640x640 21 pallets, 14.9ms\nimage 129/200 /kaggle/input/yolov8/pallet detection.v1i.yolov8/test/images/Screenshot-2025-04-24-123530_png.rf.6169bddb0162b5375cb34c606b608189 (9).jpg: 640x640 21 pallets, 14.8ms\nimage 130/200 /kaggle/input/yolov8/pallet detection.v1i.yolov8/test/images/Screenshot-2025-04-24-123530_png.rf.6169bddb0162b5375cb34c606b608189.jpg: 640x640 21 pallets, 14.9ms\nimage 131/200 /kaggle/input/yolov8/pallet detection.v1i.yolov8/test/images/stack-of-blue-wooden-pallets-at-mill-house-cider-museum-owermoigne-dorchester-dorset-uk-2K3E4HK_jpg.rf.ba8d8c0225a98c11b3d25a5eb8fa4497 (10).jpg: 640x640 20 pallets, 14.9ms\nimage 132/200 /kaggle/input/yolov8/pallet detection.v1i.yolov8/test/images/stack-of-blue-wooden-pallets-at-mill-house-cider-museum-owermoigne-dorchester-dorset-uk-2K3E4HK_jpg.rf.ba8d8c0225a98c11b3d25a5eb8fa4497 (2).jpg: 640x640 20 pallets, 14.9ms\nimage 133/200 /kaggle/input/yolov8/pallet detection.v1i.yolov8/test/images/stack-of-blue-wooden-pallets-at-mill-house-cider-museum-owermoigne-dorchester-dorset-uk-2K3E4HK_jpg.rf.ba8d8c0225a98c11b3d25a5eb8fa4497 (3).jpg: 640x640 20 pallets, 14.8ms\nimage 134/200 /kaggle/input/yolov8/pallet detection.v1i.yolov8/test/images/stack-of-blue-wooden-pallets-at-mill-house-cider-museum-owermoigne-dorchester-dorset-uk-2K3E4HK_jpg.rf.ba8d8c0225a98c11b3d25a5eb8fa4497 (4).jpg: 640x640 20 pallets, 14.9ms\nimage 135/200 /kaggle/input/yolov8/pallet detection.v1i.yolov8/test/images/stack-of-blue-wooden-pallets-at-mill-house-cider-museum-owermoigne-dorchester-dorset-uk-2K3E4HK_jpg.rf.ba8d8c0225a98c11b3d25a5eb8fa4497 (5).jpg: 640x640 20 pallets, 14.9ms\nimage 136/200 /kaggle/input/yolov8/pallet detection.v1i.yolov8/test/images/stack-of-blue-wooden-pallets-at-mill-house-cider-museum-owermoigne-dorchester-dorset-uk-2K3E4HK_jpg.rf.ba8d8c0225a98c11b3d25a5eb8fa4497 (6).jpg: 640x640 20 pallets, 14.9ms\nimage 137/200 /kaggle/input/yolov8/pallet detection.v1i.yolov8/test/images/stack-of-blue-wooden-pallets-at-mill-house-cider-museum-owermoigne-dorchester-dorset-uk-2K3E4HK_jpg.rf.ba8d8c0225a98c11b3d25a5eb8fa4497 (7).jpg: 640x640 20 pallets, 14.9ms\nimage 138/200 /kaggle/input/yolov8/pallet detection.v1i.yolov8/test/images/stack-of-blue-wooden-pallets-at-mill-house-cider-museum-owermoigne-dorchester-dorset-uk-2K3E4HK_jpg.rf.ba8d8c0225a98c11b3d25a5eb8fa4497 (8).jpg: 640x640 20 pallets, 14.9ms\nimage 139/200 /kaggle/input/yolov8/pallet detection.v1i.yolov8/test/images/stack-of-blue-wooden-pallets-at-mill-house-cider-museum-owermoigne-dorchester-dorset-uk-2K3E4HK_jpg.rf.ba8d8c0225a98c11b3d25a5eb8fa4497 (9).jpg: 640x640 20 pallets, 14.8ms\nimage 140/200 /kaggle/input/yolov8/pallet detection.v1i.yolov8/test/images/stack-of-blue-wooden-pallets-at-mill-house-cider-museum-owermoigne-dorchester-dorset-uk-2K3E4HK_jpg.rf.ba8d8c0225a98c11b3d25a5eb8fa4497.jpg: 640x640 20 pallets, 14.9ms\nimage 141/200 /kaggle/input/yolov8/pallet detection.v1i.yolov8/test/images/stacked-blue-timber-reusable-shipping-pallets-outside-in-a-yard-in-australia-MDT39N_jpg.rf.a4521ff76b15b7a5f55648824c0f869c (10).jpg: 640x640 28 pallets, 14.9ms\nimage 142/200 /kaggle/input/yolov8/pallet detection.v1i.yolov8/test/images/stacked-blue-timber-reusable-shipping-pallets-outside-in-a-yard-in-australia-MDT39N_jpg.rf.a4521ff76b15b7a5f55648824c0f869c (2).jpg: 640x640 28 pallets, 14.8ms\nimage 143/200 /kaggle/input/yolov8/pallet detection.v1i.yolov8/test/images/stacked-blue-timber-reusable-shipping-pallets-outside-in-a-yard-in-australia-MDT39N_jpg.rf.a4521ff76b15b7a5f55648824c0f869c (3).jpg: 640x640 28 pallets, 14.8ms\nimage 144/200 /kaggle/input/yolov8/pallet detection.v1i.yolov8/test/images/stacked-blue-timber-reusable-shipping-pallets-outside-in-a-yard-in-australia-MDT39N_jpg.rf.a4521ff76b15b7a5f55648824c0f869c (4).jpg: 640x640 28 pallets, 14.9ms\nimage 145/200 /kaggle/input/yolov8/pallet detection.v1i.yolov8/test/images/stacked-blue-timber-reusable-shipping-pallets-outside-in-a-yard-in-australia-MDT39N_jpg.rf.a4521ff76b15b7a5f55648824c0f869c (5).jpg: 640x640 28 pallets, 14.9ms\nimage 146/200 /kaggle/input/yolov8/pallet detection.v1i.yolov8/test/images/stacked-blue-timber-reusable-shipping-pallets-outside-in-a-yard-in-australia-MDT39N_jpg.rf.a4521ff76b15b7a5f55648824c0f869c (6).jpg: 640x640 28 pallets, 14.9ms\nimage 147/200 /kaggle/input/yolov8/pallet detection.v1i.yolov8/test/images/stacked-blue-timber-reusable-shipping-pallets-outside-in-a-yard-in-australia-MDT39N_jpg.rf.a4521ff76b15b7a5f55648824c0f869c (7).jpg: 640x640 28 pallets, 14.8ms\nimage 148/200 /kaggle/input/yolov8/pallet detection.v1i.yolov8/test/images/stacked-blue-timber-reusable-shipping-pallets-outside-in-a-yard-in-australia-MDT39N_jpg.rf.a4521ff76b15b7a5f55648824c0f869c (8).jpg: 640x640 28 pallets, 14.9ms\nimage 149/200 /kaggle/input/yolov8/pallet detection.v1i.yolov8/test/images/stacked-blue-timber-reusable-shipping-pallets-outside-in-a-yard-in-australia-MDT39N_jpg.rf.a4521ff76b15b7a5f55648824c0f869c (9).jpg: 640x640 28 pallets, 14.9ms\nimage 150/200 /kaggle/input/yolov8/pallet detection.v1i.yolov8/test/images/stacked-blue-timber-reusable-shipping-pallets-outside-in-a-yard-in-australia-MDT39N_jpg.rf.a4521ff76b15b7a5f55648824c0f869c.jpg: 640x640 28 pallets, 14.8ms\nimage 151/200 /kaggle/input/yolov8/pallet detection.v1i.yolov8/test/images/stock-photo-shipping-pallets-wooden-wall-stack-of-pallet-2229034457_jpg.rf.a4321acaba9f16c0ca4bcd1b7cd13771 (10).jpg: 640x640 64 pallets, 14.8ms\nimage 152/200 /kaggle/input/yolov8/pallet detection.v1i.yolov8/test/images/stock-photo-shipping-pallets-wooden-wall-stack-of-pallet-2229034457_jpg.rf.a4321acaba9f16c0ca4bcd1b7cd13771 (2).jpg: 640x640 64 pallets, 15.0ms\nimage 153/200 /kaggle/input/yolov8/pallet detection.v1i.yolov8/test/images/stock-photo-shipping-pallets-wooden-wall-stack-of-pallet-2229034457_jpg.rf.a4321acaba9f16c0ca4bcd1b7cd13771 (3).jpg: 640x640 64 pallets, 14.9ms\nimage 154/200 /kaggle/input/yolov8/pallet detection.v1i.yolov8/test/images/stock-photo-shipping-pallets-wooden-wall-stack-of-pallet-2229034457_jpg.rf.a4321acaba9f16c0ca4bcd1b7cd13771 (4).jpg: 640x640 64 pallets, 14.9ms\nimage 155/200 /kaggle/input/yolov8/pallet detection.v1i.yolov8/test/images/stock-photo-shipping-pallets-wooden-wall-stack-of-pallet-2229034457_jpg.rf.a4321acaba9f16c0ca4bcd1b7cd13771 (5).jpg: 640x640 64 pallets, 15.0ms\nimage 156/200 /kaggle/input/yolov8/pallet detection.v1i.yolov8/test/images/stock-photo-shipping-pallets-wooden-wall-stack-of-pallet-2229034457_jpg.rf.a4321acaba9f16c0ca4bcd1b7cd13771 (6).jpg: 640x640 64 pallets, 14.9ms\nimage 157/200 /kaggle/input/yolov8/pallet detection.v1i.yolov8/test/images/stock-photo-shipping-pallets-wooden-wall-stack-of-pallet-2229034457_jpg.rf.a4321acaba9f16c0ca4bcd1b7cd13771 (7).jpg: 640x640 64 pallets, 14.9ms\nimage 158/200 /kaggle/input/yolov8/pallet detection.v1i.yolov8/test/images/stock-photo-shipping-pallets-wooden-wall-stack-of-pallet-2229034457_jpg.rf.a4321acaba9f16c0ca4bcd1b7cd13771 (8).jpg: 640x640 64 pallets, 14.9ms\nimage 159/200 /kaggle/input/yolov8/pallet detection.v1i.yolov8/test/images/stock-photo-shipping-pallets-wooden-wall-stack-of-pallet-2229034457_jpg.rf.a4321acaba9f16c0ca4bcd1b7cd13771 (9).jpg: 640x640 64 pallets, 14.8ms\nimage 160/200 /kaggle/input/yolov8/pallet detection.v1i.yolov8/test/images/stock-photo-shipping-pallets-wooden-wall-stack-of-pallet-2229034457_jpg.rf.a4321acaba9f16c0ca4bcd1b7cd13771.jpg: 640x640 64 pallets, 14.9ms\nimage 161/200 /kaggle/input/yolov8/pallet detection.v1i.yolov8/test/images/wood-pallets-4395709_jpg.rf.021cee75a11a76272f0faf9548d9566f (10).jpg: 640x640 62 pallets, 14.9ms\nimage 162/200 /kaggle/input/yolov8/pallet detection.v1i.yolov8/test/images/wood-pallets-4395709_jpg.rf.021cee75a11a76272f0faf9548d9566f (2).jpg: 640x640 62 pallets, 14.9ms\nimage 163/200 /kaggle/input/yolov8/pallet detection.v1i.yolov8/test/images/wood-pallets-4395709_jpg.rf.021cee75a11a76272f0faf9548d9566f (3).jpg: 640x640 62 pallets, 14.9ms\nimage 164/200 /kaggle/input/yolov8/pallet detection.v1i.yolov8/test/images/wood-pallets-4395709_jpg.rf.021cee75a11a76272f0faf9548d9566f (4).jpg: 640x640 62 pallets, 14.9ms\nimage 165/200 /kaggle/input/yolov8/pallet detection.v1i.yolov8/test/images/wood-pallets-4395709_jpg.rf.021cee75a11a76272f0faf9548d9566f (5).jpg: 640x640 62 pallets, 14.9ms\nimage 166/200 /kaggle/input/yolov8/pallet detection.v1i.yolov8/test/images/wood-pallets-4395709_jpg.rf.021cee75a11a76272f0faf9548d9566f (6).jpg: 640x640 62 pallets, 14.9ms\nimage 167/200 /kaggle/input/yolov8/pallet detection.v1i.yolov8/test/images/wood-pallets-4395709_jpg.rf.021cee75a11a76272f0faf9548d9566f (7).jpg: 640x640 62 pallets, 14.9ms\nimage 168/200 /kaggle/input/yolov8/pallet detection.v1i.yolov8/test/images/wood-pallets-4395709_jpg.rf.021cee75a11a76272f0faf9548d9566f (8).jpg: 640x640 62 pallets, 14.8ms\nimage 169/200 /kaggle/input/yolov8/pallet detection.v1i.yolov8/test/images/wood-pallets-4395709_jpg.rf.021cee75a11a76272f0faf9548d9566f (9).jpg: 640x640 62 pallets, 14.9ms\nimage 170/200 /kaggle/input/yolov8/pallet detection.v1i.yolov8/test/images/wood-pallets-4395709_jpg.rf.021cee75a11a76272f0faf9548d9566f.jpg: 640x640 62 pallets, 14.8ms\nimage 171/200 /kaggle/input/yolov8/pallet detection.v1i.yolov8/test/images/wooden-euro-pallets-stacked-big-industrial-storehouse-wooden-euro-pallets-stacked-big-industrial-storehouse-173332622_jpg.rf.9b52d09252a3a9fc012c2a6017a8edd0 (10).jpg: 640x640 67 pallets, 14.8ms\nimage 172/200 /kaggle/input/yolov8/pallet detection.v1i.yolov8/test/images/wooden-euro-pallets-stacked-big-industrial-storehouse-wooden-euro-pallets-stacked-big-industrial-storehouse-173332622_jpg.rf.9b52d09252a3a9fc012c2a6017a8edd0 (2).jpg: 640x640 67 pallets, 14.8ms\nimage 173/200 /kaggle/input/yolov8/pallet detection.v1i.yolov8/test/images/wooden-euro-pallets-stacked-big-industrial-storehouse-wooden-euro-pallets-stacked-big-industrial-storehouse-173332622_jpg.rf.9b52d09252a3a9fc012c2a6017a8edd0 (3).jpg: 640x640 67 pallets, 15.0ms\nimage 174/200 /kaggle/input/yolov8/pallet detection.v1i.yolov8/test/images/wooden-euro-pallets-stacked-big-industrial-storehouse-wooden-euro-pallets-stacked-big-industrial-storehouse-173332622_jpg.rf.9b52d09252a3a9fc012c2a6017a8edd0 (4).jpg: 640x640 67 pallets, 14.8ms\nimage 175/200 /kaggle/input/yolov8/pallet detection.v1i.yolov8/test/images/wooden-euro-pallets-stacked-big-industrial-storehouse-wooden-euro-pallets-stacked-big-industrial-storehouse-173332622_jpg.rf.9b52d09252a3a9fc012c2a6017a8edd0 (5).jpg: 640x640 67 pallets, 14.9ms\nimage 176/200 /kaggle/input/yolov8/pallet detection.v1i.yolov8/test/images/wooden-euro-pallets-stacked-big-industrial-storehouse-wooden-euro-pallets-stacked-big-industrial-storehouse-173332622_jpg.rf.9b52d09252a3a9fc012c2a6017a8edd0 (6).jpg: 640x640 67 pallets, 14.9ms\nimage 177/200 /kaggle/input/yolov8/pallet detection.v1i.yolov8/test/images/wooden-euro-pallets-stacked-big-industrial-storehouse-wooden-euro-pallets-stacked-big-industrial-storehouse-173332622_jpg.rf.9b52d09252a3a9fc012c2a6017a8edd0 (7).jpg: 640x640 67 pallets, 14.9ms\nimage 178/200 /kaggle/input/yolov8/pallet detection.v1i.yolov8/test/images/wooden-euro-pallets-stacked-big-industrial-storehouse-wooden-euro-pallets-stacked-big-industrial-storehouse-173332622_jpg.rf.9b52d09252a3a9fc012c2a6017a8edd0 (8).jpg: 640x640 67 pallets, 14.9ms\nimage 179/200 /kaggle/input/yolov8/pallet detection.v1i.yolov8/test/images/wooden-euro-pallets-stacked-big-industrial-storehouse-wooden-euro-pallets-stacked-big-industrial-storehouse-173332622_jpg.rf.9b52d09252a3a9fc012c2a6017a8edd0 (9).jpg: 640x640 67 pallets, 14.8ms\nimage 180/200 /kaggle/input/yolov8/pallet detection.v1i.yolov8/test/images/wooden-euro-pallets-stacked-big-industrial-storehouse-wooden-euro-pallets-stacked-big-industrial-storehouse-173332622_jpg.rf.9b52d09252a3a9fc012c2a6017a8edd0.jpg: 640x640 67 pallets, 14.8ms\nimage 181/200 /kaggle/input/yolov8/pallet detection.v1i.yolov8/test/images/wooden-pallets-2A3N3NB_jpg.rf.9044fa80ca9743880ff986b39601f948 (10).jpg: 640x640 40 pallets, 14.9ms\nimage 182/200 /kaggle/input/yolov8/pallet detection.v1i.yolov8/test/images/wooden-pallets-2A3N3NB_jpg.rf.9044fa80ca9743880ff986b39601f948 (2).jpg: 640x640 40 pallets, 14.9ms\nimage 183/200 /kaggle/input/yolov8/pallet detection.v1i.yolov8/test/images/wooden-pallets-2A3N3NB_jpg.rf.9044fa80ca9743880ff986b39601f948 (3).jpg: 640x640 40 pallets, 14.9ms\nimage 184/200 /kaggle/input/yolov8/pallet detection.v1i.yolov8/test/images/wooden-pallets-2A3N3NB_jpg.rf.9044fa80ca9743880ff986b39601f948 (4).jpg: 640x640 40 pallets, 14.9ms\nimage 185/200 /kaggle/input/yolov8/pallet detection.v1i.yolov8/test/images/wooden-pallets-2A3N3NB_jpg.rf.9044fa80ca9743880ff986b39601f948 (5).jpg: 640x640 40 pallets, 14.9ms\nimage 186/200 /kaggle/input/yolov8/pallet detection.v1i.yolov8/test/images/wooden-pallets-2A3N3NB_jpg.rf.9044fa80ca9743880ff986b39601f948 (6).jpg: 640x640 40 pallets, 14.8ms\nimage 187/200 /kaggle/input/yolov8/pallet detection.v1i.yolov8/test/images/wooden-pallets-2A3N3NB_jpg.rf.9044fa80ca9743880ff986b39601f948 (7).jpg: 640x640 40 pallets, 14.9ms\nimage 188/200 /kaggle/input/yolov8/pallet detection.v1i.yolov8/test/images/wooden-pallets-2A3N3NB_jpg.rf.9044fa80ca9743880ff986b39601f948 (8).jpg: 640x640 40 pallets, 14.9ms\nimage 189/200 /kaggle/input/yolov8/pallet detection.v1i.yolov8/test/images/wooden-pallets-2A3N3NB_jpg.rf.9044fa80ca9743880ff986b39601f948 (9).jpg: 640x640 40 pallets, 14.9ms\nimage 190/200 /kaggle/input/yolov8/pallet detection.v1i.yolov8/test/images/wooden-pallets-2A3N3NB_jpg.rf.9044fa80ca9743880ff986b39601f948.jpg: 640x640 40 pallets, 14.9ms\nimage 191/200 /kaggle/input/yolov8/pallet detection.v1i.yolov8/test/images/wooden-pallets-2A3N3R3_jpg.rf.9f788612abeb63fa83ded55725299215 (10).jpg: 640x640 41 pallets, 14.8ms\nimage 192/200 /kaggle/input/yolov8/pallet detection.v1i.yolov8/test/images/wooden-pallets-2A3N3R3_jpg.rf.9f788612abeb63fa83ded55725299215 (2).jpg: 640x640 41 pallets, 14.9ms\nimage 193/200 /kaggle/input/yolov8/pallet detection.v1i.yolov8/test/images/wooden-pallets-2A3N3R3_jpg.rf.9f788612abeb63fa83ded55725299215 (3).jpg: 640x640 41 pallets, 14.9ms\nimage 194/200 /kaggle/input/yolov8/pallet detection.v1i.yolov8/test/images/wooden-pallets-2A3N3R3_jpg.rf.9f788612abeb63fa83ded55725299215 (4).jpg: 640x640 41 pallets, 14.8ms\nimage 195/200 /kaggle/input/yolov8/pallet detection.v1i.yolov8/test/images/wooden-pallets-2A3N3R3_jpg.rf.9f788612abeb63fa83ded55725299215 (5).jpg: 640x640 41 pallets, 14.9ms\nimage 196/200 /kaggle/input/yolov8/pallet detection.v1i.yolov8/test/images/wooden-pallets-2A3N3R3_jpg.rf.9f788612abeb63fa83ded55725299215 (6).jpg: 640x640 41 pallets, 14.8ms\nimage 197/200 /kaggle/input/yolov8/pallet detection.v1i.yolov8/test/images/wooden-pallets-2A3N3R3_jpg.rf.9f788612abeb63fa83ded55725299215 (7).jpg: 640x640 41 pallets, 14.8ms\nimage 198/200 /kaggle/input/yolov8/pallet detection.v1i.yolov8/test/images/wooden-pallets-2A3N3R3_jpg.rf.9f788612abeb63fa83ded55725299215 (8).jpg: 640x640 41 pallets, 14.8ms\nimage 199/200 /kaggle/input/yolov8/pallet detection.v1i.yolov8/test/images/wooden-pallets-2A3N3R3_jpg.rf.9f788612abeb63fa83ded55725299215 (9).jpg: 640x640 41 pallets, 14.9ms\nimage 200/200 /kaggle/input/yolov8/pallet detection.v1i.yolov8/test/images/wooden-pallets-2A3N3R3_jpg.rf.9f788612abeb63fa83ded55725299215.jpg: 640x640 41 pallets, 14.9ms\nSpeed: 2.2ms preprocess, 14.9ms inference, 1.4ms postprocess per image at shape (1, 3, 640, 640)\nResults saved to \u001b[1mpallet_detection_project/predict_test\u001b[0m\n",
          "output_type": "stream"
        },
        {
          "output_type": "display_data",
          "data": {
            "text/plain": "<Figure size 1500x1500 with 0 Axes>"
          },
          "metadata": {}
        }
      ],
      "execution_count": null
    },
    {
      "cell_type": "markdown",
      "source": [
        "YOLOV8s"
      ],
      "metadata": {
        "id": "BOmUxB6IXUGJ"
      }
    },
    {
      "cell_type": "code",
      "source": [
        "!pip install ultralytics\n"
      ],
      "metadata": {
        "trusted": true,
        "execution": {
          "iopub.status.busy": "2025-05-03T03:52:05.994945Z",
          "iopub.execute_input": "2025-05-03T03:52:05.995118Z",
          "iopub.status.idle": "2025-05-03T03:53:16.008133Z",
          "shell.execute_reply.started": "2025-05-03T03:52:05.995102Z",
          "shell.execute_reply": "2025-05-03T03:53:16.007233Z"
        },
        "id": "KSFpHq4YXUGJ",
        "outputId": "3a831300-c8f4-4ac2-f7a9-6df6db48d7fa"
      },
      "outputs": [
        {
          "name": "stdout",
          "text": "Collecting ultralytics\n  Downloading ultralytics-8.3.124-py3-none-any.whl.metadata (37 kB)\nRequirement already satisfied: numpy>=1.23.0 in /usr/local/lib/python3.11/dist-packages (from ultralytics) (1.26.4)\nRequirement already satisfied: matplotlib>=3.3.0 in /usr/local/lib/python3.11/dist-packages (from ultralytics) (3.7.5)\nRequirement already satisfied: opencv-python>=4.6.0 in /usr/local/lib/python3.11/dist-packages (from ultralytics) (4.11.0.86)\nRequirement already satisfied: pillow>=7.1.2 in /usr/local/lib/python3.11/dist-packages (from ultralytics) (11.1.0)\nRequirement already satisfied: pyyaml>=5.3.1 in /usr/local/lib/python3.11/dist-packages (from ultralytics) (6.0.2)\nRequirement already satisfied: requests>=2.23.0 in /usr/local/lib/python3.11/dist-packages (from ultralytics) (2.32.3)\nRequirement already satisfied: scipy>=1.4.1 in /usr/local/lib/python3.11/dist-packages (from ultralytics) (1.15.2)\nRequirement already satisfied: torch>=1.8.0 in /usr/local/lib/python3.11/dist-packages (from ultralytics) (2.5.1+cu124)\nRequirement already satisfied: torchvision>=0.9.0 in /usr/local/lib/python3.11/dist-packages (from ultralytics) (0.20.1+cu124)\nRequirement already satisfied: tqdm>=4.64.0 in /usr/local/lib/python3.11/dist-packages (from ultralytics) (4.67.1)\nRequirement already satisfied: psutil in /usr/local/lib/python3.11/dist-packages (from ultralytics) (7.0.0)\nRequirement already satisfied: py-cpuinfo in /usr/local/lib/python3.11/dist-packages (from ultralytics) (9.0.0)\nRequirement already satisfied: pandas>=1.1.4 in /usr/local/lib/python3.11/dist-packages (from ultralytics) (2.2.3)\nRequirement already satisfied: seaborn>=0.11.0 in /usr/local/lib/python3.11/dist-packages (from ultralytics) (0.12.2)\nCollecting ultralytics-thop>=2.0.0 (from ultralytics)\n  Downloading ultralytics_thop-2.0.14-py3-none-any.whl.metadata (9.4 kB)\nRequirement already satisfied: contourpy>=1.0.1 in /usr/local/lib/python3.11/dist-packages (from matplotlib>=3.3.0->ultralytics) (1.3.1)\nRequirement already satisfied: cycler>=0.10 in /usr/local/lib/python3.11/dist-packages (from matplotlib>=3.3.0->ultralytics) (0.12.1)\nRequirement already satisfied: fonttools>=4.22.0 in /usr/local/lib/python3.11/dist-packages (from matplotlib>=3.3.0->ultralytics) (4.56.0)\nRequirement already satisfied: kiwisolver>=1.0.1 in /usr/local/lib/python3.11/dist-packages (from matplotlib>=3.3.0->ultralytics) (1.4.8)\nRequirement already satisfied: packaging>=20.0 in /usr/local/lib/python3.11/dist-packages (from matplotlib>=3.3.0->ultralytics) (24.2)\nRequirement already satisfied: pyparsing>=2.3.1 in /usr/local/lib/python3.11/dist-packages (from matplotlib>=3.3.0->ultralytics) (3.2.1)\nRequirement already satisfied: python-dateutil>=2.7 in /usr/local/lib/python3.11/dist-packages (from matplotlib>=3.3.0->ultralytics) (2.9.0.post0)\nRequirement already satisfied: mkl_fft in /usr/local/lib/python3.11/dist-packages (from numpy>=1.23.0->ultralytics) (1.3.8)\nRequirement already satisfied: mkl_random in /usr/local/lib/python3.11/dist-packages (from numpy>=1.23.0->ultralytics) (1.2.4)\nRequirement already satisfied: mkl_umath in /usr/local/lib/python3.11/dist-packages (from numpy>=1.23.0->ultralytics) (0.1.1)\nRequirement already satisfied: mkl in /usr/local/lib/python3.11/dist-packages (from numpy>=1.23.0->ultralytics) (2025.1.0)\nRequirement already satisfied: tbb4py in /usr/local/lib/python3.11/dist-packages (from numpy>=1.23.0->ultralytics) (2022.1.0)\nRequirement already satisfied: mkl-service in /usr/local/lib/python3.11/dist-packages (from numpy>=1.23.0->ultralytics) (2.4.1)\nRequirement already satisfied: pytz>=2020.1 in /usr/local/lib/python3.11/dist-packages (from pandas>=1.1.4->ultralytics) (2025.2)\nRequirement already satisfied: tzdata>=2022.7 in /usr/local/lib/python3.11/dist-packages (from pandas>=1.1.4->ultralytics) (2025.2)\nRequirement already satisfied: charset-normalizer<4,>=2 in /usr/local/lib/python3.11/dist-packages (from requests>=2.23.0->ultralytics) (3.4.1)\nRequirement already satisfied: idna<4,>=2.5 in /usr/local/lib/python3.11/dist-packages (from requests>=2.23.0->ultralytics) (3.10)\nRequirement already satisfied: urllib3<3,>=1.21.1 in /usr/local/lib/python3.11/dist-packages (from requests>=2.23.0->ultralytics) (2.3.0)\nRequirement already satisfied: certifi>=2017.4.17 in /usr/local/lib/python3.11/dist-packages (from requests>=2.23.0->ultralytics) (2025.1.31)\nRequirement already satisfied: filelock in /usr/local/lib/python3.11/dist-packages (from torch>=1.8.0->ultralytics) (3.18.0)\nRequirement already satisfied: typing-extensions>=4.8.0 in /usr/local/lib/python3.11/dist-packages (from torch>=1.8.0->ultralytics) (4.13.1)\nRequirement already satisfied: networkx in /usr/local/lib/python3.11/dist-packages (from torch>=1.8.0->ultralytics) (3.4.2)\nRequirement already satisfied: jinja2 in /usr/local/lib/python3.11/dist-packages (from torch>=1.8.0->ultralytics) (3.1.6)\nRequirement already satisfied: fsspec in /usr/local/lib/python3.11/dist-packages (from torch>=1.8.0->ultralytics) (2025.3.2)\nRequirement already satisfied: nvidia-cuda-nvrtc-cu12==12.4.127 in /usr/local/lib/python3.11/dist-packages (from torch>=1.8.0->ultralytics) (12.4.127)\nRequirement already satisfied: nvidia-cuda-runtime-cu12==12.4.127 in /usr/local/lib/python3.11/dist-packages (from torch>=1.8.0->ultralytics) (12.4.127)\nRequirement already satisfied: nvidia-cuda-cupti-cu12==12.4.127 in /usr/local/lib/python3.11/dist-packages (from torch>=1.8.0->ultralytics) (12.4.127)\nCollecting nvidia-cudnn-cu12==9.1.0.70 (from torch>=1.8.0->ultralytics)\n  Downloading nvidia_cudnn_cu12-9.1.0.70-py3-none-manylinux2014_x86_64.whl.metadata (1.6 kB)\nCollecting nvidia-cublas-cu12==12.4.5.8 (from torch>=1.8.0->ultralytics)\n  Downloading nvidia_cublas_cu12-12.4.5.8-py3-none-manylinux2014_x86_64.whl.metadata (1.5 kB)\nCollecting nvidia-cufft-cu12==11.2.1.3 (from torch>=1.8.0->ultralytics)\n  Downloading nvidia_cufft_cu12-11.2.1.3-py3-none-manylinux2014_x86_64.whl.metadata (1.5 kB)\nCollecting nvidia-curand-cu12==10.3.5.147 (from torch>=1.8.0->ultralytics)\n  Downloading nvidia_curand_cu12-10.3.5.147-py3-none-manylinux2014_x86_64.whl.metadata (1.5 kB)\nCollecting nvidia-cusolver-cu12==11.6.1.9 (from torch>=1.8.0->ultralytics)\n  Downloading nvidia_cusolver_cu12-11.6.1.9-py3-none-manylinux2014_x86_64.whl.metadata (1.6 kB)\nCollecting nvidia-cusparse-cu12==12.3.1.170 (from torch>=1.8.0->ultralytics)\n  Downloading nvidia_cusparse_cu12-12.3.1.170-py3-none-manylinux2014_x86_64.whl.metadata (1.6 kB)\nRequirement already satisfied: nvidia-nccl-cu12==2.21.5 in /usr/local/lib/python3.11/dist-packages (from torch>=1.8.0->ultralytics) (2.21.5)\nRequirement already satisfied: nvidia-nvtx-cu12==12.4.127 in /usr/local/lib/python3.11/dist-packages (from torch>=1.8.0->ultralytics) (12.4.127)\nCollecting nvidia-nvjitlink-cu12==12.4.127 (from torch>=1.8.0->ultralytics)\n  Downloading nvidia_nvjitlink_cu12-12.4.127-py3-none-manylinux2014_x86_64.whl.metadata (1.5 kB)\nRequirement already satisfied: triton==3.1.0 in /usr/local/lib/python3.11/dist-packages (from torch>=1.8.0->ultralytics) (3.1.0)\nRequirement already satisfied: sympy==1.13.1 in /usr/local/lib/python3.11/dist-packages (from torch>=1.8.0->ultralytics) (1.13.1)\nRequirement already satisfied: mpmath<1.4,>=1.1.0 in /usr/local/lib/python3.11/dist-packages (from sympy==1.13.1->torch>=1.8.0->ultralytics) (1.3.0)\nRequirement already satisfied: six>=1.5 in /usr/local/lib/python3.11/dist-packages (from python-dateutil>=2.7->matplotlib>=3.3.0->ultralytics) (1.17.0)\nRequirement already satisfied: MarkupSafe>=2.0 in /usr/local/lib/python3.11/dist-packages (from jinja2->torch>=1.8.0->ultralytics) (3.0.2)\nRequirement already satisfied: intel-openmp<2026,>=2024 in /usr/local/lib/python3.11/dist-packages (from mkl->numpy>=1.23.0->ultralytics) (2024.2.0)\nRequirement already satisfied: tbb==2022.* in /usr/local/lib/python3.11/dist-packages (from mkl->numpy>=1.23.0->ultralytics) (2022.1.0)\nRequirement already satisfied: tcmlib==1.* in /usr/local/lib/python3.11/dist-packages (from tbb==2022.*->mkl->numpy>=1.23.0->ultralytics) (1.2.0)\nRequirement already satisfied: intel-cmplr-lib-rt in /usr/local/lib/python3.11/dist-packages (from mkl_umath->numpy>=1.23.0->ultralytics) (2024.2.0)\nRequirement already satisfied: intel-cmplr-lib-ur==2024.2.0 in /usr/local/lib/python3.11/dist-packages (from intel-openmp<2026,>=2024->mkl->numpy>=1.23.0->ultralytics) (2024.2.0)\nDownloading ultralytics-8.3.124-py3-none-any.whl (1.0 MB)\n\u001b[2K   \u001b[90m━━━━━━━━━━━━━━━━━━━━━━━━━━━━━━━━━━━━━━━━\u001b[0m \u001b[32m1.0/1.0 MB\u001b[0m \u001b[31m16.9 MB/s\u001b[0m eta \u001b[36m0:00:00\u001b[0ma \u001b[36m0:00:01\u001b[0m\n\u001b[?25hDownloading nvidia_cublas_cu12-12.4.5.8-py3-none-manylinux2014_x86_64.whl (363.4 MB)\n\u001b[2K   \u001b[90m━━━━━━━━━━━━━━━━━━━━━━━━━━━━━━━━━━━━━━━━\u001b[0m \u001b[32m363.4/363.4 MB\u001b[0m \u001b[31m4.6 MB/s\u001b[0m eta \u001b[36m0:00:00\u001b[0m0:00:01\u001b[0m00:01\u001b[0m\n\u001b[?25hDownloading nvidia_cudnn_cu12-9.1.0.70-py3-none-manylinux2014_x86_64.whl (664.8 MB)\n\u001b[2K   \u001b[90m━━━━━━━━━━━━━━━━━━━━━━━━━━━━━━━━━━━━━━━━\u001b[0m \u001b[32m664.8/664.8 MB\u001b[0m \u001b[31m2.6 MB/s\u001b[0m eta \u001b[36m0:00:00\u001b[0m0:00:01\u001b[0m00:01\u001b[0m\n\u001b[?25hDownloading nvidia_cufft_cu12-11.2.1.3-py3-none-manylinux2014_x86_64.whl (211.5 MB)\n\u001b[2K   \u001b[90m━━━━━━━━━━━━━━━━━━━━━━━━━━━━━━━━━━━━━━━━\u001b[0m \u001b[32m211.5/211.5 MB\u001b[0m \u001b[31m6.8 MB/s\u001b[0m eta \u001b[36m0:00:00\u001b[0m0:00:01\u001b[0m00:01\u001b[0m\n\u001b[?25hDownloading nvidia_curand_cu12-10.3.5.147-py3-none-manylinux2014_x86_64.whl (56.3 MB)\n\u001b[2K   \u001b[90m━━━━━━━━━━━━━━━━━━━━━━━━━━━━━━━━━━━━━━━━\u001b[0m \u001b[32m56.3/56.3 MB\u001b[0m \u001b[31m31.1 MB/s\u001b[0m eta \u001b[36m0:00:00\u001b[0m:00:01\u001b[0m00:01\u001b[0m\n\u001b[?25hDownloading nvidia_cusolver_cu12-11.6.1.9-py3-none-manylinux2014_x86_64.whl (127.9 MB)\n\u001b[2K   \u001b[90m━━━━━━━━━━━━━━━━━━━━━━━━━━━━━━━━━━━━━━━━\u001b[0m \u001b[32m127.9/127.9 MB\u001b[0m \u001b[31m13.5 MB/s\u001b[0m eta \u001b[36m0:00:00\u001b[0m:00:01\u001b[0m00:01\u001b[0m\n\u001b[?25hDownloading nvidia_cusparse_cu12-12.3.1.170-py3-none-manylinux2014_x86_64.whl (207.5 MB)\n\u001b[2K   \u001b[90m━━━━━━━━━━━━━━━━━━━━━━━━━━━━━━━━━━━━━━━━\u001b[0m \u001b[32m207.5/207.5 MB\u001b[0m \u001b[31m6.4 MB/s\u001b[0m eta \u001b[36m0:00:00\u001b[0m0:00:01\u001b[0m00:01\u001b[0m\n\u001b[?25hDownloading nvidia_nvjitlink_cu12-12.4.127-py3-none-manylinux2014_x86_64.whl (21.1 MB)\n\u001b[2K   \u001b[90m━━━━━━━━━━━━━━━━━━━━━━━━━━━━━━━━━━━━━━━━\u001b[0m \u001b[32m21.1/21.1 MB\u001b[0m \u001b[31m6.3 MB/s\u001b[0m eta \u001b[36m0:00:00\u001b[0m0:00:01\u001b[0m00:01\u001b[0m\n\u001b[?25hDownloading ultralytics_thop-2.0.14-py3-none-any.whl (26 kB)\nInstalling collected packages: nvidia-nvjitlink-cu12, nvidia-curand-cu12, nvidia-cufft-cu12, nvidia-cublas-cu12, nvidia-cusparse-cu12, nvidia-cudnn-cu12, nvidia-cusolver-cu12, ultralytics-thop, ultralytics\n  Attempting uninstall: nvidia-nvjitlink-cu12\n    Found existing installation: nvidia-nvjitlink-cu12 12.8.93\n    Uninstalling nvidia-nvjitlink-cu12-12.8.93:\n      Successfully uninstalled nvidia-nvjitlink-cu12-12.8.93\n  Attempting uninstall: nvidia-curand-cu12\n    Found existing installation: nvidia-curand-cu12 10.3.9.90\n    Uninstalling nvidia-curand-cu12-10.3.9.90:\n      Successfully uninstalled nvidia-curand-cu12-10.3.9.90\n  Attempting uninstall: nvidia-cufft-cu12\n    Found existing installation: nvidia-cufft-cu12 11.3.3.83\n    Uninstalling nvidia-cufft-cu12-11.3.3.83:\n      Successfully uninstalled nvidia-cufft-cu12-11.3.3.83\n  Attempting uninstall: nvidia-cublas-cu12\n    Found existing installation: nvidia-cublas-cu12 12.8.4.1\n    Uninstalling nvidia-cublas-cu12-12.8.4.1:\n      Successfully uninstalled nvidia-cublas-cu12-12.8.4.1\n  Attempting uninstall: nvidia-cusparse-cu12\n    Found existing installation: nvidia-cusparse-cu12 12.5.8.93\n    Uninstalling nvidia-cusparse-cu12-12.5.8.93:\n      Successfully uninstalled nvidia-cusparse-cu12-12.5.8.93\n  Attempting uninstall: nvidia-cudnn-cu12\n    Found existing installation: nvidia-cudnn-cu12 9.3.0.75\n    Uninstalling nvidia-cudnn-cu12-9.3.0.75:\n      Successfully uninstalled nvidia-cudnn-cu12-9.3.0.75\n  Attempting uninstall: nvidia-cusolver-cu12\n    Found existing installation: nvidia-cusolver-cu12 11.7.3.90\n    Uninstalling nvidia-cusolver-cu12-11.7.3.90:\n      Successfully uninstalled nvidia-cusolver-cu12-11.7.3.90\n\u001b[31mERROR: pip's dependency resolver does not currently take into account all the packages that are installed. This behaviour is the source of the following dependency conflicts.\npylibcugraph-cu12 24.12.0 requires pylibraft-cu12==24.12.*, but you have pylibraft-cu12 25.2.0 which is incompatible.\npylibcugraph-cu12 24.12.0 requires rmm-cu12==24.12.*, but you have rmm-cu12 25.2.0 which is incompatible.\u001b[0m\u001b[31m\n\u001b[0mSuccessfully installed nvidia-cublas-cu12-12.4.5.8 nvidia-cudnn-cu12-9.1.0.70 nvidia-cufft-cu12-11.2.1.3 nvidia-curand-cu12-10.3.5.147 nvidia-cusolver-cu12-11.6.1.9 nvidia-cusparse-cu12-12.3.1.170 nvidia-nvjitlink-cu12-12.4.127 ultralytics-8.3.124 ultralytics-thop-2.0.14\n",
          "output_type": "stream"
        }
      ],
      "execution_count": null
    },
    {
      "cell_type": "code",
      "source": [
        "from ultralytics import YOLO\n"
      ],
      "metadata": {
        "trusted": true,
        "execution": {
          "iopub.status.busy": "2025-05-05T03:38:12.303909Z",
          "iopub.execute_input": "2025-05-05T03:38:12.304183Z",
          "iopub.status.idle": "2025-05-05T03:38:12.30807Z",
          "shell.execute_reply.started": "2025-05-05T03:38:12.304164Z",
          "shell.execute_reply": "2025-05-05T03:38:12.307329Z"
        },
        "id": "SjQDkdBrXUGK"
      },
      "outputs": [],
      "execution_count": null
    },
    {
      "cell_type": "code",
      "source": [
        "yaml_content = \"\"\"\n",
        "path: /kaggle/input/yolov8/pallet detection.v1i.yolov8\n",
        "\n",
        "train: train/images\n",
        "val: valid/images\n",
        "\n",
        "nc: 1\n",
        "names: ['pallet']\n",
        "\"\"\"\n",
        "\n",
        "with open(\"pallet.yaml\", \"w\") as f:\n",
        "    f.write(yaml_content)\n"
      ],
      "metadata": {
        "trusted": true,
        "execution": {
          "iopub.status.busy": "2025-05-05T03:38:15.582842Z",
          "iopub.execute_input": "2025-05-05T03:38:15.583119Z",
          "iopub.status.idle": "2025-05-05T03:38:15.58739Z",
          "shell.execute_reply.started": "2025-05-05T03:38:15.583099Z",
          "shell.execute_reply": "2025-05-05T03:38:15.586501Z"
        },
        "id": "qGpJ_JaTXUGK"
      },
      "outputs": [],
      "execution_count": null
    },
    {
      "cell_type": "code",
      "source": [
        "model = YOLO(\"yolov8s.pt\")\n",
        "\n",
        "model.train(\n",
        "    data=\"pallet.yaml\",\n",
        "    epochs=30,\n",
        "    imgsz=640,\n",
        "    batch=8,\n",
        "    name=\"pallet_yolov8s\"\n",
        ")"
      ],
      "metadata": {
        "trusted": true,
        "execution": {
          "iopub.status.busy": "2025-05-05T03:38:22.048319Z",
          "iopub.execute_input": "2025-05-05T03:38:22.048619Z",
          "iopub.status.idle": "2025-05-05T04:17:13.019669Z",
          "shell.execute_reply.started": "2025-05-05T03:38:22.048597Z",
          "shell.execute_reply": "2025-05-05T04:17:13.018757Z"
        },
        "id": "itkB1cuhXUGK",
        "outputId": "700778a9-f950-4b0d-b630-08a59ae7e6eb"
      },
      "outputs": [
        {
          "name": "stdout",
          "text": "Ultralytics 8.3.127 🚀 Python-3.11.11 torch-2.5.1+cu124 CUDA:0 (Tesla P100-PCIE-16GB, 16269MiB)\n\u001b[34m\u001b[1mengine/trainer: \u001b[0magnostic_nms=False, amp=True, augment=False, auto_augment=randaugment, batch=8, bgr=0.0, box=7.5, cache=False, cfg=None, classes=None, close_mosaic=10, cls=0.5, conf=None, copy_paste=0.0, copy_paste_mode=flip, cos_lr=False, cutmix=0.0, data=pallet.yaml, degrees=0.0, deterministic=True, device=cuda:0, dfl=1.5, dnn=False, dropout=0.0, dynamic=False, embed=None, epochs=30, erasing=0.4, exist_ok=False, fliplr=0.5, flipud=0.0, format=torchscript, fraction=1.0, freeze=None, half=False, hsv_h=0.015, hsv_s=0.7, hsv_v=0.4, imgsz=640, int8=False, iou=0.7, keras=False, kobj=1.0, line_width=None, lr0=0.01, lrf=0.01, mask_ratio=4, max_det=300, mixup=0.0, mode=train, model=yolov8s.pt, momentum=0.937, mosaic=1.0, multi_scale=False, name=pallet_yolov8s4, nbs=64, nms=False, opset=None, optimize=False, optimizer=auto, overlap_mask=True, patience=100, perspective=0.0, plots=True, pose=12.0, pretrained=True, profile=False, project=None, rect=False, resume=False, retina_masks=False, save=True, save_conf=False, save_crop=False, save_dir=runs/detect/pallet_yolov8s4, save_frames=False, save_json=False, save_period=-1, save_txt=False, scale=0.5, seed=0, shear=0.0, show=False, show_boxes=True, show_conf=True, show_labels=True, simplify=True, single_cls=False, source=None, split=val, stream_buffer=False, task=detect, time=None, tracker=botsort.yaml, translate=0.1, val=True, verbose=True, vid_stride=1, visualize=False, warmup_bias_lr=0.1, warmup_epochs=3.0, warmup_momentum=0.8, weight_decay=0.0005, workers=8, workspace=None\nOverriding model.yaml nc=80 with nc=1\n\n                   from  n    params  module                                       arguments                     \n  0                  -1  1       928  ultralytics.nn.modules.conv.Conv             [3, 32, 3, 2]                 \n  1                  -1  1     18560  ultralytics.nn.modules.conv.Conv             [32, 64, 3, 2]                \n  2                  -1  1     29056  ultralytics.nn.modules.block.C2f             [64, 64, 1, True]             \n  3                  -1  1     73984  ultralytics.nn.modules.conv.Conv             [64, 128, 3, 2]               \n  4                  -1  2    197632  ultralytics.nn.modules.block.C2f             [128, 128, 2, True]           \n  5                  -1  1    295424  ultralytics.nn.modules.conv.Conv             [128, 256, 3, 2]              \n  6                  -1  2    788480  ultralytics.nn.modules.block.C2f             [256, 256, 2, True]           \n  7                  -1  1   1180672  ultralytics.nn.modules.conv.Conv             [256, 512, 3, 2]              \n  8                  -1  1   1838080  ultralytics.nn.modules.block.C2f             [512, 512, 1, True]           \n  9                  -1  1    656896  ultralytics.nn.modules.block.SPPF            [512, 512, 5]                 \n 10                  -1  1         0  torch.nn.modules.upsampling.Upsample         [None, 2, 'nearest']          \n 11             [-1, 6]  1         0  ultralytics.nn.modules.conv.Concat           [1]                           \n 12                  -1  1    591360  ultralytics.nn.modules.block.C2f             [768, 256, 1]                 \n 13                  -1  1         0  torch.nn.modules.upsampling.Upsample         [None, 2, 'nearest']          \n 14             [-1, 4]  1         0  ultralytics.nn.modules.conv.Concat           [1]                           \n 15                  -1  1    148224  ultralytics.nn.modules.block.C2f             [384, 128, 1]                 \n 16                  -1  1    147712  ultralytics.nn.modules.conv.Conv             [128, 128, 3, 2]              \n 17            [-1, 12]  1         0  ultralytics.nn.modules.conv.Concat           [1]                           \n 18                  -1  1    493056  ultralytics.nn.modules.block.C2f             [384, 256, 1]                 \n 19                  -1  1    590336  ultralytics.nn.modules.conv.Conv             [256, 256, 3, 2]              \n 20             [-1, 9]  1         0  ultralytics.nn.modules.conv.Concat           [1]                           \n 21                  -1  1   1969152  ultralytics.nn.modules.block.C2f             [768, 512, 1]                 \n 22        [15, 18, 21]  1   2116435  ultralytics.nn.modules.head.Detect           [1, [128, 256, 512]]          \nModel summary: 129 layers, 11,135,987 parameters, 11,135,971 gradients, 28.6 GFLOPs\n\nTransferred 349/355 items from pretrained weights\nFreezing layer 'model.22.dfl.conv.weight'\n\u001b[34m\u001b[1mAMP: \u001b[0mrunning Automatic Mixed Precision (AMP) checks...\n\u001b[34m\u001b[1mAMP: \u001b[0mchecks passed ✅\n\u001b[34m\u001b[1mtrain: \u001b[0mFast image access ✅ (ping: 0.0±0.0 ms, read: 73.4±7.3 MB/s, size: 76.9 KB)\n",
          "output_type": "stream"
        },
        {
          "name": "stderr",
          "text": "\u001b[34m\u001b[1mtrain: \u001b[0mScanning /kaggle/input/yolov8/pallet detection.v1i.yolov8/train/labels... 3119 images, 0 backgrounds, 0 corrupt: 100%|██████████| 3119/3119 [00:06<00:00, 468.25it/s]",
          "output_type": "stream"
        },
        {
          "name": "stdout",
          "text": "WARNING ⚠️ \u001b[34m\u001b[1mtrain: \u001b[0mCache directory /kaggle/input/yolov8/pallet detection.v1i.yolov8/train is not writeable, cache not saved.\n\u001b[34m\u001b[1malbumentations: \u001b[0mBlur(p=0.01, blur_limit=(3, 7)), MedianBlur(p=0.01, blur_limit=(3, 7)), ToGray(p=0.01, num_output_channels=3, method='weighted_average'), CLAHE(p=0.01, clip_limit=(1.0, 4.0), tile_grid_size=(8, 8))\n",
          "output_type": "stream"
        },
        {
          "name": "stderr",
          "text": "\n",
          "output_type": "stream"
        },
        {
          "name": "stdout",
          "text": "\u001b[34m\u001b[1mval: \u001b[0mFast image access ✅ (ping: 1.5±1.2 ms, read: 61.9±31.1 MB/s, size: 80.1 KB)\n",
          "output_type": "stream"
        },
        {
          "name": "stderr",
          "text": "\u001b[34m\u001b[1mval: \u001b[0mScanning /kaggle/input/yolov8/pallet detection.v1i.yolov8/valid/labels... 200 images, 0 backgrounds, 0 corrupt: 100%|██████████| 200/200 [00:00<00:00, 217.60it/s]",
          "output_type": "stream"
        },
        {
          "name": "stdout",
          "text": "WARNING ⚠️ \u001b[34m\u001b[1mval: \u001b[0mCache directory /kaggle/input/yolov8/pallet detection.v1i.yolov8/valid is not writeable, cache not saved.\n",
          "output_type": "stream"
        },
        {
          "name": "stderr",
          "text": "\n",
          "output_type": "stream"
        },
        {
          "name": "stdout",
          "text": "Plotting labels to runs/detect/pallet_yolov8s4/labels.jpg... \n\u001b[34m\u001b[1moptimizer:\u001b[0m 'optimizer=auto' found, ignoring 'lr0=0.01' and 'momentum=0.937' and determining best 'optimizer', 'lr0' and 'momentum' automatically... \n\u001b[34m\u001b[1moptimizer:\u001b[0m AdamW(lr=0.002, momentum=0.9) with parameter groups 57 weight(decay=0.0), 64 weight(decay=0.0005), 63 bias(decay=0.0)\nImage sizes 640 train, 640 val\nUsing 4 dataloader workers\nLogging results to \u001b[1mruns/detect/pallet_yolov8s4\u001b[0m\nStarting training for 30 epochs...\n\n      Epoch    GPU_mem   box_loss   cls_loss   dfl_loss  Instances       Size\n",
          "output_type": "stream"
        },
        {
          "name": "stderr",
          "text": "       1/30       5.9G       1.19     0.8889       1.16        368        640: 100%|██████████| 390/390 [01:18<00:00,  4.94it/s]\n                 Class     Images  Instances      Box(P          R      mAP50  mAP50-95): 100%|██████████| 13/13 [00:02<00:00,  6.37it/s]",
          "output_type": "stream"
        },
        {
          "name": "stdout",
          "text": "                   all        200       7030      0.915      0.979      0.948      0.731\n",
          "output_type": "stream"
        },
        {
          "name": "stderr",
          "text": "\n",
          "output_type": "stream"
        },
        {
          "name": "stdout",
          "text": "\n      Epoch    GPU_mem   box_loss   cls_loss   dfl_loss  Instances       Size\n",
          "output_type": "stream"
        },
        {
          "name": "stderr",
          "text": "       2/30      5.92G     0.9243     0.6004     0.9941        404        640: 100%|██████████| 390/390 [01:16<00:00,  5.11it/s]\n                 Class     Images  Instances      Box(P          R      mAP50  mAP50-95): 100%|██████████| 13/13 [00:01<00:00,  6.60it/s]",
          "output_type": "stream"
        },
        {
          "name": "stdout",
          "text": "                   all        200       7030       0.87       0.99       0.89      0.699\n",
          "output_type": "stream"
        },
        {
          "name": "stderr",
          "text": "\n",
          "output_type": "stream"
        },
        {
          "name": "stdout",
          "text": "\n      Epoch    GPU_mem   box_loss   cls_loss   dfl_loss  Instances       Size\n",
          "output_type": "stream"
        },
        {
          "name": "stderr",
          "text": "       3/30      5.92G     0.8864     0.5519     0.9716        485        640: 100%|██████████| 390/390 [01:15<00:00,  5.17it/s]\n                 Class     Images  Instances      Box(P          R      mAP50  mAP50-95): 100%|██████████| 13/13 [00:01<00:00,  6.53it/s]",
          "output_type": "stream"
        },
        {
          "name": "stdout",
          "text": "                   all        200       7030       0.91       0.98      0.937      0.739\n",
          "output_type": "stream"
        },
        {
          "name": "stderr",
          "text": "\n",
          "output_type": "stream"
        },
        {
          "name": "stdout",
          "text": "\n      Epoch    GPU_mem   box_loss   cls_loss   dfl_loss  Instances       Size\n",
          "output_type": "stream"
        },
        {
          "name": "stderr",
          "text": "       4/30      5.92G     0.8459     0.5243     0.9557        288        640: 100%|██████████| 390/390 [01:15<00:00,  5.15it/s]\n                 Class     Images  Instances      Box(P          R      mAP50  mAP50-95): 100%|██████████| 13/13 [00:01<00:00,  6.90it/s]",
          "output_type": "stream"
        },
        {
          "name": "stdout",
          "text": "                   all        200       7030      0.904       0.99      0.913      0.726\n",
          "output_type": "stream"
        },
        {
          "name": "stderr",
          "text": "\n",
          "output_type": "stream"
        },
        {
          "name": "stdout",
          "text": "\n      Epoch    GPU_mem   box_loss   cls_loss   dfl_loss  Instances       Size\n",
          "output_type": "stream"
        },
        {
          "name": "stderr",
          "text": "       5/30      5.92G     0.8068     0.4841     0.9372        232        640: 100%|██████████| 390/390 [01:16<00:00,  5.07it/s]\n                 Class     Images  Instances      Box(P          R      mAP50  mAP50-95): 100%|██████████| 13/13 [00:01<00:00,  6.50it/s]",
          "output_type": "stream"
        },
        {
          "name": "stdout",
          "text": "                   all        200       7030      0.894      0.987      0.929      0.747\n",
          "output_type": "stream"
        },
        {
          "name": "stderr",
          "text": "\n",
          "output_type": "stream"
        },
        {
          "name": "stdout",
          "text": "\n      Epoch    GPU_mem   box_loss   cls_loss   dfl_loss  Instances       Size\n",
          "output_type": "stream"
        },
        {
          "name": "stderr",
          "text": "       6/30      5.92G     0.7737     0.4653     0.9266        242        640: 100%|██████████| 390/390 [01:16<00:00,  5.10it/s]\n                 Class     Images  Instances      Box(P          R      mAP50  mAP50-95): 100%|██████████| 13/13 [00:01<00:00,  6.81it/s]",
          "output_type": "stream"
        },
        {
          "name": "stdout",
          "text": "                   all        200       7030      0.924      0.986      0.962      0.763\n",
          "output_type": "stream"
        },
        {
          "name": "stderr",
          "text": "\n",
          "output_type": "stream"
        },
        {
          "name": "stdout",
          "text": "\n      Epoch    GPU_mem   box_loss   cls_loss   dfl_loss  Instances       Size\n",
          "output_type": "stream"
        },
        {
          "name": "stderr",
          "text": "       7/30      5.92G     0.7596     0.4516     0.9232        362        640: 100%|██████████| 390/390 [01:16<00:00,  5.11it/s]\n                 Class     Images  Instances      Box(P          R      mAP50  mAP50-95): 100%|██████████| 13/13 [00:01<00:00,  6.71it/s]",
          "output_type": "stream"
        },
        {
          "name": "stdout",
          "text": "                   all        200       7030      0.883      0.986      0.938      0.744\n",
          "output_type": "stream"
        },
        {
          "name": "stderr",
          "text": "\n",
          "output_type": "stream"
        },
        {
          "name": "stdout",
          "text": "\n      Epoch    GPU_mem   box_loss   cls_loss   dfl_loss  Instances       Size\n",
          "output_type": "stream"
        },
        {
          "name": "stderr",
          "text": "       8/30      5.92G     0.7316     0.4268     0.9117        223        640: 100%|██████████| 390/390 [01:15<00:00,  5.15it/s]\n                 Class     Images  Instances      Box(P          R      mAP50  mAP50-95): 100%|██████████| 13/13 [00:01<00:00,  6.82it/s]",
          "output_type": "stream"
        },
        {
          "name": "stdout",
          "text": "                   all        200       7030      0.903       0.97      0.939       0.73\n",
          "output_type": "stream"
        },
        {
          "name": "stderr",
          "text": "\n",
          "output_type": "stream"
        },
        {
          "name": "stdout",
          "text": "\n      Epoch    GPU_mem   box_loss   cls_loss   dfl_loss  Instances       Size\n",
          "output_type": "stream"
        },
        {
          "name": "stderr",
          "text": "       9/30      5.92G     0.7185     0.4147      0.909        315        640: 100%|██████████| 390/390 [01:14<00:00,  5.20it/s]\n                 Class     Images  Instances      Box(P          R      mAP50  mAP50-95): 100%|██████████| 13/13 [00:01<00:00,  6.65it/s]",
          "output_type": "stream"
        },
        {
          "name": "stdout",
          "text": "                   all        200       7030      0.896      0.986      0.938      0.745\n",
          "output_type": "stream"
        },
        {
          "name": "stderr",
          "text": "\n",
          "output_type": "stream"
        },
        {
          "name": "stdout",
          "text": "\n      Epoch    GPU_mem   box_loss   cls_loss   dfl_loss  Instances       Size\n",
          "output_type": "stream"
        },
        {
          "name": "stderr",
          "text": "      10/30      5.92G     0.7048     0.4121     0.9044        271        640: 100%|██████████| 390/390 [01:15<00:00,  5.19it/s]\n                 Class     Images  Instances      Box(P          R      mAP50  mAP50-95): 100%|██████████| 13/13 [00:01<00:00,  6.79it/s]",
          "output_type": "stream"
        },
        {
          "name": "stdout",
          "text": "                   all        200       7030      0.915      0.987      0.961      0.757\n",
          "output_type": "stream"
        },
        {
          "name": "stderr",
          "text": "\n",
          "output_type": "stream"
        },
        {
          "name": "stdout",
          "text": "\n      Epoch    GPU_mem   box_loss   cls_loss   dfl_loss  Instances       Size\n",
          "output_type": "stream"
        },
        {
          "name": "stderr",
          "text": "      11/30      5.92G     0.6935     0.3992     0.8979        255        640: 100%|██████████| 390/390 [01:15<00:00,  5.15it/s]\n                 Class     Images  Instances      Box(P          R      mAP50  mAP50-95): 100%|██████████| 13/13 [00:01<00:00,  6.88it/s]",
          "output_type": "stream"
        },
        {
          "name": "stdout",
          "text": "                   all        200       7030      0.877      0.986      0.887      0.677\n",
          "output_type": "stream"
        },
        {
          "name": "stderr",
          "text": "\n",
          "output_type": "stream"
        },
        {
          "name": "stdout",
          "text": "\n      Epoch    GPU_mem   box_loss   cls_loss   dfl_loss  Instances       Size\n",
          "output_type": "stream"
        },
        {
          "name": "stderr",
          "text": "      12/30      5.92G     0.6878      0.393     0.8982        296        640: 100%|██████████| 390/390 [01:15<00:00,  5.17it/s]\n                 Class     Images  Instances      Box(P          R      mAP50  mAP50-95): 100%|██████████| 13/13 [00:02<00:00,  5.99it/s]",
          "output_type": "stream"
        },
        {
          "name": "stdout",
          "text": "                   all        200       7030      0.903      0.986      0.933      0.737\n",
          "output_type": "stream"
        },
        {
          "name": "stderr",
          "text": "\n",
          "output_type": "stream"
        },
        {
          "name": "stdout",
          "text": "\n      Epoch    GPU_mem   box_loss   cls_loss   dfl_loss  Instances       Size\n",
          "output_type": "stream"
        },
        {
          "name": "stderr",
          "text": "      13/30      5.92G     0.6664     0.3794     0.8892        292        640: 100%|██████████| 390/390 [01:16<00:00,  5.13it/s]\n                 Class     Images  Instances      Box(P          R      mAP50  mAP50-95): 100%|██████████| 13/13 [00:01<00:00,  6.79it/s]",
          "output_type": "stream"
        },
        {
          "name": "stdout",
          "text": "                   all        200       7030      0.937      0.993      0.966      0.766\n",
          "output_type": "stream"
        },
        {
          "name": "stderr",
          "text": "\n",
          "output_type": "stream"
        },
        {
          "name": "stdout",
          "text": "\n      Epoch    GPU_mem   box_loss   cls_loss   dfl_loss  Instances       Size\n",
          "output_type": "stream"
        },
        {
          "name": "stderr",
          "text": "      14/30      5.92G     0.6585     0.3729     0.8876        407        640: 100%|██████████| 390/390 [01:16<00:00,  5.10it/s]\n                 Class     Images  Instances      Box(P          R      mAP50  mAP50-95): 100%|██████████| 13/13 [00:02<00:00,  5.95it/s]",
          "output_type": "stream"
        },
        {
          "name": "stdout",
          "text": "                   all        200       7030      0.907       0.99      0.964      0.761\n",
          "output_type": "stream"
        },
        {
          "name": "stderr",
          "text": "\n",
          "output_type": "stream"
        },
        {
          "name": "stdout",
          "text": "\n      Epoch    GPU_mem   box_loss   cls_loss   dfl_loss  Instances       Size\n",
          "output_type": "stream"
        },
        {
          "name": "stderr",
          "text": "      15/30      5.92G      0.653     0.3716     0.8877        184        640: 100%|██████████| 390/390 [01:15<00:00,  5.14it/s]\n                 Class     Images  Instances      Box(P          R      mAP50  mAP50-95): 100%|██████████| 13/13 [00:01<00:00,  6.61it/s]",
          "output_type": "stream"
        },
        {
          "name": "stdout",
          "text": "                   all        200       7030      0.905      0.987      0.968       0.74\n",
          "output_type": "stream"
        },
        {
          "name": "stderr",
          "text": "\n",
          "output_type": "stream"
        },
        {
          "name": "stdout",
          "text": "\n      Epoch    GPU_mem   box_loss   cls_loss   dfl_loss  Instances       Size\n",
          "output_type": "stream"
        },
        {
          "name": "stderr",
          "text": "      16/30      6.21G     0.6492     0.3644     0.8864        291        640: 100%|██████████| 390/390 [01:16<00:00,  5.11it/s]\n                 Class     Images  Instances      Box(P          R      mAP50  mAP50-95): 100%|██████████| 13/13 [00:01<00:00,  6.84it/s]",
          "output_type": "stream"
        },
        {
          "name": "stdout",
          "text": "                   all        200       7030      0.905       0.99      0.969      0.775\n",
          "output_type": "stream"
        },
        {
          "name": "stderr",
          "text": "\n",
          "output_type": "stream"
        },
        {
          "name": "stdout",
          "text": "\n      Epoch    GPU_mem   box_loss   cls_loss   dfl_loss  Instances       Size\n",
          "output_type": "stream"
        },
        {
          "name": "stderr",
          "text": "      17/30      6.21G     0.6256     0.3519     0.8811        228        640: 100%|██████████| 390/390 [01:15<00:00,  5.14it/s]\n                 Class     Images  Instances      Box(P          R      mAP50  mAP50-95): 100%|██████████| 13/13 [00:01<00:00,  6.92it/s]",
          "output_type": "stream"
        },
        {
          "name": "stdout",
          "text": "                   all        200       7030      0.904      0.987      0.945      0.763\n",
          "output_type": "stream"
        },
        {
          "name": "stderr",
          "text": "\n",
          "output_type": "stream"
        },
        {
          "name": "stdout",
          "text": "\n      Epoch    GPU_mem   box_loss   cls_loss   dfl_loss  Instances       Size\n",
          "output_type": "stream"
        },
        {
          "name": "stderr",
          "text": "      18/30      6.21G     0.6227     0.3484     0.8808        450        640: 100%|██████████| 390/390 [01:15<00:00,  5.16it/s]\n                 Class     Images  Instances      Box(P          R      mAP50  mAP50-95): 100%|██████████| 13/13 [00:01<00:00,  6.90it/s]",
          "output_type": "stream"
        },
        {
          "name": "stdout",
          "text": "                   all        200       7030      0.916       0.99      0.973      0.763\n",
          "output_type": "stream"
        },
        {
          "name": "stderr",
          "text": "\n",
          "output_type": "stream"
        },
        {
          "name": "stdout",
          "text": "\n      Epoch    GPU_mem   box_loss   cls_loss   dfl_loss  Instances       Size\n",
          "output_type": "stream"
        },
        {
          "name": "stderr",
          "text": "      19/30      6.21G     0.6044     0.3397     0.8756        383        640: 100%|██████████| 390/390 [01:15<00:00,  5.17it/s]\n                 Class     Images  Instances      Box(P          R      mAP50  mAP50-95): 100%|██████████| 13/13 [00:01<00:00,  6.73it/s]",
          "output_type": "stream"
        },
        {
          "name": "stdout",
          "text": "                   all        200       7030      0.909      0.993      0.958      0.756\n",
          "output_type": "stream"
        },
        {
          "name": "stderr",
          "text": "\n",
          "output_type": "stream"
        },
        {
          "name": "stdout",
          "text": "\n      Epoch    GPU_mem   box_loss   cls_loss   dfl_loss  Instances       Size\n",
          "output_type": "stream"
        },
        {
          "name": "stderr",
          "text": "      20/30      6.21G     0.5919      0.333     0.8729        349        640: 100%|██████████| 390/390 [01:15<00:00,  5.18it/s]\n                 Class     Images  Instances      Box(P          R      mAP50  mAP50-95): 100%|██████████| 13/13 [00:01<00:00,  6.58it/s]",
          "output_type": "stream"
        },
        {
          "name": "stdout",
          "text": "                   all        200       7030        0.9       0.99      0.963      0.746\n",
          "output_type": "stream"
        },
        {
          "name": "stderr",
          "text": "\n",
          "output_type": "stream"
        },
        {
          "name": "stdout",
          "text": "Closing dataloader mosaic\n\u001b[34m\u001b[1malbumentations: \u001b[0mBlur(p=0.01, blur_limit=(3, 7)), MedianBlur(p=0.01, blur_limit=(3, 7)), ToGray(p=0.01, num_output_channels=3, method='weighted_average'), CLAHE(p=0.01, clip_limit=(1.0, 4.0), tile_grid_size=(8, 8))\n\n      Epoch    GPU_mem   box_loss   cls_loss   dfl_loss  Instances       Size\n",
          "output_type": "stream"
        },
        {
          "name": "stderr",
          "text": "      21/30      6.21G     0.5708     0.3286     0.8635        238        640: 100%|██████████| 390/390 [01:11<00:00,  5.48it/s]\n                 Class     Images  Instances      Box(P          R      mAP50  mAP50-95): 100%|██████████| 13/13 [00:01<00:00,  6.92it/s]",
          "output_type": "stream"
        },
        {
          "name": "stdout",
          "text": "                   all        200       7030      0.906       0.99      0.951      0.749\n",
          "output_type": "stream"
        },
        {
          "name": "stderr",
          "text": "\n",
          "output_type": "stream"
        },
        {
          "name": "stdout",
          "text": "\n      Epoch    GPU_mem   box_loss   cls_loss   dfl_loss  Instances       Size\n",
          "output_type": "stream"
        },
        {
          "name": "stderr",
          "text": "      22/30      6.21G      0.564     0.3224     0.8611         63        640: 100%|██████████| 390/390 [01:10<00:00,  5.50it/s]\n                 Class     Images  Instances      Box(P          R      mAP50  mAP50-95): 100%|██████████| 13/13 [00:01<00:00,  6.95it/s]",
          "output_type": "stream"
        },
        {
          "name": "stdout",
          "text": "                   all        200       7030      0.889       0.99       0.94       0.74\n",
          "output_type": "stream"
        },
        {
          "name": "stderr",
          "text": "\n",
          "output_type": "stream"
        },
        {
          "name": "stdout",
          "text": "\n      Epoch    GPU_mem   box_loss   cls_loss   dfl_loss  Instances       Size\n",
          "output_type": "stream"
        },
        {
          "name": "stderr",
          "text": "      23/30      6.21G     0.5373     0.3079     0.8528        184        640: 100%|██████████| 390/390 [01:11<00:00,  5.49it/s]\n                 Class     Images  Instances      Box(P          R      mAP50  mAP50-95): 100%|██████████| 13/13 [00:01<00:00,  7.06it/s]",
          "output_type": "stream"
        },
        {
          "name": "stdout",
          "text": "                   all        200       7030      0.908      0.989      0.936      0.755\n",
          "output_type": "stream"
        },
        {
          "name": "stderr",
          "text": "\n",
          "output_type": "stream"
        },
        {
          "name": "stdout",
          "text": "\n      Epoch    GPU_mem   box_loss   cls_loss   dfl_loss  Instances       Size\n",
          "output_type": "stream"
        },
        {
          "name": "stderr",
          "text": "      24/30      6.21G     0.5206     0.2971     0.8503        259        640: 100%|██████████| 390/390 [01:10<00:00,  5.50it/s]\n                 Class     Images  Instances      Box(P          R      mAP50  mAP50-95): 100%|██████████| 13/13 [00:01<00:00,  7.03it/s]",
          "output_type": "stream"
        },
        {
          "name": "stdout",
          "text": "                   all        200       7030      0.899      0.993      0.939      0.753\n",
          "output_type": "stream"
        },
        {
          "name": "stderr",
          "text": "\n",
          "output_type": "stream"
        },
        {
          "name": "stdout",
          "text": "\n      Epoch    GPU_mem   box_loss   cls_loss   dfl_loss  Instances       Size\n",
          "output_type": "stream"
        },
        {
          "name": "stderr",
          "text": "      25/30      6.21G     0.5056     0.2887     0.8492        212        640: 100%|██████████| 390/390 [01:10<00:00,  5.49it/s]\n                 Class     Images  Instances      Box(P          R      mAP50  mAP50-95): 100%|██████████| 13/13 [00:01<00:00,  6.91it/s]",
          "output_type": "stream"
        },
        {
          "name": "stdout",
          "text": "                   all        200       7030      0.901      0.993      0.958      0.765\n",
          "output_type": "stream"
        },
        {
          "name": "stderr",
          "text": "\n",
          "output_type": "stream"
        },
        {
          "name": "stdout",
          "text": "\n      Epoch    GPU_mem   box_loss   cls_loss   dfl_loss  Instances       Size\n",
          "output_type": "stream"
        },
        {
          "name": "stderr",
          "text": "      26/30      6.21G     0.4933      0.283     0.8446        296        640: 100%|██████████| 390/390 [01:10<00:00,  5.50it/s]\n                 Class     Images  Instances      Box(P          R      mAP50  mAP50-95): 100%|██████████| 13/13 [00:01<00:00,  7.02it/s]",
          "output_type": "stream"
        },
        {
          "name": "stdout",
          "text": "                   all        200       7030       0.92      0.993      0.963      0.763\n",
          "output_type": "stream"
        },
        {
          "name": "stderr",
          "text": "\n",
          "output_type": "stream"
        },
        {
          "name": "stdout",
          "text": "\n      Epoch    GPU_mem   box_loss   cls_loss   dfl_loss  Instances       Size\n",
          "output_type": "stream"
        },
        {
          "name": "stderr",
          "text": "      27/30      6.21G     0.4752     0.2715     0.8427        227        640: 100%|██████████| 390/390 [01:11<00:00,  5.47it/s]\n                 Class     Images  Instances      Box(P          R      mAP50  mAP50-95): 100%|██████████| 13/13 [00:01<00:00,  7.01it/s]",
          "output_type": "stream"
        },
        {
          "name": "stdout",
          "text": "                   all        200       7030      0.913      0.991      0.962      0.771\n",
          "output_type": "stream"
        },
        {
          "name": "stderr",
          "text": "\n",
          "output_type": "stream"
        },
        {
          "name": "stdout",
          "text": "\n      Epoch    GPU_mem   box_loss   cls_loss   dfl_loss  Instances       Size\n",
          "output_type": "stream"
        },
        {
          "name": "stderr",
          "text": "      28/30      6.21G       0.47     0.2682     0.8406        124        640: 100%|██████████| 390/390 [01:10<00:00,  5.50it/s]\n                 Class     Images  Instances      Box(P          R      mAP50  mAP50-95): 100%|██████████| 13/13 [00:01<00:00,  6.63it/s]",
          "output_type": "stream"
        },
        {
          "name": "stdout",
          "text": "                   all        200       7030      0.904       0.99      0.944      0.753\n",
          "output_type": "stream"
        },
        {
          "name": "stderr",
          "text": "\n",
          "output_type": "stream"
        },
        {
          "name": "stdout",
          "text": "\n      Epoch    GPU_mem   box_loss   cls_loss   dfl_loss  Instances       Size\n",
          "output_type": "stream"
        },
        {
          "name": "stderr",
          "text": "      29/30      6.21G     0.4513       0.26     0.8384        292        640: 100%|██████████| 390/390 [01:11<00:00,  5.46it/s]\n                 Class     Images  Instances      Box(P          R      mAP50  mAP50-95): 100%|██████████| 13/13 [00:01<00:00,  6.95it/s]",
          "output_type": "stream"
        },
        {
          "name": "stdout",
          "text": "                   all        200       7030      0.903      0.994      0.953      0.768\n",
          "output_type": "stream"
        },
        {
          "name": "stderr",
          "text": "\n",
          "output_type": "stream"
        },
        {
          "name": "stdout",
          "text": "\n      Epoch    GPU_mem   box_loss   cls_loss   dfl_loss  Instances       Size\n",
          "output_type": "stream"
        },
        {
          "name": "stderr",
          "text": "      30/30      6.21G     0.4399     0.2544     0.8353        114        640: 100%|██████████| 390/390 [01:11<00:00,  5.45it/s]\n                 Class     Images  Instances      Box(P          R      mAP50  mAP50-95): 100%|██████████| 13/13 [00:01<00:00,  6.50it/s]",
          "output_type": "stream"
        },
        {
          "name": "stdout",
          "text": "                   all        200       7030      0.909      0.994      0.955      0.769\n",
          "output_type": "stream"
        },
        {
          "name": "stderr",
          "text": "\n",
          "output_type": "stream"
        },
        {
          "name": "stdout",
          "text": "\n30 epochs completed in 0.640 hours.\nOptimizer stripped from runs/detect/pallet_yolov8s4/weights/last.pt, 22.5MB\nOptimizer stripped from runs/detect/pallet_yolov8s4/weights/best.pt, 22.5MB\n\nValidating runs/detect/pallet_yolov8s4/weights/best.pt...\nUltralytics 8.3.127 🚀 Python-3.11.11 torch-2.5.1+cu124 CUDA:0 (Tesla P100-PCIE-16GB, 16269MiB)\nModel summary (fused): 72 layers, 11,125,971 parameters, 0 gradients, 28.4 GFLOPs\n",
          "output_type": "stream"
        },
        {
          "name": "stderr",
          "text": "                 Class     Images  Instances      Box(P          R      mAP50  mAP50-95): 100%|██████████| 13/13 [00:05<00:00,  2.20it/s]\n",
          "output_type": "stream"
        },
        {
          "name": "stdout",
          "text": "                   all        200       7030      0.905       0.99      0.969      0.775\n",
          "output_type": "stream"
        },
        {
          "name": "stderr",
          "text": "/usr/local/lib/python3.11/dist-packages/matplotlib/colors.py:721: RuntimeWarning: invalid value encountered in less\n  xa[xa < 0] = -1\n/usr/local/lib/python3.11/dist-packages/matplotlib/colors.py:721: RuntimeWarning: invalid value encountered in less\n  xa[xa < 0] = -1\n",
          "output_type": "stream"
        },
        {
          "name": "stdout",
          "text": "Speed: 0.2ms preprocess, 4.6ms inference, 0.0ms loss, 1.8ms postprocess per image\nResults saved to \u001b[1mruns/detect/pallet_yolov8s4\u001b[0m\n",
          "output_type": "stream"
        },
        {
          "name": "stderr",
          "text": "Traceback (most recent call last):\n  File \"/usr/lib/python3.11/multiprocessing/queues.py\", line 239, in _feed\n    reader_close()\n  File \"/usr/lib/python3.11/multiprocessing/connection.py\", line 178, in close\n    self._close()\n  File \"/usr/lib/python3.11/multiprocessing/connection.py\", line 377, in _close\n    _close(self._handle)\nOSError: [Errno 9] Bad file descriptor\n",
          "output_type": "stream"
        },
        {
          "execution_count": 15,
          "output_type": "execute_result",
          "data": {
            "text/plain": "ultralytics.utils.metrics.DetMetrics object with attributes:\n\nap_class_index: array([0])\nbox: ultralytics.utils.metrics.Metric object\nconfusion_matrix: <ultralytics.utils.metrics.ConfusionMatrix object at 0x7ca5f3cccf10>\ncurves: ['Precision-Recall(B)', 'F1-Confidence(B)', 'Precision-Confidence(B)', 'Recall-Confidence(B)']\ncurves_results: [[array([          0,    0.001001,    0.002002,    0.003003,    0.004004,    0.005005,    0.006006,    0.007007,    0.008008,    0.009009,     0.01001,    0.011011,    0.012012,    0.013013,    0.014014,    0.015015,    0.016016,    0.017017,    0.018018,    0.019019,     0.02002,    0.021021,    0.022022,    0.023023,\n          0.024024,    0.025025,    0.026026,    0.027027,    0.028028,    0.029029,     0.03003,    0.031031,    0.032032,    0.033033,    0.034034,    0.035035,    0.036036,    0.037037,    0.038038,    0.039039,     0.04004,    0.041041,    0.042042,    0.043043,    0.044044,    0.045045,    0.046046,    0.047047,\n          0.048048,    0.049049,     0.05005,    0.051051,    0.052052,    0.053053,    0.054054,    0.055055,    0.056056,    0.057057,    0.058058,    0.059059,     0.06006,    0.061061,    0.062062,    0.063063,    0.064064,    0.065065,    0.066066,    0.067067,    0.068068,    0.069069,     0.07007,    0.071071,\n          0.072072,    0.073073,    0.074074,    0.075075,    0.076076,    0.077077,    0.078078,    0.079079,     0.08008,    0.081081,    0.082082,    0.083083,    0.084084,    0.085085,    0.086086,    0.087087,    0.088088,    0.089089,     0.09009,    0.091091,    0.092092,    0.093093,    0.094094,    0.095095,\n          0.096096,    0.097097,    0.098098,    0.099099,      0.1001,      0.1011,      0.1021,      0.1031,      0.1041,     0.10511,     0.10611,     0.10711,     0.10811,     0.10911,     0.11011,     0.11111,     0.11211,     0.11311,     0.11411,     0.11512,     0.11612,     0.11712,     0.11812,     0.11912,\n           0.12012,     0.12112,     0.12212,     0.12312,     0.12412,     0.12513,     0.12613,     0.12713,     0.12813,     0.12913,     0.13013,     0.13113,     0.13213,     0.13313,     0.13413,     0.13514,     0.13614,     0.13714,     0.13814,     0.13914,     0.14014,     0.14114,     0.14214,     0.14314,\n           0.14414,     0.14515,     0.14615,     0.14715,     0.14815,     0.14915,     0.15015,     0.15115,     0.15215,     0.15315,     0.15415,     0.15516,     0.15616,     0.15716,     0.15816,     0.15916,     0.16016,     0.16116,     0.16216,     0.16316,     0.16416,     0.16517,     0.16617,     0.16717,\n           0.16817,     0.16917,     0.17017,     0.17117,     0.17217,     0.17317,     0.17417,     0.17518,     0.17618,     0.17718,     0.17818,     0.17918,     0.18018,     0.18118,     0.18218,     0.18318,     0.18418,     0.18519,     0.18619,     0.18719,     0.18819,     0.18919,     0.19019,     0.19119,\n           0.19219,     0.19319,     0.19419,      0.1952,      0.1962,      0.1972,      0.1982,      0.1992,      0.2002,      0.2012,      0.2022,      0.2032,      0.2042,     0.20521,     0.20621,     0.20721,     0.20821,     0.20921,     0.21021,     0.21121,     0.21221,     0.21321,     0.21421,     0.21522,\n           0.21622,     0.21722,     0.21822,     0.21922,     0.22022,     0.22122,     0.22222,     0.22322,     0.22422,     0.22523,     0.22623,     0.22723,     0.22823,     0.22923,     0.23023,     0.23123,     0.23223,     0.23323,     0.23423,     0.23524,     0.23624,     0.23724,     0.23824,     0.23924,\n           0.24024,     0.24124,     0.24224,     0.24324,     0.24424,     0.24525,     0.24625,     0.24725,     0.24825,     0.24925,     0.25025,     0.25125,     0.25225,     0.25325,     0.25425,     0.25526,     0.25626,     0.25726,     0.25826,     0.25926,     0.26026,     0.26126,     0.26226,     0.26326,\n           0.26426,     0.26527,     0.26627,     0.26727,     0.26827,     0.26927,     0.27027,     0.27127,     0.27227,     0.27327,     0.27427,     0.27528,     0.27628,     0.27728,     0.27828,     0.27928,     0.28028,     0.28128,     0.28228,     0.28328,     0.28428,     0.28529,     0.28629,     0.28729,\n           0.28829,     0.28929,     0.29029,     0.29129,     0.29229,     0.29329,     0.29429,      0.2953,      0.2963,      0.2973,      0.2983,      0.2993,      0.3003,      0.3013,      0.3023,      0.3033,      0.3043,     0.30531,     0.30631,     0.30731,     0.30831,     0.30931,     0.31031,     0.31131,\n           0.31231,     0.31331,     0.31431,     0.31532,     0.31632,     0.31732,     0.31832,     0.31932,     0.32032,     0.32132,     0.32232,     0.32332,     0.32432,     0.32533,     0.32633,     0.32733,     0.32833,     0.32933,     0.33033,     0.33133,     0.33233,     0.33333,     0.33433,     0.33534,\n           0.33634,     0.33734,     0.33834,     0.33934,     0.34034,     0.34134,     0.34234,     0.34334,     0.34434,     0.34535,     0.34635,     0.34735,     0.34835,     0.34935,     0.35035,     0.35135,     0.35235,     0.35335,     0.35435,     0.35536,     0.35636,     0.35736,     0.35836,     0.35936,\n           0.36036,     0.36136,     0.36236,     0.36336,     0.36436,     0.36537,     0.36637,     0.36737,     0.36837,     0.36937,     0.37037,     0.37137,     0.37237,     0.37337,     0.37437,     0.37538,     0.37638,     0.37738,     0.37838,     0.37938,     0.38038,     0.38138,     0.38238,     0.38338,\n           0.38438,     0.38539,     0.38639,     0.38739,     0.38839,     0.38939,     0.39039,     0.39139,     0.39239,     0.39339,     0.39439,      0.3954,      0.3964,      0.3974,      0.3984,      0.3994,      0.4004,      0.4014,      0.4024,      0.4034,      0.4044,     0.40541,     0.40641,     0.40741,\n           0.40841,     0.40941,     0.41041,     0.41141,     0.41241,     0.41341,     0.41441,     0.41542,     0.41642,     0.41742,     0.41842,     0.41942,     0.42042,     0.42142,     0.42242,     0.42342,     0.42442,     0.42543,     0.42643,     0.42743,     0.42843,     0.42943,     0.43043,     0.43143,\n           0.43243,     0.43343,     0.43443,     0.43544,     0.43644,     0.43744,     0.43844,     0.43944,     0.44044,     0.44144,     0.44244,     0.44344,     0.44444,     0.44545,     0.44645,     0.44745,     0.44845,     0.44945,     0.45045,     0.45145,     0.45245,     0.45345,     0.45445,     0.45546,\n           0.45646,     0.45746,     0.45846,     0.45946,     0.46046,     0.46146,     0.46246,     0.46346,     0.46446,     0.46547,     0.46647,     0.46747,     0.46847,     0.46947,     0.47047,     0.47147,     0.47247,     0.47347,     0.47447,     0.47548,     0.47648,     0.47748,     0.47848,     0.47948,\n           0.48048,     0.48148,     0.48248,     0.48348,     0.48448,     0.48549,     0.48649,     0.48749,     0.48849,     0.48949,     0.49049,     0.49149,     0.49249,     0.49349,     0.49449,      0.4955,      0.4965,      0.4975,      0.4985,      0.4995,      0.5005,      0.5015,      0.5025,      0.5035,\n            0.5045,     0.50551,     0.50651,     0.50751,     0.50851,     0.50951,     0.51051,     0.51151,     0.51251,     0.51351,     0.51451,     0.51552,     0.51652,     0.51752,     0.51852,     0.51952,     0.52052,     0.52152,     0.52252,     0.52352,     0.52452,     0.52553,     0.52653,     0.52753,\n           0.52853,     0.52953,     0.53053,     0.53153,     0.53253,     0.53353,     0.53453,     0.53554,     0.53654,     0.53754,     0.53854,     0.53954,     0.54054,     0.54154,     0.54254,     0.54354,     0.54454,     0.54555,     0.54655,     0.54755,     0.54855,     0.54955,     0.55055,     0.55155,\n           0.55255,     0.55355,     0.55455,     0.55556,     0.55656,     0.55756,     0.55856,     0.55956,     0.56056,     0.56156,     0.56256,     0.56356,     0.56456,     0.56557,     0.56657,     0.56757,     0.56857,     0.56957,     0.57057,     0.57157,     0.57257,     0.57357,     0.57457,     0.57558,\n           0.57658,     0.57758,     0.57858,     0.57958,     0.58058,     0.58158,     0.58258,     0.58358,     0.58458,     0.58559,     0.58659,     0.58759,     0.58859,     0.58959,     0.59059,     0.59159,     0.59259,     0.59359,     0.59459,      0.5956,      0.5966,      0.5976,      0.5986,      0.5996,\n            0.6006,      0.6016,      0.6026,      0.6036,      0.6046,     0.60561,     0.60661,     0.60761,     0.60861,     0.60961,     0.61061,     0.61161,     0.61261,     0.61361,     0.61461,     0.61562,     0.61662,     0.61762,     0.61862,     0.61962,     0.62062,     0.62162,     0.62262,     0.62362,\n           0.62462,     0.62563,     0.62663,     0.62763,     0.62863,     0.62963,     0.63063,     0.63163,     0.63263,     0.63363,     0.63463,     0.63564,     0.63664,     0.63764,     0.63864,     0.63964,     0.64064,     0.64164,     0.64264,     0.64364,     0.64464,     0.64565,     0.64665,     0.64765,\n           0.64865,     0.64965,     0.65065,     0.65165,     0.65265,     0.65365,     0.65465,     0.65566,     0.65666,     0.65766,     0.65866,     0.65966,     0.66066,     0.66166,     0.66266,     0.66366,     0.66466,     0.66567,     0.66667,     0.66767,     0.66867,     0.66967,     0.67067,     0.67167,\n           0.67267,     0.67367,     0.67467,     0.67568,     0.67668,     0.67768,     0.67868,     0.67968,     0.68068,     0.68168,     0.68268,     0.68368,     0.68468,     0.68569,     0.68669,     0.68769,     0.68869,     0.68969,     0.69069,     0.69169,     0.69269,     0.69369,     0.69469,      0.6957,\n            0.6967,      0.6977,      0.6987,      0.6997,      0.7007,      0.7017,      0.7027,      0.7037,      0.7047,     0.70571,     0.70671,     0.70771,     0.70871,     0.70971,     0.71071,     0.71171,     0.71271,     0.71371,     0.71471,     0.71572,     0.71672,     0.71772,     0.71872,     0.71972,\n           0.72072,     0.72172,     0.72272,     0.72372,     0.72472,     0.72573,     0.72673,     0.72773,     0.72873,     0.72973,     0.73073,     0.73173,     0.73273,     0.73373,     0.73473,     0.73574,     0.73674,     0.73774,     0.73874,     0.73974,     0.74074,     0.74174,     0.74274,     0.74374,\n           0.74474,     0.74575,     0.74675,     0.74775,     0.74875,     0.74975,     0.75075,     0.75175,     0.75275,     0.75375,     0.75475,     0.75576,     0.75676,     0.75776,     0.75876,     0.75976,     0.76076,     0.76176,     0.76276,     0.76376,     0.76476,     0.76577,     0.76677,     0.76777,\n           0.76877,     0.76977,     0.77077,     0.77177,     0.77277,     0.77377,     0.77477,     0.77578,     0.77678,     0.77778,     0.77878,     0.77978,     0.78078,     0.78178,     0.78278,     0.78378,     0.78478,     0.78579,     0.78679,     0.78779,     0.78879,     0.78979,     0.79079,     0.79179,\n           0.79279,     0.79379,     0.79479,      0.7958,      0.7968,      0.7978,      0.7988,      0.7998,      0.8008,      0.8018,      0.8028,      0.8038,      0.8048,     0.80581,     0.80681,     0.80781,     0.80881,     0.80981,     0.81081,     0.81181,     0.81281,     0.81381,     0.81481,     0.81582,\n           0.81682,     0.81782,     0.81882,     0.81982,     0.82082,     0.82182,     0.82282,     0.82382,     0.82482,     0.82583,     0.82683,     0.82783,     0.82883,     0.82983,     0.83083,     0.83183,     0.83283,     0.83383,     0.83483,     0.83584,     0.83684,     0.83784,     0.83884,     0.83984,\n           0.84084,     0.84184,     0.84284,     0.84384,     0.84484,     0.84585,     0.84685,     0.84785,     0.84885,     0.84985,     0.85085,     0.85185,     0.85285,     0.85385,     0.85485,     0.85586,     0.85686,     0.85786,     0.85886,     0.85986,     0.86086,     0.86186,     0.86286,     0.86386,\n           0.86486,     0.86587,     0.86687,     0.86787,     0.86887,     0.86987,     0.87087,     0.87187,     0.87287,     0.87387,     0.87487,     0.87588,     0.87688,     0.87788,     0.87888,     0.87988,     0.88088,     0.88188,     0.88288,     0.88388,     0.88488,     0.88589,     0.88689,     0.88789,\n           0.88889,     0.88989,     0.89089,     0.89189,     0.89289,     0.89389,     0.89489,      0.8959,      0.8969,      0.8979,      0.8989,      0.8999,      0.9009,      0.9019,      0.9029,      0.9039,      0.9049,     0.90591,     0.90691,     0.90791,     0.90891,     0.90991,     0.91091,     0.91191,\n           0.91291,     0.91391,     0.91491,     0.91592,     0.91692,     0.91792,     0.91892,     0.91992,     0.92092,     0.92192,     0.92292,     0.92392,     0.92492,     0.92593,     0.92693,     0.92793,     0.92893,     0.92993,     0.93093,     0.93193,     0.93293,     0.93393,     0.93493,     0.93594,\n           0.93694,     0.93794,     0.93894,     0.93994,     0.94094,     0.94194,     0.94294,     0.94394,     0.94494,     0.94595,     0.94695,     0.94795,     0.94895,     0.94995,     0.95095,     0.95195,     0.95295,     0.95395,     0.95495,     0.95596,     0.95696,     0.95796,     0.95896,     0.95996,\n           0.96096,     0.96196,     0.96296,     0.96396,     0.96496,     0.96597,     0.96697,     0.96797,     0.96897,     0.96997,     0.97097,     0.97197,     0.97297,     0.97397,     0.97497,     0.97598,     0.97698,     0.97798,     0.97898,     0.97998,     0.98098,     0.98198,     0.98298,     0.98398,\n           0.98498,     0.98599,     0.98699,     0.98799,     0.98899,     0.98999,     0.99099,     0.99199,     0.99299,     0.99399,     0.99499,       0.996,       0.997,       0.998,       0.999,           1]), array([[          1,           1,           1,           1,           1,           1,           1,           1,           1,           1,           1,           1,           1,           1,           1,           1,           1,           1,           1,           1,           1,           1,           1,\n                  1,           1,           1,           1,           1,           1,           1,           1,           1,           1,           1,           1,           1,           1,           1,           1,     0.98804,     0.98804,     0.98804,     0.98804,     0.98804,     0.98804,     0.98804,\n            0.98804,     0.98804,     0.98804,     0.98804,     0.98804,     0.98804,     0.98804,     0.98804,     0.98804,     0.98804,     0.98804,     0.98804,     0.98804,     0.98804,     0.98804,     0.98804,     0.98804,     0.98804,     0.98804,     0.98804,     0.98804,     0.98804,     0.98804,\n            0.98804,     0.98804,     0.98804,     0.98804,     0.98804,     0.98804,     0.98804,     0.98804,     0.98804,     0.98804,     0.98804,     0.98804,     0.98804,     0.98804,     0.98804,     0.98804,     0.98804,     0.98804,     0.98804,     0.98804,     0.98804,     0.98804,     0.98804,\n            0.98804,     0.98804,     0.98804,     0.98804,     0.98804,     0.98804,     0.98804,     0.98804,     0.98804,     0.98804,     0.98804,     0.98804,     0.98804,     0.98804,     0.98804,     0.98804,     0.98804,     0.98804,     0.98804,     0.98804,     0.98804,     0.98804,     0.98804,\n            0.98804,     0.98804,     0.98804,     0.98703,     0.98606,     0.98606,     0.98497,     0.98381,     0.98381,     0.98381,     0.98381,     0.98381,     0.98381,     0.98381,     0.98381,     0.98381,     0.98381,     0.98381,     0.98381,     0.98381,     0.98381,     0.98381,     0.98381,\n            0.98381,     0.98381,     0.98381,     0.98381,     0.98381,     0.98381,     0.98381,     0.98381,     0.98381,     0.98381,     0.98381,     0.98381,     0.98381,     0.98381,     0.98381,     0.98381,     0.98381,     0.98381,     0.98381,     0.98381,     0.98381,     0.98381,     0.98381,\n            0.98381,     0.98381,     0.98381,     0.98381,     0.98381,     0.98381,     0.98381,     0.98381,     0.98381,     0.98381,     0.98381,     0.98381,     0.98381,     0.98381,     0.98381,     0.98381,     0.98381,     0.98381,     0.98381,     0.98381,     0.98381,     0.98381,     0.98381,\n            0.98381,     0.98381,     0.98381,     0.98381,     0.98381,     0.98381,     0.98381,     0.98381,     0.98381,     0.98381,     0.98381,     0.98381,     0.98381,     0.98381,     0.98381,     0.98381,     0.98381,     0.98381,     0.98381,     0.98381,     0.98381,     0.98381,     0.98381,\n            0.98381,     0.98381,     0.98381,     0.98381,     0.98381,     0.98381,     0.98381,     0.98381,     0.98381,     0.98381,     0.98381,     0.98381,     0.98381,     0.98381,     0.98381,     0.98381,     0.98381,     0.98381,     0.98381,     0.98381,     0.98381,     0.98381,     0.98381,\n            0.98381,     0.98381,     0.98381,     0.98381,     0.98381,     0.98381,     0.98381,     0.98381,     0.98381,     0.98381,     0.98381,     0.98381,     0.98381,     0.98381,     0.98381,     0.98381,     0.98381,     0.98381,     0.98381,     0.98381,     0.98381,     0.98381,     0.98381,\n            0.98381,     0.98381,     0.98381,     0.98381,     0.98381,     0.98381,     0.98381,     0.98381,     0.98381,     0.98381,     0.98381,     0.98381,     0.98381,     0.98381,     0.98381,     0.98381,     0.98381,     0.98381,     0.98381,     0.98381,     0.98381,     0.98381,     0.98381,\n            0.98381,     0.98381,     0.98381,     0.98381,     0.98381,     0.98381,     0.98381,     0.98381,     0.98381,     0.98381,     0.98381,     0.98381,     0.98381,     0.98381,     0.98381,     0.98381,     0.98381,     0.98381,     0.98381,     0.98381,     0.98381,     0.98381,     0.98381,\n            0.98381,     0.98381,     0.98381,     0.98381,     0.98381,     0.98381,     0.98381,     0.98381,     0.98381,     0.98381,     0.98381,     0.98381,     0.98381,     0.98381,     0.98381,     0.98381,     0.98381,     0.98381,     0.98381,     0.98381,     0.98381,     0.98381,     0.98381,\n            0.98381,     0.98381,     0.98381,     0.98381,     0.98381,     0.98381,     0.98381,     0.98381,     0.98381,     0.98381,     0.98381,     0.98381,     0.98381,     0.98381,     0.98381,     0.98381,     0.98381,     0.98381,     0.98381,     0.98381,     0.98381,     0.98381,     0.98381,\n            0.98381,     0.98381,     0.98381,     0.98381,     0.98381,     0.98381,     0.98381,     0.98381,     0.98381,     0.98381,     0.98381,     0.98381,     0.98381,     0.98381,     0.98381,     0.98381,     0.98381,     0.98381,     0.98381,     0.98381,     0.98381,     0.98381,     0.98381,\n            0.98381,     0.98381,     0.98381,     0.98381,     0.98381,     0.98381,     0.98381,     0.98381,     0.98381,     0.98381,     0.98381,     0.98381,     0.98381,     0.98381,     0.98381,     0.98381,     0.98381,     0.98381,     0.98381,     0.98381,     0.98381,     0.98381,     0.98381,\n            0.98381,     0.98381,     0.98381,     0.98381,     0.98381,     0.98381,     0.98381,     0.98381,     0.98381,     0.98381,     0.98381,     0.98381,     0.98381,     0.98381,     0.98381,     0.98381,     0.98381,     0.98381,     0.98381,     0.98381,     0.98381,     0.98381,     0.98381,\n            0.98381,     0.98381,     0.98381,     0.98381,     0.98381,     0.98381,     0.98381,     0.98381,     0.98381,     0.98381,     0.98381,     0.98381,     0.98381,     0.98381,     0.98381,     0.98381,     0.98381,     0.98381,     0.98381,     0.98381,     0.98381,     0.98381,     0.98381,\n            0.98381,     0.98381,     0.98381,     0.98381,     0.98381,     0.98381,     0.98381,     0.98381,     0.98381,     0.98381,     0.98381,     0.98381,     0.98381,     0.98381,     0.98381,     0.98381,     0.98381,     0.98381,     0.98381,     0.98381,     0.98381,     0.98381,     0.98381,\n            0.98381,     0.98381,     0.98381,     0.98381,     0.98381,     0.98381,     0.98381,     0.98381,     0.98381,     0.98381,     0.98381,     0.98381,     0.98381,     0.98381,     0.98381,     0.98381,     0.98381,     0.98381,     0.98381,     0.98381,     0.98381,     0.98381,     0.98381,\n            0.98381,     0.98381,     0.98381,     0.98381,     0.98381,     0.98381,     0.98381,     0.98381,     0.98381,     0.98381,     0.98381,     0.98381,     0.98381,     0.98381,     0.98381,     0.98381,     0.98381,     0.98381,     0.98381,     0.98381,     0.98381,     0.98381,     0.98381,\n            0.98381,     0.98381,     0.98381,     0.98381,     0.98381,     0.98381,     0.98381,     0.98381,     0.98381,     0.98381,     0.98381,     0.98381,     0.98381,     0.98381,     0.98381,     0.98381,     0.98381,     0.98381,     0.98381,     0.98381,     0.98381,     0.98381,     0.98381,\n            0.98381,     0.98381,     0.98381,     0.98381,     0.98381,     0.98381,     0.98381,     0.98381,     0.98381,     0.98381,     0.98381,     0.98381,     0.98381,     0.98381,     0.98381,     0.98381,     0.98381,     0.98381,     0.98381,     0.98381,     0.98381,     0.98381,     0.98381,\n            0.98381,     0.98381,     0.98381,     0.98381,     0.98381,     0.98381,     0.98381,     0.98381,     0.98381,     0.98381,     0.98381,     0.98381,     0.98381,     0.98381,     0.98381,     0.98381,     0.98381,     0.98381,     0.98381,     0.98381,     0.98381,     0.98381,     0.98381,\n            0.98381,     0.98381,     0.98381,     0.98381,     0.98381,     0.98381,     0.98381,     0.98381,     0.98381,     0.98381,     0.98381,     0.98381,     0.98381,     0.98381,     0.98381,     0.98381,     0.98381,     0.98381,     0.98381,     0.98381,     0.98381,     0.98381,     0.98381,\n            0.98381,     0.98381,     0.98381,     0.98381,     0.98381,     0.98381,     0.98381,     0.98381,     0.98381,     0.98381,     0.98381,     0.98381,     0.98381,     0.98381,     0.98381,     0.98381,     0.98381,     0.98381,     0.98381,     0.98381,     0.98381,     0.98381,     0.98381,\n            0.98381,     0.98381,     0.98381,     0.98381,     0.98381,     0.98381,     0.98381,     0.98381,     0.98381,     0.98381,     0.98381,     0.98381,     0.98381,     0.98381,     0.98381,     0.98381,     0.98381,     0.98381,     0.98381,     0.98381,     0.98381,     0.98381,     0.98381,\n            0.98381,     0.98381,     0.98381,     0.98381,     0.98381,     0.98381,     0.98381,     0.98381,     0.98381,     0.98381,     0.98381,     0.98381,     0.98381,     0.98381,     0.98381,     0.98381,     0.98381,     0.98381,     0.98381,     0.98381,     0.98381,     0.98381,     0.98381,\n            0.98381,     0.98381,     0.98381,     0.98381,     0.98381,     0.98381,     0.98381,     0.98381,     0.98381,     0.98381,     0.98381,     0.98381,     0.98381,     0.98381,     0.98381,     0.98381,     0.98381,     0.98381,     0.98381,     0.98381,     0.98381,     0.98381,     0.98381,\n            0.98381,     0.98362,     0.98205,      0.9817,     0.98093,     0.98017,     0.97963,     0.97963,     0.97948,     0.97891,     0.97856,     0.97785,     0.97785,     0.97699,     0.97699,     0.97699,     0.97642,     0.97572,     0.97572,      0.9748,     0.97409,     0.97354,     0.97319,\n            0.97319,     0.97319,     0.97319,     0.97319,     0.97319,     0.97319,     0.97319,     0.97319,     0.97319,     0.97319,      0.9725,     0.97233,      0.9707,     0.97001,     0.96938,     0.96938,     0.96885,      0.9667,      0.9666,      0.9666,      0.9666,      0.9666,      0.9666,\n             0.9666,      0.9666,      0.9666,      0.9666,      0.9666,     0.96653,     0.96653,     0.96644,     0.96644,     0.96636,     0.96636,     0.96636,     0.96615,     0.96615,     0.96615,     0.96602,     0.96593,     0.96593,     0.96562,     0.96552,     0.96519,     0.96401,     0.96371,\n             0.9637,      0.9637,      0.9637,      0.9637,      0.9637,      0.9637,      0.9637,      0.9637,      0.9637,      0.9637,      0.9637,      0.9637,      0.9637,      0.9637,      0.9637,      0.9637,      0.9637,      0.9637,      0.9637,      0.9637,      0.9637,      0.9637,      0.9637,\n             0.9637,      0.9637,      0.9637,      0.9637,      0.9637,      0.9637,      0.9637,      0.9637,      0.9637,      0.9637,      0.9637,     0.96347,     0.96347,     0.96323,     0.96323,     0.96277,     0.96264,     0.96254,     0.96254,     0.96254,     0.96254,     0.96254,     0.96192,\n             0.9602,      0.9594,     0.95735,     0.95692,     0.95608,     0.95608,     0.95515,     0.95515,     0.95515,     0.95515,     0.95515,     0.95515,     0.95515,     0.95426,     0.95403,     0.95372,     0.95372,     0.95372,     0.95359,     0.95347,     0.95308,     0.95301,     0.95301,\n            0.95301,     0.95301,     0.95301,     0.95301,     0.95301,     0.95301,     0.95301,     0.95301,     0.95288,     0.95247,     0.95146,     0.95089,     0.95032,     0.95032,     0.95032,     0.94965,     0.94965,     0.94954,     0.94888,     0.94832,     0.94814,     0.94814,     0.94797,\n            0.94797,     0.94797,     0.94797,     0.94797,     0.94756,     0.94718,     0.94678,     0.94595,     0.94542,     0.94542,     0.94542,      0.9453,     0.94478,     0.94471,     0.94462,     0.94444,     0.94444,     0.94444,     0.94444,     0.94361,      0.9428,     0.94233,     0.94233,\n            0.94201,     0.94201,     0.94201,     0.94201,     0.94163,     0.94142,     0.94082,     0.94082,      0.9399,      0.9397,     0.93946,     0.93938,      0.9393,     0.93922,     0.93909,     0.93909,     0.93909,     0.93909,     0.93909,     0.93909,     0.93909,     0.93909,     0.93909,\n            0.93909,     0.93909,     0.93842,     0.93842,     0.93842,     0.93842,     0.93842,     0.93842,     0.93842,     0.93842,     0.93842,     0.93842,     0.93842,     0.93818,     0.93687,     0.93605,     0.93605,     0.93605,     0.93605,     0.93463,     0.93372,     0.93372,     0.93372,\n            0.93372,     0.93354,     0.93354,     0.93334,     0.93234,     0.93201,     0.93201,     0.93201,     0.93201,     0.93201,     0.93201,     0.93201,     0.93201,     0.93201,     0.93201,     0.93201,     0.92866,     0.92717,      0.9261,      0.9261,      0.9261,      0.9261,      0.9261,\n             0.9261,     0.92599,     0.92491,     0.92403,     0.92403,     0.92403,     0.92403,     0.92403,     0.92308,     0.92308,     0.92308,     0.92308,     0.92213,     0.92213,     0.92213,     0.92213,     0.92213,     0.92195,     0.92186,     0.92186,     0.92132,     0.92132,     0.92132,\n            0.92101,     0.92027,     0.91981,     0.91925,     0.91925,     0.91856,     0.91856,     0.91856,     0.91856,     0.91856,     0.91856,     0.91856,     0.91777,     0.91777,     0.91777,     0.91777,     0.91777,     0.91777,     0.91667,     0.91436,     0.91436,     0.91088,     0.90625,\n            0.90625,     0.90519,     0.90415,     0.90077,     0.90077,     0.41238,     0.32991,     0.24743,     0.16495,    0.082476,           0]]), 'Recall', 'Precision'], [array([          0,    0.001001,    0.002002,    0.003003,    0.004004,    0.005005,    0.006006,    0.007007,    0.008008,    0.009009,     0.01001,    0.011011,    0.012012,    0.013013,    0.014014,    0.015015,    0.016016,    0.017017,    0.018018,    0.019019,     0.02002,    0.021021,    0.022022,    0.023023,\n          0.024024,    0.025025,    0.026026,    0.027027,    0.028028,    0.029029,     0.03003,    0.031031,    0.032032,    0.033033,    0.034034,    0.035035,    0.036036,    0.037037,    0.038038,    0.039039,     0.04004,    0.041041,    0.042042,    0.043043,    0.044044,    0.045045,    0.046046,    0.047047,\n          0.048048,    0.049049,     0.05005,    0.051051,    0.052052,    0.053053,    0.054054,    0.055055,    0.056056,    0.057057,    0.058058,    0.059059,     0.06006,    0.061061,    0.062062,    0.063063,    0.064064,    0.065065,    0.066066,    0.067067,    0.068068,    0.069069,     0.07007,    0.071071,\n          0.072072,    0.073073,    0.074074,    0.075075,    0.076076,    0.077077,    0.078078,    0.079079,     0.08008,    0.081081,    0.082082,    0.083083,    0.084084,    0.085085,    0.086086,    0.087087,    0.088088,    0.089089,     0.09009,    0.091091,    0.092092,    0.093093,    0.094094,    0.095095,\n          0.096096,    0.097097,    0.098098,    0.099099,      0.1001,      0.1011,      0.1021,      0.1031,      0.1041,     0.10511,     0.10611,     0.10711,     0.10811,     0.10911,     0.11011,     0.11111,     0.11211,     0.11311,     0.11411,     0.11512,     0.11612,     0.11712,     0.11812,     0.11912,\n           0.12012,     0.12112,     0.12212,     0.12312,     0.12412,     0.12513,     0.12613,     0.12713,     0.12813,     0.12913,     0.13013,     0.13113,     0.13213,     0.13313,     0.13413,     0.13514,     0.13614,     0.13714,     0.13814,     0.13914,     0.14014,     0.14114,     0.14214,     0.14314,\n           0.14414,     0.14515,     0.14615,     0.14715,     0.14815,     0.14915,     0.15015,     0.15115,     0.15215,     0.15315,     0.15415,     0.15516,     0.15616,     0.15716,     0.15816,     0.15916,     0.16016,     0.16116,     0.16216,     0.16316,     0.16416,     0.16517,     0.16617,     0.16717,\n           0.16817,     0.16917,     0.17017,     0.17117,     0.17217,     0.17317,     0.17417,     0.17518,     0.17618,     0.17718,     0.17818,     0.17918,     0.18018,     0.18118,     0.18218,     0.18318,     0.18418,     0.18519,     0.18619,     0.18719,     0.18819,     0.18919,     0.19019,     0.19119,\n           0.19219,     0.19319,     0.19419,      0.1952,      0.1962,      0.1972,      0.1982,      0.1992,      0.2002,      0.2012,      0.2022,      0.2032,      0.2042,     0.20521,     0.20621,     0.20721,     0.20821,     0.20921,     0.21021,     0.21121,     0.21221,     0.21321,     0.21421,     0.21522,\n           0.21622,     0.21722,     0.21822,     0.21922,     0.22022,     0.22122,     0.22222,     0.22322,     0.22422,     0.22523,     0.22623,     0.22723,     0.22823,     0.22923,     0.23023,     0.23123,     0.23223,     0.23323,     0.23423,     0.23524,     0.23624,     0.23724,     0.23824,     0.23924,\n           0.24024,     0.24124,     0.24224,     0.24324,     0.24424,     0.24525,     0.24625,     0.24725,     0.24825,     0.24925,     0.25025,     0.25125,     0.25225,     0.25325,     0.25425,     0.25526,     0.25626,     0.25726,     0.25826,     0.25926,     0.26026,     0.26126,     0.26226,     0.26326,\n           0.26426,     0.26527,     0.26627,     0.26727,     0.26827,     0.26927,     0.27027,     0.27127,     0.27227,     0.27327,     0.27427,     0.27528,     0.27628,     0.27728,     0.27828,     0.27928,     0.28028,     0.28128,     0.28228,     0.28328,     0.28428,     0.28529,     0.28629,     0.28729,\n           0.28829,     0.28929,     0.29029,     0.29129,     0.29229,     0.29329,     0.29429,      0.2953,      0.2963,      0.2973,      0.2983,      0.2993,      0.3003,      0.3013,      0.3023,      0.3033,      0.3043,     0.30531,     0.30631,     0.30731,     0.30831,     0.30931,     0.31031,     0.31131,\n           0.31231,     0.31331,     0.31431,     0.31532,     0.31632,     0.31732,     0.31832,     0.31932,     0.32032,     0.32132,     0.32232,     0.32332,     0.32432,     0.32533,     0.32633,     0.32733,     0.32833,     0.32933,     0.33033,     0.33133,     0.33233,     0.33333,     0.33433,     0.33534,\n           0.33634,     0.33734,     0.33834,     0.33934,     0.34034,     0.34134,     0.34234,     0.34334,     0.34434,     0.34535,     0.34635,     0.34735,     0.34835,     0.34935,     0.35035,     0.35135,     0.35235,     0.35335,     0.35435,     0.35536,     0.35636,     0.35736,     0.35836,     0.35936,\n           0.36036,     0.36136,     0.36236,     0.36336,     0.36436,     0.36537,     0.36637,     0.36737,     0.36837,     0.36937,     0.37037,     0.37137,     0.37237,     0.37337,     0.37437,     0.37538,     0.37638,     0.37738,     0.37838,     0.37938,     0.38038,     0.38138,     0.38238,     0.38338,\n           0.38438,     0.38539,     0.38639,     0.38739,     0.38839,     0.38939,     0.39039,     0.39139,     0.39239,     0.39339,     0.39439,      0.3954,      0.3964,      0.3974,      0.3984,      0.3994,      0.4004,      0.4014,      0.4024,      0.4034,      0.4044,     0.40541,     0.40641,     0.40741,\n           0.40841,     0.40941,     0.41041,     0.41141,     0.41241,     0.41341,     0.41441,     0.41542,     0.41642,     0.41742,     0.41842,     0.41942,     0.42042,     0.42142,     0.42242,     0.42342,     0.42442,     0.42543,     0.42643,     0.42743,     0.42843,     0.42943,     0.43043,     0.43143,\n           0.43243,     0.43343,     0.43443,     0.43544,     0.43644,     0.43744,     0.43844,     0.43944,     0.44044,     0.44144,     0.44244,     0.44344,     0.44444,     0.44545,     0.44645,     0.44745,     0.44845,     0.44945,     0.45045,     0.45145,     0.45245,     0.45345,     0.45445,     0.45546,\n           0.45646,     0.45746,     0.45846,     0.45946,     0.46046,     0.46146,     0.46246,     0.46346,     0.46446,     0.46547,     0.46647,     0.46747,     0.46847,     0.46947,     0.47047,     0.47147,     0.47247,     0.47347,     0.47447,     0.47548,     0.47648,     0.47748,     0.47848,     0.47948,\n           0.48048,     0.48148,     0.48248,     0.48348,     0.48448,     0.48549,     0.48649,     0.48749,     0.48849,     0.48949,     0.49049,     0.49149,     0.49249,     0.49349,     0.49449,      0.4955,      0.4965,      0.4975,      0.4985,      0.4995,      0.5005,      0.5015,      0.5025,      0.5035,\n            0.5045,     0.50551,     0.50651,     0.50751,     0.50851,     0.50951,     0.51051,     0.51151,     0.51251,     0.51351,     0.51451,     0.51552,     0.51652,     0.51752,     0.51852,     0.51952,     0.52052,     0.52152,     0.52252,     0.52352,     0.52452,     0.52553,     0.52653,     0.52753,\n           0.52853,     0.52953,     0.53053,     0.53153,     0.53253,     0.53353,     0.53453,     0.53554,     0.53654,     0.53754,     0.53854,     0.53954,     0.54054,     0.54154,     0.54254,     0.54354,     0.54454,     0.54555,     0.54655,     0.54755,     0.54855,     0.54955,     0.55055,     0.55155,\n           0.55255,     0.55355,     0.55455,     0.55556,     0.55656,     0.55756,     0.55856,     0.55956,     0.56056,     0.56156,     0.56256,     0.56356,     0.56456,     0.56557,     0.56657,     0.56757,     0.56857,     0.56957,     0.57057,     0.57157,     0.57257,     0.57357,     0.57457,     0.57558,\n           0.57658,     0.57758,     0.57858,     0.57958,     0.58058,     0.58158,     0.58258,     0.58358,     0.58458,     0.58559,     0.58659,     0.58759,     0.58859,     0.58959,     0.59059,     0.59159,     0.59259,     0.59359,     0.59459,      0.5956,      0.5966,      0.5976,      0.5986,      0.5996,\n            0.6006,      0.6016,      0.6026,      0.6036,      0.6046,     0.60561,     0.60661,     0.60761,     0.60861,     0.60961,     0.61061,     0.61161,     0.61261,     0.61361,     0.61461,     0.61562,     0.61662,     0.61762,     0.61862,     0.61962,     0.62062,     0.62162,     0.62262,     0.62362,\n           0.62462,     0.62563,     0.62663,     0.62763,     0.62863,     0.62963,     0.63063,     0.63163,     0.63263,     0.63363,     0.63463,     0.63564,     0.63664,     0.63764,     0.63864,     0.63964,     0.64064,     0.64164,     0.64264,     0.64364,     0.64464,     0.64565,     0.64665,     0.64765,\n           0.64865,     0.64965,     0.65065,     0.65165,     0.65265,     0.65365,     0.65465,     0.65566,     0.65666,     0.65766,     0.65866,     0.65966,     0.66066,     0.66166,     0.66266,     0.66366,     0.66466,     0.66567,     0.66667,     0.66767,     0.66867,     0.66967,     0.67067,     0.67167,\n           0.67267,     0.67367,     0.67467,     0.67568,     0.67668,     0.67768,     0.67868,     0.67968,     0.68068,     0.68168,     0.68268,     0.68368,     0.68468,     0.68569,     0.68669,     0.68769,     0.68869,     0.68969,     0.69069,     0.69169,     0.69269,     0.69369,     0.69469,      0.6957,\n            0.6967,      0.6977,      0.6987,      0.6997,      0.7007,      0.7017,      0.7027,      0.7037,      0.7047,     0.70571,     0.70671,     0.70771,     0.70871,     0.70971,     0.71071,     0.71171,     0.71271,     0.71371,     0.71471,     0.71572,     0.71672,     0.71772,     0.71872,     0.71972,\n           0.72072,     0.72172,     0.72272,     0.72372,     0.72472,     0.72573,     0.72673,     0.72773,     0.72873,     0.72973,     0.73073,     0.73173,     0.73273,     0.73373,     0.73473,     0.73574,     0.73674,     0.73774,     0.73874,     0.73974,     0.74074,     0.74174,     0.74274,     0.74374,\n           0.74474,     0.74575,     0.74675,     0.74775,     0.74875,     0.74975,     0.75075,     0.75175,     0.75275,     0.75375,     0.75475,     0.75576,     0.75676,     0.75776,     0.75876,     0.75976,     0.76076,     0.76176,     0.76276,     0.76376,     0.76476,     0.76577,     0.76677,     0.76777,\n           0.76877,     0.76977,     0.77077,     0.77177,     0.77277,     0.77377,     0.77477,     0.77578,     0.77678,     0.77778,     0.77878,     0.77978,     0.78078,     0.78178,     0.78278,     0.78378,     0.78478,     0.78579,     0.78679,     0.78779,     0.78879,     0.78979,     0.79079,     0.79179,\n           0.79279,     0.79379,     0.79479,      0.7958,      0.7968,      0.7978,      0.7988,      0.7998,      0.8008,      0.8018,      0.8028,      0.8038,      0.8048,     0.80581,     0.80681,     0.80781,     0.80881,     0.80981,     0.81081,     0.81181,     0.81281,     0.81381,     0.81481,     0.81582,\n           0.81682,     0.81782,     0.81882,     0.81982,     0.82082,     0.82182,     0.82282,     0.82382,     0.82482,     0.82583,     0.82683,     0.82783,     0.82883,     0.82983,     0.83083,     0.83183,     0.83283,     0.83383,     0.83483,     0.83584,     0.83684,     0.83784,     0.83884,     0.83984,\n           0.84084,     0.84184,     0.84284,     0.84384,     0.84484,     0.84585,     0.84685,     0.84785,     0.84885,     0.84985,     0.85085,     0.85185,     0.85285,     0.85385,     0.85485,     0.85586,     0.85686,     0.85786,     0.85886,     0.85986,     0.86086,     0.86186,     0.86286,     0.86386,\n           0.86486,     0.86587,     0.86687,     0.86787,     0.86887,     0.86987,     0.87087,     0.87187,     0.87287,     0.87387,     0.87487,     0.87588,     0.87688,     0.87788,     0.87888,     0.87988,     0.88088,     0.88188,     0.88288,     0.88388,     0.88488,     0.88589,     0.88689,     0.88789,\n           0.88889,     0.88989,     0.89089,     0.89189,     0.89289,     0.89389,     0.89489,      0.8959,      0.8969,      0.8979,      0.8989,      0.8999,      0.9009,      0.9019,      0.9029,      0.9039,      0.9049,     0.90591,     0.90691,     0.90791,     0.90891,     0.90991,     0.91091,     0.91191,\n           0.91291,     0.91391,     0.91491,     0.91592,     0.91692,     0.91792,     0.91892,     0.91992,     0.92092,     0.92192,     0.92292,     0.92392,     0.92492,     0.92593,     0.92693,     0.92793,     0.92893,     0.92993,     0.93093,     0.93193,     0.93293,     0.93393,     0.93493,     0.93594,\n           0.93694,     0.93794,     0.93894,     0.93994,     0.94094,     0.94194,     0.94294,     0.94394,     0.94494,     0.94595,     0.94695,     0.94795,     0.94895,     0.94995,     0.95095,     0.95195,     0.95295,     0.95395,     0.95495,     0.95596,     0.95696,     0.95796,     0.95896,     0.95996,\n           0.96096,     0.96196,     0.96296,     0.96396,     0.96496,     0.96597,     0.96697,     0.96797,     0.96897,     0.96997,     0.97097,     0.97197,     0.97297,     0.97397,     0.97497,     0.97598,     0.97698,     0.97798,     0.97898,     0.97998,     0.98098,     0.98198,     0.98298,     0.98398,\n           0.98498,     0.98599,     0.98699,     0.98799,     0.98899,     0.98999,     0.99099,     0.99199,     0.99299,     0.99399,     0.99499,       0.996,       0.997,       0.998,       0.999,           1]), array([[    0.63719,     0.63719,      0.7169,     0.75811,     0.77879,     0.79247,     0.80711,     0.81467,     0.82231,     0.82769,      0.8321,     0.83659,     0.83911,     0.84368,     0.84928,     0.84984,     0.85292,     0.85713,     0.85871,      0.8603,     0.86345,     0.86454,     0.86559,\n            0.86668,     0.86778,     0.86882,     0.86884,     0.86885,     0.86938,     0.87047,     0.87103,     0.87372,     0.87593,     0.87699,     0.87703,     0.87865,     0.87919,      0.8809,     0.88199,     0.88254,     0.88364,     0.88368,     0.88476,     0.88479,     0.88532,     0.88533,\n            0.88535,     0.88537,     0.88591,     0.88646,     0.88704,     0.88758,     0.88761,      0.8887,     0.88871,     0.88872,     0.88873,     0.88875,     0.88928,      0.8893,     0.88983,     0.88986,      0.8904,     0.89042,     0.89044,     0.89097,     0.89098,       0.891,     0.89101,\n            0.89158,     0.89266,     0.89268,      0.8927,     0.89324,     0.89327,     0.89381,     0.89381,     0.89382,     0.89383,     0.89384,     0.89385,     0.89385,     0.89386,     0.89495,     0.89496,     0.89498,     0.89499,     0.89552,     0.89554,     0.89555,     0.89557,      0.8961,\n            0.89613,     0.89667,     0.89669,      0.8967,     0.89672,     0.89725,     0.89725,     0.89726,     0.89727,     0.89728,     0.89729,     0.89729,      0.8973,     0.89783,     0.89784,     0.89785,     0.89787,     0.89788,      0.8984,     0.89841,     0.89842,     0.89842,     0.89843,\n            0.89844,     0.89844,     0.89845,     0.89845,       0.899,     0.89957,     0.89961,     0.90015,     0.90017,     0.90018,     0.90072,     0.90073,     0.90075,     0.90076,     0.90077,     0.90131,     0.90133,     0.90188,     0.90189,      0.9019,     0.90191,     0.90192,     0.90193,\n            0.90194,     0.90251,     0.90305,     0.90306,     0.90307,     0.90308,     0.90309,     0.90363,     0.90363,     0.90364,     0.90364,     0.90365,     0.90366,     0.90366,     0.90367,     0.90368,     0.90368,     0.90422,     0.90423,     0.90425,     0.90426,      0.9048,      0.9048,\n             0.9048,      0.9048,     0.90481,     0.90481,     0.90481,     0.90481,     0.90481,     0.90482,     0.90482,     0.90482,     0.90482,     0.90483,     0.90483,     0.90483,     0.90483,     0.90484,     0.90484,     0.90484,     0.90484,     0.90484,     0.90485,     0.90485,     0.90485,\n            0.90485,     0.90538,     0.90539,     0.90539,      0.9054,      0.9054,     0.90541,     0.90541,     0.90542,     0.90542,     0.90543,     0.90543,     0.90544,     0.90597,     0.90599,       0.906,     0.90601,     0.90656,     0.90658,     0.90659,     0.90661,     0.90716,     0.90717,\n            0.90718,     0.90719,     0.90774,     0.90775,     0.90776,     0.90778,     0.90779,     0.90833,     0.90833,     0.90833,     0.90833,     0.90834,     0.90834,     0.90834,     0.90835,     0.90835,     0.90835,     0.90836,     0.90836,     0.90836,     0.90836,     0.90837,     0.90837,\n            0.90837,     0.90838,     0.90838,     0.90891,     0.90892,     0.90892,     0.90892,     0.90893,     0.90893,     0.90893,     0.90893,     0.90894,     0.90894,     0.90894,     0.90895,     0.90895,     0.90895,     0.90895,     0.90896,     0.90896,     0.90896,     0.90897,     0.90897,\n            0.90897,     0.90951,     0.90951,     0.90952,     0.90953,     0.90953,     0.90954,     0.90954,     0.90955,     0.90956,     0.90956,     0.91011,     0.91012,     0.91014,     0.91016,     0.91069,      0.9107,      0.9107,      0.9107,     0.91071,     0.91071,     0.91072,     0.91072,\n            0.91072,     0.91073,     0.91073,     0.91074,     0.91074,     0.91074,     0.91075,     0.91129,     0.91129,      0.9113,      0.9113,      0.9113,     0.91131,     0.91131,     0.91132,     0.91132,     0.91133,     0.91133,     0.91134,     0.91188,     0.91189,      0.9119,      0.9119,\n            0.91191,     0.91192,     0.91193,     0.91194,     0.91249,     0.91252,     0.91308,     0.91312,     0.91367,     0.91367,     0.91367,     0.91368,     0.91368,     0.91368,     0.91368,     0.91369,     0.91369,     0.91369,     0.91369,      0.9137,      0.9137,      0.9137,      0.9137,\n            0.91371,     0.91371,     0.91371,     0.91371,     0.91372,     0.91372,     0.91372,     0.91373,     0.91428,     0.91429,      0.9143,     0.91432,     0.91491,     0.91546,     0.91547,     0.91547,     0.91548,     0.91548,     0.91548,     0.91549,     0.91549,     0.91549,      0.9155,\n             0.9155,     0.91551,     0.91551,     0.91551,     0.91552,     0.91606,     0.91607,     0.91607,     0.91608,     0.91608,     0.91609,     0.91609,      0.9161,      0.9161,     0.91611,     0.91611,     0.91612,     0.91667,     0.91668,     0.91669,      0.9167,     0.91672,     0.91732,\n            0.91792,     0.91848,      0.9185,     0.91852,     0.91907,     0.91908,     0.91908,     0.91909,     0.91909,     0.91909,      0.9191,      0.9191,     0.91911,     0.91911,     0.91911,     0.91912,     0.91912,     0.91913,     0.91913,     0.92029,      0.9203,     0.92032,     0.92033,\n             0.9215,     0.92153,      0.9221,      0.9221,     0.92211,     0.92211,     0.92211,     0.92211,     0.92211,     0.92211,     0.92212,     0.92212,     0.92212,     0.92212,     0.92212,     0.92212,     0.92213,     0.92213,     0.92213,     0.92213,     0.92213,     0.92214,     0.92214,\n            0.92214,     0.92214,     0.92214,     0.92214,     0.92215,     0.92215,     0.92215,     0.92215,     0.92215,     0.92215,     0.92216,     0.92216,     0.92216,     0.92216,     0.92216,     0.92332,     0.92334,     0.92336,     0.92337,     0.92395,     0.92455,     0.92459,     0.92516,\n            0.92517,     0.92517,     0.92518,     0.92519,     0.92519,      0.9252,     0.92521,     0.92521,     0.92577,     0.92578,     0.92578,     0.92579,     0.92579,      0.9258,      0.9258,     0.92581,     0.92581,     0.92582,     0.92582,     0.92639,      0.9264,     0.92642,     0.92643,\n            0.92762,     0.92763,     0.92765,     0.92766,     0.92826,     0.92884,     0.92885,     0.92885,     0.92886,     0.92886,     0.92887,     0.92887,     0.92888,     0.92888,     0.92889,     0.92889,     0.92889,      0.9289,      0.9289,     0.92947,     0.92948,      0.9295,     0.92951,\n            0.93008,     0.93008,     0.93009,     0.93009,      0.9301,      0.9301,     0.93011,     0.93012,     0.93012,     0.93013,     0.93013,     0.93014,      0.9307,      0.9307,     0.93071,     0.93071,     0.93071,     0.93072,     0.93072,     0.93073,     0.93073,     0.93073,     0.93074,\n            0.93074,     0.93075,     0.93075,     0.93075,     0.93076,     0.93132,     0.93132,     0.93133,     0.93133,     0.93133,     0.93134,     0.93134,     0.93134,     0.93134,     0.93135,     0.93135,     0.93135,     0.93136,     0.93136,     0.93136,     0.93137,     0.93137,     0.93137,\n            0.93138,     0.93194,     0.93195,     0.93197,     0.93198,     0.93199,     0.93256,     0.93257,     0.93258,     0.93259,      0.9326,     0.93261,     0.93262,     0.93318,     0.93319,      0.9332,      0.9332,     0.93321,     0.93321,     0.93322,     0.93322,     0.93323,     0.93323,\n            0.93324,     0.93324,     0.93381,     0.93381,     0.93382,     0.93382,     0.93383,     0.93383,     0.93384,     0.93384,     0.93384,     0.93385,     0.93385,     0.93386,     0.93386,     0.93387,     0.93445,     0.93448,     0.93506,     0.93506,     0.93507,     0.93507,     0.93508,\n            0.93509,     0.93509,      0.9351,      0.9351,     0.93511,     0.93511,     0.93568,     0.93572,     0.93631,     0.93632,     0.93633,     0.93635,     0.93636,     0.93637,     0.93695,     0.93696,     0.93698,     0.93699,     0.93757,     0.93757,     0.93758,     0.93758,     0.93759,\n             0.9376,      0.9376,     0.93761,     0.93761,     0.93762,     0.93762,      0.9382,     0.93821,     0.93822,     0.93823,     0.93825,     0.93946,     0.93946,     0.93947,     0.93948,     0.93949,      0.9395,     0.93951,      0.9401,     0.94015,     0.94073,     0.94075,     0.94077,\n            0.94135,     0.94135,     0.94136,     0.94136,     0.94136,     0.94136,     0.94137,     0.94137,     0.94137,     0.94138,     0.94138,     0.94138,     0.94138,     0.94139,     0.94139,     0.94139,     0.94139,      0.9414,      0.9414,      0.9414,     0.94141,     0.94141,     0.94141,\n            0.94141,     0.94199,       0.942,     0.94202,     0.94203,     0.94204,     0.94264,     0.94389,      0.9439,      0.9439,      0.9439,     0.94391,     0.94391,     0.94391,     0.94391,     0.94392,     0.94392,     0.94392,     0.94393,     0.94393,     0.94393,     0.94393,     0.94394,\n            0.94394,     0.94394,     0.94394,     0.94395,     0.94395,     0.94395,     0.94396,     0.94459,     0.94518,     0.94518,     0.94519,      0.9452,     0.94521,     0.94522,     0.94523,     0.94459,     0.94459,     0.94458,     0.94458,     0.94458,     0.94457,     0.94457,     0.94456,\n            0.94456,     0.94456,     0.94455,     0.94455,     0.94455,     0.94454,     0.94454,     0.94453,     0.94453,     0.94453,     0.94452,      0.9451,      0.9451,      0.9451,     0.94511,     0.94511,     0.94512,     0.94512,     0.94513,     0.94513,     0.94514,     0.94514,     0.94515,\n            0.94515,     0.94516,     0.94574,     0.94575,     0.94576,     0.94577,     0.94578,     0.94579,     0.94638,     0.94638,     0.94639,     0.94639,      0.9464,     0.94641,     0.94641,     0.94642,     0.94642,     0.94643,     0.94644,     0.94579,     0.94577,     0.94575,     0.94573,\n            0.94631,     0.94632,     0.94632,     0.94633,     0.94633,     0.94634,     0.94635,     0.94635,     0.94636,     0.94637,     0.94572,     0.94572,     0.94571,     0.94571,     0.94571,      0.9457,      0.9457,      0.9457,     0.94569,     0.94569,     0.94569,     0.94568,     0.94568,\n            0.94567,     0.94567,     0.94567,     0.94566,     0.94566,     0.94566,     0.94565,     0.94624,     0.94625,     0.94627,     0.94628,     0.94564,     0.94562,     0.94559,     0.94616,     0.94617,     0.94618,     0.94619,      0.9462,     0.94621,     0.94622,     0.94682,     0.94685,\n            0.94745,     0.94749,     0.94811,     0.94815,     0.94803,     0.94804,     0.94806,     0.94808,     0.94932,     0.94934,     0.94936,     0.94938,     0.94871,     0.94867,     0.94927,     0.94929,     0.94931,     0.94992,     0.94932,     0.94983,     0.94986,     0.94989,      0.9492,\n            0.94852,      0.9485,     0.94849,     0.94847,     0.94846,     0.94763,     0.94626,     0.94554,     0.94552,     0.94549,     0.94477,     0.94464,       0.944,     0.94397,     0.94394,     0.94313,     0.94239,     0.94009,     0.93858,     0.93918,     0.93704,     0.93758,      0.9362,\n            0.93544,     0.93534,     0.93525,     0.93297,     0.93224,     0.93331,     0.93399,     0.93022,     0.92769,     0.92592,     0.92441,     0.92341,     0.91868,     0.91394,     0.90876,     0.90594,     0.90185,      0.8991,     0.89661,     0.89213,     0.89012,     0.88589,     0.87783,\n            0.87426,     0.86345,     0.85897,     0.84847,     0.83524,     0.82364,     0.82012,     0.81203,     0.79492,     0.76358,     0.74392,     0.72197,     0.70566,     0.69614,     0.68161,     0.66235,     0.64184,     0.59612,     0.57495,     0.55608,     0.54121,     0.52297,     0.49846,\n            0.47961,     0.45468,      0.4219,      0.3877,     0.36722,     0.33255,     0.29247,     0.25945,     0.23769,     0.22882,     0.20654,     0.17869,     0.15481,     0.13525,     0.13028,     0.12279,     0.10261,    0.094827,    0.076596,    0.074013,    0.068749,    0.060851,    0.055367,\n           0.047251,    0.036328,    0.033567,      0.0309,    0.022629,    0.014395,    0.014251,    0.011528,   0.0086589,   0.0058589,   0.0031122,    0.003094,   0.0030758,   0.0030577,   0.0030395,   0.0030213,   0.0030032,    0.002985,   0.0029668,   0.0029487,   0.0029305,   0.0029123,   0.0028941,\n           0.002876,   0.0028578,           0,           0,           0,           0,           0,           0,           0,           0,           0,           0,           0,           0,           0,           0,           0,           0,           0,           0,           0,           0,           0,\n                  0,           0,           0,           0,           0,           0,           0,           0,           0,           0,           0,           0,           0,           0,           0,           0,           0,           0,           0,           0,           0,           0,           0,\n                  0,           0,           0,           0,           0,           0,           0,           0,           0,           0,           0,           0,           0,           0,           0,           0,           0,           0,           0,           0,           0,           0,           0,\n                  0,           0,           0,           0,           0,           0,           0,           0,           0,           0,           0]]), 'Confidence', 'F1'], [array([          0,    0.001001,    0.002002,    0.003003,    0.004004,    0.005005,    0.006006,    0.007007,    0.008008,    0.009009,     0.01001,    0.011011,    0.012012,    0.013013,    0.014014,    0.015015,    0.016016,    0.017017,    0.018018,    0.019019,     0.02002,    0.021021,    0.022022,    0.023023,\n          0.024024,    0.025025,    0.026026,    0.027027,    0.028028,    0.029029,     0.03003,    0.031031,    0.032032,    0.033033,    0.034034,    0.035035,    0.036036,    0.037037,    0.038038,    0.039039,     0.04004,    0.041041,    0.042042,    0.043043,    0.044044,    0.045045,    0.046046,    0.047047,\n          0.048048,    0.049049,     0.05005,    0.051051,    0.052052,    0.053053,    0.054054,    0.055055,    0.056056,    0.057057,    0.058058,    0.059059,     0.06006,    0.061061,    0.062062,    0.063063,    0.064064,    0.065065,    0.066066,    0.067067,    0.068068,    0.069069,     0.07007,    0.071071,\n          0.072072,    0.073073,    0.074074,    0.075075,    0.076076,    0.077077,    0.078078,    0.079079,     0.08008,    0.081081,    0.082082,    0.083083,    0.084084,    0.085085,    0.086086,    0.087087,    0.088088,    0.089089,     0.09009,    0.091091,    0.092092,    0.093093,    0.094094,    0.095095,\n          0.096096,    0.097097,    0.098098,    0.099099,      0.1001,      0.1011,      0.1021,      0.1031,      0.1041,     0.10511,     0.10611,     0.10711,     0.10811,     0.10911,     0.11011,     0.11111,     0.11211,     0.11311,     0.11411,     0.11512,     0.11612,     0.11712,     0.11812,     0.11912,\n           0.12012,     0.12112,     0.12212,     0.12312,     0.12412,     0.12513,     0.12613,     0.12713,     0.12813,     0.12913,     0.13013,     0.13113,     0.13213,     0.13313,     0.13413,     0.13514,     0.13614,     0.13714,     0.13814,     0.13914,     0.14014,     0.14114,     0.14214,     0.14314,\n           0.14414,     0.14515,     0.14615,     0.14715,     0.14815,     0.14915,     0.15015,     0.15115,     0.15215,     0.15315,     0.15415,     0.15516,     0.15616,     0.15716,     0.15816,     0.15916,     0.16016,     0.16116,     0.16216,     0.16316,     0.16416,     0.16517,     0.16617,     0.16717,\n           0.16817,     0.16917,     0.17017,     0.17117,     0.17217,     0.17317,     0.17417,     0.17518,     0.17618,     0.17718,     0.17818,     0.17918,     0.18018,     0.18118,     0.18218,     0.18318,     0.18418,     0.18519,     0.18619,     0.18719,     0.18819,     0.18919,     0.19019,     0.19119,\n           0.19219,     0.19319,     0.19419,      0.1952,      0.1962,      0.1972,      0.1982,      0.1992,      0.2002,      0.2012,      0.2022,      0.2032,      0.2042,     0.20521,     0.20621,     0.20721,     0.20821,     0.20921,     0.21021,     0.21121,     0.21221,     0.21321,     0.21421,     0.21522,\n           0.21622,     0.21722,     0.21822,     0.21922,     0.22022,     0.22122,     0.22222,     0.22322,     0.22422,     0.22523,     0.22623,     0.22723,     0.22823,     0.22923,     0.23023,     0.23123,     0.23223,     0.23323,     0.23423,     0.23524,     0.23624,     0.23724,     0.23824,     0.23924,\n           0.24024,     0.24124,     0.24224,     0.24324,     0.24424,     0.24525,     0.24625,     0.24725,     0.24825,     0.24925,     0.25025,     0.25125,     0.25225,     0.25325,     0.25425,     0.25526,     0.25626,     0.25726,     0.25826,     0.25926,     0.26026,     0.26126,     0.26226,     0.26326,\n           0.26426,     0.26527,     0.26627,     0.26727,     0.26827,     0.26927,     0.27027,     0.27127,     0.27227,     0.27327,     0.27427,     0.27528,     0.27628,     0.27728,     0.27828,     0.27928,     0.28028,     0.28128,     0.28228,     0.28328,     0.28428,     0.28529,     0.28629,     0.28729,\n           0.28829,     0.28929,     0.29029,     0.29129,     0.29229,     0.29329,     0.29429,      0.2953,      0.2963,      0.2973,      0.2983,      0.2993,      0.3003,      0.3013,      0.3023,      0.3033,      0.3043,     0.30531,     0.30631,     0.30731,     0.30831,     0.30931,     0.31031,     0.31131,\n           0.31231,     0.31331,     0.31431,     0.31532,     0.31632,     0.31732,     0.31832,     0.31932,     0.32032,     0.32132,     0.32232,     0.32332,     0.32432,     0.32533,     0.32633,     0.32733,     0.32833,     0.32933,     0.33033,     0.33133,     0.33233,     0.33333,     0.33433,     0.33534,\n           0.33634,     0.33734,     0.33834,     0.33934,     0.34034,     0.34134,     0.34234,     0.34334,     0.34434,     0.34535,     0.34635,     0.34735,     0.34835,     0.34935,     0.35035,     0.35135,     0.35235,     0.35335,     0.35435,     0.35536,     0.35636,     0.35736,     0.35836,     0.35936,\n           0.36036,     0.36136,     0.36236,     0.36336,     0.36436,     0.36537,     0.36637,     0.36737,     0.36837,     0.36937,     0.37037,     0.37137,     0.37237,     0.37337,     0.37437,     0.37538,     0.37638,     0.37738,     0.37838,     0.37938,     0.38038,     0.38138,     0.38238,     0.38338,\n           0.38438,     0.38539,     0.38639,     0.38739,     0.38839,     0.38939,     0.39039,     0.39139,     0.39239,     0.39339,     0.39439,      0.3954,      0.3964,      0.3974,      0.3984,      0.3994,      0.4004,      0.4014,      0.4024,      0.4034,      0.4044,     0.40541,     0.40641,     0.40741,\n           0.40841,     0.40941,     0.41041,     0.41141,     0.41241,     0.41341,     0.41441,     0.41542,     0.41642,     0.41742,     0.41842,     0.41942,     0.42042,     0.42142,     0.42242,     0.42342,     0.42442,     0.42543,     0.42643,     0.42743,     0.42843,     0.42943,     0.43043,     0.43143,\n           0.43243,     0.43343,     0.43443,     0.43544,     0.43644,     0.43744,     0.43844,     0.43944,     0.44044,     0.44144,     0.44244,     0.44344,     0.44444,     0.44545,     0.44645,     0.44745,     0.44845,     0.44945,     0.45045,     0.45145,     0.45245,     0.45345,     0.45445,     0.45546,\n           0.45646,     0.45746,     0.45846,     0.45946,     0.46046,     0.46146,     0.46246,     0.46346,     0.46446,     0.46547,     0.46647,     0.46747,     0.46847,     0.46947,     0.47047,     0.47147,     0.47247,     0.47347,     0.47447,     0.47548,     0.47648,     0.47748,     0.47848,     0.47948,\n           0.48048,     0.48148,     0.48248,     0.48348,     0.48448,     0.48549,     0.48649,     0.48749,     0.48849,     0.48949,     0.49049,     0.49149,     0.49249,     0.49349,     0.49449,      0.4955,      0.4965,      0.4975,      0.4985,      0.4995,      0.5005,      0.5015,      0.5025,      0.5035,\n            0.5045,     0.50551,     0.50651,     0.50751,     0.50851,     0.50951,     0.51051,     0.51151,     0.51251,     0.51351,     0.51451,     0.51552,     0.51652,     0.51752,     0.51852,     0.51952,     0.52052,     0.52152,     0.52252,     0.52352,     0.52452,     0.52553,     0.52653,     0.52753,\n           0.52853,     0.52953,     0.53053,     0.53153,     0.53253,     0.53353,     0.53453,     0.53554,     0.53654,     0.53754,     0.53854,     0.53954,     0.54054,     0.54154,     0.54254,     0.54354,     0.54454,     0.54555,     0.54655,     0.54755,     0.54855,     0.54955,     0.55055,     0.55155,\n           0.55255,     0.55355,     0.55455,     0.55556,     0.55656,     0.55756,     0.55856,     0.55956,     0.56056,     0.56156,     0.56256,     0.56356,     0.56456,     0.56557,     0.56657,     0.56757,     0.56857,     0.56957,     0.57057,     0.57157,     0.57257,     0.57357,     0.57457,     0.57558,\n           0.57658,     0.57758,     0.57858,     0.57958,     0.58058,     0.58158,     0.58258,     0.58358,     0.58458,     0.58559,     0.58659,     0.58759,     0.58859,     0.58959,     0.59059,     0.59159,     0.59259,     0.59359,     0.59459,      0.5956,      0.5966,      0.5976,      0.5986,      0.5996,\n            0.6006,      0.6016,      0.6026,      0.6036,      0.6046,     0.60561,     0.60661,     0.60761,     0.60861,     0.60961,     0.61061,     0.61161,     0.61261,     0.61361,     0.61461,     0.61562,     0.61662,     0.61762,     0.61862,     0.61962,     0.62062,     0.62162,     0.62262,     0.62362,\n           0.62462,     0.62563,     0.62663,     0.62763,     0.62863,     0.62963,     0.63063,     0.63163,     0.63263,     0.63363,     0.63463,     0.63564,     0.63664,     0.63764,     0.63864,     0.63964,     0.64064,     0.64164,     0.64264,     0.64364,     0.64464,     0.64565,     0.64665,     0.64765,\n           0.64865,     0.64965,     0.65065,     0.65165,     0.65265,     0.65365,     0.65465,     0.65566,     0.65666,     0.65766,     0.65866,     0.65966,     0.66066,     0.66166,     0.66266,     0.66366,     0.66466,     0.66567,     0.66667,     0.66767,     0.66867,     0.66967,     0.67067,     0.67167,\n           0.67267,     0.67367,     0.67467,     0.67568,     0.67668,     0.67768,     0.67868,     0.67968,     0.68068,     0.68168,     0.68268,     0.68368,     0.68468,     0.68569,     0.68669,     0.68769,     0.68869,     0.68969,     0.69069,     0.69169,     0.69269,     0.69369,     0.69469,      0.6957,\n            0.6967,      0.6977,      0.6987,      0.6997,      0.7007,      0.7017,      0.7027,      0.7037,      0.7047,     0.70571,     0.70671,     0.70771,     0.70871,     0.70971,     0.71071,     0.71171,     0.71271,     0.71371,     0.71471,     0.71572,     0.71672,     0.71772,     0.71872,     0.71972,\n           0.72072,     0.72172,     0.72272,     0.72372,     0.72472,     0.72573,     0.72673,     0.72773,     0.72873,     0.72973,     0.73073,     0.73173,     0.73273,     0.73373,     0.73473,     0.73574,     0.73674,     0.73774,     0.73874,     0.73974,     0.74074,     0.74174,     0.74274,     0.74374,\n           0.74474,     0.74575,     0.74675,     0.74775,     0.74875,     0.74975,     0.75075,     0.75175,     0.75275,     0.75375,     0.75475,     0.75576,     0.75676,     0.75776,     0.75876,     0.75976,     0.76076,     0.76176,     0.76276,     0.76376,     0.76476,     0.76577,     0.76677,     0.76777,\n           0.76877,     0.76977,     0.77077,     0.77177,     0.77277,     0.77377,     0.77477,     0.77578,     0.77678,     0.77778,     0.77878,     0.77978,     0.78078,     0.78178,     0.78278,     0.78378,     0.78478,     0.78579,     0.78679,     0.78779,     0.78879,     0.78979,     0.79079,     0.79179,\n           0.79279,     0.79379,     0.79479,      0.7958,      0.7968,      0.7978,      0.7988,      0.7998,      0.8008,      0.8018,      0.8028,      0.8038,      0.8048,     0.80581,     0.80681,     0.80781,     0.80881,     0.80981,     0.81081,     0.81181,     0.81281,     0.81381,     0.81481,     0.81582,\n           0.81682,     0.81782,     0.81882,     0.81982,     0.82082,     0.82182,     0.82282,     0.82382,     0.82482,     0.82583,     0.82683,     0.82783,     0.82883,     0.82983,     0.83083,     0.83183,     0.83283,     0.83383,     0.83483,     0.83584,     0.83684,     0.83784,     0.83884,     0.83984,\n           0.84084,     0.84184,     0.84284,     0.84384,     0.84484,     0.84585,     0.84685,     0.84785,     0.84885,     0.84985,     0.85085,     0.85185,     0.85285,     0.85385,     0.85485,     0.85586,     0.85686,     0.85786,     0.85886,     0.85986,     0.86086,     0.86186,     0.86286,     0.86386,\n           0.86486,     0.86587,     0.86687,     0.86787,     0.86887,     0.86987,     0.87087,     0.87187,     0.87287,     0.87387,     0.87487,     0.87588,     0.87688,     0.87788,     0.87888,     0.87988,     0.88088,     0.88188,     0.88288,     0.88388,     0.88488,     0.88589,     0.88689,     0.88789,\n           0.88889,     0.88989,     0.89089,     0.89189,     0.89289,     0.89389,     0.89489,      0.8959,      0.8969,      0.8979,      0.8989,      0.8999,      0.9009,      0.9019,      0.9029,      0.9039,      0.9049,     0.90591,     0.90691,     0.90791,     0.90891,     0.90991,     0.91091,     0.91191,\n           0.91291,     0.91391,     0.91491,     0.91592,     0.91692,     0.91792,     0.91892,     0.91992,     0.92092,     0.92192,     0.92292,     0.92392,     0.92492,     0.92593,     0.92693,     0.92793,     0.92893,     0.92993,     0.93093,     0.93193,     0.93293,     0.93393,     0.93493,     0.93594,\n           0.93694,     0.93794,     0.93894,     0.93994,     0.94094,     0.94194,     0.94294,     0.94394,     0.94494,     0.94595,     0.94695,     0.94795,     0.94895,     0.94995,     0.95095,     0.95195,     0.95295,     0.95395,     0.95495,     0.95596,     0.95696,     0.95796,     0.95896,     0.95996,\n           0.96096,     0.96196,     0.96296,     0.96396,     0.96496,     0.96597,     0.96697,     0.96797,     0.96897,     0.96997,     0.97097,     0.97197,     0.97297,     0.97397,     0.97497,     0.97598,     0.97698,     0.97798,     0.97898,     0.97998,     0.98098,     0.98198,     0.98298,     0.98398,\n           0.98498,     0.98599,     0.98699,     0.98799,     0.98899,     0.98999,     0.99099,     0.99199,     0.99299,     0.99399,     0.99499,       0.996,       0.997,       0.998,       0.999,           1]), array([[    0.46881,     0.46881,     0.56052,     0.61259,     0.64006,     0.65875,     0.67924,        0.69,     0.70104,     0.70889,     0.71539,     0.72206,     0.72581,     0.73269,     0.74118,     0.74203,     0.74673,     0.75321,     0.75566,     0.75812,     0.76304,     0.76473,     0.76638,\n            0.76809,     0.76981,     0.77145,     0.77148,     0.77151,     0.77234,     0.77406,     0.77494,     0.77922,     0.78274,     0.78443,      0.7845,     0.78709,     0.78797,     0.79072,     0.79247,     0.79336,     0.79514,      0.7952,     0.79696,       0.797,     0.79786,     0.79788,\n            0.79791,     0.79794,     0.79881,     0.79972,     0.80066,     0.80154,     0.80159,     0.80337,     0.80339,     0.80341,     0.80343,     0.80345,     0.80431,     0.80435,     0.80522,     0.80527,     0.80615,     0.80618,     0.80622,     0.80708,     0.80711,     0.80713,     0.80715,\n            0.80808,     0.80987,      0.8099,     0.80994,     0.81082,     0.81087,     0.81176,     0.81177,     0.81178,      0.8118,     0.81181,     0.81182,     0.81183,     0.81185,     0.81364,     0.81367,     0.81369,     0.81372,     0.81459,     0.81462,     0.81464,     0.81467,     0.81555,\n             0.8156,      0.8165,     0.81652,     0.81654,     0.81657,     0.81745,     0.81746,     0.81747,     0.81749,      0.8175,     0.81751,     0.81753,     0.81754,     0.81842,     0.81844,     0.81846,     0.81848,      0.8185,     0.81937,     0.81938,     0.81939,      0.8194,     0.81941,\n            0.81942,     0.81943,     0.81944,     0.81945,     0.82037,     0.82132,     0.82138,     0.82228,     0.82231,     0.82234,     0.82323,     0.82325,     0.82328,      0.8233,     0.82332,     0.82422,     0.82426,     0.82517,     0.82519,      0.8252,     0.82522,     0.82523,     0.82525,\n            0.82526,     0.82622,     0.82713,     0.82715,     0.82717,     0.82718,      0.8272,      0.8281,     0.82811,     0.82812,     0.82813,     0.82814,     0.82815,     0.82816,     0.82817,     0.82818,      0.8282,      0.8291,     0.82912,     0.82915,     0.82917,     0.83007,     0.83007,\n            0.83008,     0.83008,     0.83008,     0.83009,     0.83009,      0.8301,      0.8301,      0.8301,     0.83011,     0.83011,     0.83011,     0.83012,     0.83012,     0.83013,     0.83013,     0.83013,     0.83014,     0.83014,     0.83015,     0.83015,     0.83015,     0.83016,     0.83016,\n            0.83016,     0.83106,     0.83107,     0.83107,     0.83108,     0.83109,      0.8311,     0.83111,     0.83112,     0.83112,     0.83113,     0.83114,     0.83115,     0.83205,     0.83208,      0.8321,     0.83212,     0.83304,     0.83307,      0.8331,     0.83313,     0.83405,     0.83407,\n            0.83409,     0.83411,     0.83503,     0.83506,     0.83508,      0.8351,     0.83512,     0.83603,     0.83603,     0.83604,     0.83604,     0.83605,     0.83605,     0.83606,     0.83606,     0.83607,     0.83607,     0.83608,     0.83608,     0.83609,     0.83609,      0.8361,     0.83611,\n            0.83611,     0.83612,     0.83612,     0.83703,     0.83703,     0.83704,     0.83704,     0.83705,     0.83705,     0.83706,     0.83706,     0.83706,     0.83707,     0.83707,     0.83708,     0.83708,     0.83709,     0.83709,      0.8371,      0.8371,     0.83711,     0.83711,     0.83712,\n            0.83712,     0.83803,     0.83804,     0.83805,     0.83806,     0.83807,     0.83808,     0.83809,      0.8381,     0.83811,     0.83813,     0.83905,     0.83908,     0.83911,     0.83913,     0.84005,     0.84006,     0.84006,     0.84007,     0.84008,     0.84008,     0.84009,     0.84009,\n             0.8401,     0.84011,     0.84011,     0.84012,     0.84013,     0.84013,     0.84014,     0.84106,     0.84107,     0.84107,     0.84108,     0.84109,      0.8411,     0.84111,     0.84112,     0.84112,     0.84113,     0.84114,     0.84115,     0.84207,     0.84209,      0.8421,     0.84211,\n            0.84213,     0.84214,     0.84215,     0.84217,     0.84312,     0.84316,     0.84412,     0.84418,     0.84512,     0.84513,     0.84513,     0.84514,     0.84514,     0.84515,     0.84515,     0.84516,     0.84516,     0.84517,     0.84517,     0.84517,     0.84518,     0.84518,     0.84519,\n            0.84519,      0.8452,      0.8452,     0.84521,     0.84521,     0.84521,     0.84522,     0.84522,     0.84617,     0.84619,     0.84621,     0.84624,     0.84725,      0.8482,     0.84821,     0.84822,     0.84822,     0.84823,     0.84824,     0.84824,     0.84825,     0.84826,     0.84826,\n            0.84827,     0.84828,     0.84828,     0.84829,     0.84829,     0.84923,     0.84924,     0.84925,     0.84926,     0.84926,     0.84927,     0.84928,     0.84929,      0.8493,     0.84931,     0.84932,     0.84933,     0.85027,     0.85029,     0.85031,     0.85034,     0.85036,     0.85139,\n            0.85243,      0.8534,     0.85343,     0.85346,     0.85442,     0.85443,     0.85444,     0.85444,     0.85445,     0.85446,     0.85446,     0.85447,     0.85448,     0.85449,     0.85449,      0.8545,     0.85451,     0.85451,     0.85452,     0.85653,     0.85655,     0.85657,      0.8566,\n            0.85862,     0.85867,     0.85967,     0.85968,     0.85968,     0.85968,     0.85968,     0.85969,     0.85969,     0.85969,      0.8597,      0.8597,      0.8597,     0.85971,     0.85971,     0.85971,     0.85971,     0.85972,     0.85972,     0.85972,     0.85973,     0.85973,     0.85973,\n            0.85974,     0.85974,     0.85974,     0.85974,     0.85975,     0.85975,     0.85975,     0.85976,     0.85976,     0.85976,     0.85976,     0.85977,     0.85977,     0.85977,     0.85978,      0.8618,     0.86183,     0.86185,     0.86188,     0.86289,     0.86394,     0.86401,       0.865,\n            0.86501,     0.86502,     0.86504,     0.86505,     0.86506,     0.86507,     0.86509,      0.8651,     0.86607,     0.86608,     0.86609,      0.8661,     0.86611,     0.86612,     0.86613,     0.86614,     0.86615,     0.86616,     0.86617,     0.86715,     0.86718,      0.8672,     0.86723,\n            0.86931,     0.86934,     0.86936,     0.86939,     0.87044,     0.87147,     0.87148,     0.87148,     0.87149,      0.8715,     0.87151,     0.87152,     0.87152,     0.87153,     0.87154,     0.87155,     0.87155,     0.87156,     0.87157,     0.87257,     0.87259,     0.87262,     0.87264,\n            0.87364,     0.87365,     0.87366,     0.87367,     0.87368,     0.87369,      0.8737,     0.87371,     0.87372,     0.87373,     0.87373,     0.87374,     0.87474,     0.87474,     0.87475,     0.87476,     0.87476,     0.87477,     0.87478,     0.87479,     0.87479,      0.8748,     0.87481,\n            0.87481,     0.87482,     0.87483,     0.87483,     0.87484,     0.87583,     0.87584,     0.87585,     0.87585,     0.87586,     0.87586,     0.87587,     0.87587,     0.87588,     0.87589,     0.87589,      0.8759,      0.8759,     0.87591,     0.87591,     0.87592,     0.87592,     0.87593,\n            0.87594,     0.87693,     0.87696,     0.87698,       0.877,     0.87702,     0.87804,     0.87805,     0.87807,     0.87808,      0.8781,     0.87812,     0.87813,     0.87914,     0.87915,     0.87916,     0.87917,     0.87918,     0.87919,      0.8792,     0.87921,     0.87922,     0.87922,\n            0.87923,     0.87924,     0.88025,     0.88026,     0.88026,     0.88027,     0.88028,     0.88029,      0.8803,      0.8803,     0.88031,     0.88032,     0.88033,     0.88033,     0.88034,     0.88035,     0.88139,     0.88145,     0.88247,     0.88248,     0.88249,      0.8825,     0.88251,\n            0.88252,     0.88253,     0.88254,     0.88255,     0.88256,     0.88257,     0.88358,     0.88366,     0.88471,     0.88473,     0.88475,     0.88477,     0.88479,      0.8848,     0.88584,     0.88587,      0.8859,     0.88593,     0.88695,     0.88696,     0.88697,     0.88698,     0.88699,\n              0.887,     0.88701,     0.88702,     0.88703,     0.88704,     0.88705,     0.88808,      0.8881,     0.88812,     0.88815,     0.88817,     0.89034,     0.89035,     0.89037,     0.89039,      0.8904,     0.89042,     0.89044,      0.8915,     0.89158,     0.89263,     0.89266,     0.89269,\n            0.89375,     0.89375,     0.89376,     0.89376,     0.89377,     0.89377,     0.89378,     0.89378,     0.89379,     0.89379,      0.8938,      0.8938,     0.89381,     0.89381,     0.89382,     0.89382,     0.89383,     0.89383,     0.89384,     0.89384,     0.89385,     0.89385,     0.89386,\n            0.89386,     0.89491,     0.89493,     0.89495,     0.89497,     0.89499,     0.89607,     0.89834,     0.89835,     0.89835,     0.89836,     0.89836,     0.89837,     0.89837,     0.89838,     0.89838,     0.89839,      0.8984,      0.8984,     0.89841,     0.89841,     0.89842,     0.89842,\n            0.89843,     0.89843,     0.89844,     0.89844,     0.89845,     0.89845,     0.89846,      0.8996,     0.90067,     0.90068,      0.9007,     0.90071,     0.90073,     0.90074,     0.90076,     0.90066,     0.90066,     0.90066,     0.90066,     0.90066,     0.90065,     0.90065,     0.90065,\n            0.90065,     0.90065,     0.90065,     0.90065,     0.90065,     0.90065,     0.90065,     0.90065,     0.90065,     0.90065,     0.90065,     0.90169,      0.9017,     0.90171,     0.90172,     0.90173,     0.90174,     0.90174,     0.90175,     0.90176,     0.90177,     0.90178,     0.90179,\n            0.90179,      0.9018,     0.90287,     0.90288,      0.9029,     0.90292,     0.90294,     0.90296,     0.90403,     0.90404,     0.90405,     0.90406,     0.90407,     0.90408,     0.90409,      0.9041,     0.90412,     0.90413,     0.90414,     0.90403,     0.90403,     0.90402,     0.90402,\n            0.90509,      0.9051,     0.90511,     0.90512,     0.90513,     0.90514,     0.90516,     0.90517,     0.90518,     0.90519,     0.90508,     0.90508,     0.90508,     0.90508,     0.90508,     0.90508,     0.90508,     0.90508,     0.90508,     0.90508,     0.90508,     0.90508,     0.90508,\n            0.90508,     0.90507,     0.90507,     0.90507,     0.90507,     0.90507,     0.90507,     0.90615,     0.90618,      0.9062,     0.90623,     0.90614,     0.90613,     0.90613,      0.9072,     0.90722,     0.90724,     0.90725,     0.90727,     0.90729,     0.90731,     0.90842,     0.90846,\n            0.90957,     0.90965,      0.9108,     0.91086,     0.91184,     0.91188,     0.91191,     0.91195,     0.91425,     0.91429,     0.91432,     0.91436,     0.91425,     0.91425,     0.91537,      0.9154,     0.91544,     0.91659,     0.91657,     0.91765,      0.9177,     0.91775,     0.91767,\n            0.91756,     0.91756,     0.91756,     0.91756,     0.91755,      0.9185,     0.91835,     0.91824,     0.91824,     0.91823,     0.91812,     0.91917,     0.91915,     0.91914,     0.91914,     0.92131,     0.92121,     0.92203,     0.92182,     0.92303,     0.92277,     0.92393,     0.92383,\n            0.92372,      0.9249,     0.92609,     0.92577,     0.92567,     0.93065,     0.93199,     0.93153,      0.9337,     0.93597,     0.93586,     0.93833,     0.93909,     0.93854,     0.94199,     0.94433,      0.9454,     0.94796,     0.94771,     0.95017,     0.95293,     0.95254,     0.95485,\n             0.9624,     0.96322,      0.9629,     0.96547,     0.96636,     0.97287,      0.9764,     0.98379,     0.98323,     0.98211,     0.98136,     0.98285,     0.98224,     0.98187,     0.98129,      0.9832,     0.98241,     0.98046,     0.97946,      0.9785,      0.9777,     0.97666,     0.97917,\n            0.98238,     0.98113,     0.97928,     0.97701,     0.97546,     0.97241,     0.96802,     0.98132,      0.9794,     0.97851,     0.98782,     0.98573,     0.98335,     0.98079,     0.98002,     0.97875,     0.97441,     0.97225,     0.96556,           1,           1,           1,           1,\n                  1,           1,           1,           1,           1,           1,           1,           1,           1,           1,           1,           1,           1,           1,           1,           1,           1,           1,           1,           1,           1,           1,           1,\n                  1,           1,           1,           1,           1,           1,           1,           1,           1,           1,           1,           1,           1,           1,           1,           1,           1,           1,           1,           1,           1,           1,           1,\n                  1,           1,           1,           1,           1,           1,           1,           1,           1,           1,           1,           1,           1,           1,           1,           1,           1,           1,           1,           1,           1,           1,           1,\n                  1,           1,           1,           1,           1,           1,           1,           1,           1,           1,           1,           1,           1,           1,           1,           1,           1,           1,           1,           1,           1,           1,           1,\n                  1,           1,           1,           1,           1,           1,           1,           1,           1,           1,           1]]), 'Confidence', 'Precision'], [array([          0,    0.001001,    0.002002,    0.003003,    0.004004,    0.005005,    0.006006,    0.007007,    0.008008,    0.009009,     0.01001,    0.011011,    0.012012,    0.013013,    0.014014,    0.015015,    0.016016,    0.017017,    0.018018,    0.019019,     0.02002,    0.021021,    0.022022,    0.023023,\n          0.024024,    0.025025,    0.026026,    0.027027,    0.028028,    0.029029,     0.03003,    0.031031,    0.032032,    0.033033,    0.034034,    0.035035,    0.036036,    0.037037,    0.038038,    0.039039,     0.04004,    0.041041,    0.042042,    0.043043,    0.044044,    0.045045,    0.046046,    0.047047,\n          0.048048,    0.049049,     0.05005,    0.051051,    0.052052,    0.053053,    0.054054,    0.055055,    0.056056,    0.057057,    0.058058,    0.059059,     0.06006,    0.061061,    0.062062,    0.063063,    0.064064,    0.065065,    0.066066,    0.067067,    0.068068,    0.069069,     0.07007,    0.071071,\n          0.072072,    0.073073,    0.074074,    0.075075,    0.076076,    0.077077,    0.078078,    0.079079,     0.08008,    0.081081,    0.082082,    0.083083,    0.084084,    0.085085,    0.086086,    0.087087,    0.088088,    0.089089,     0.09009,    0.091091,    0.092092,    0.093093,    0.094094,    0.095095,\n          0.096096,    0.097097,    0.098098,    0.099099,      0.1001,      0.1011,      0.1021,      0.1031,      0.1041,     0.10511,     0.10611,     0.10711,     0.10811,     0.10911,     0.11011,     0.11111,     0.11211,     0.11311,     0.11411,     0.11512,     0.11612,     0.11712,     0.11812,     0.11912,\n           0.12012,     0.12112,     0.12212,     0.12312,     0.12412,     0.12513,     0.12613,     0.12713,     0.12813,     0.12913,     0.13013,     0.13113,     0.13213,     0.13313,     0.13413,     0.13514,     0.13614,     0.13714,     0.13814,     0.13914,     0.14014,     0.14114,     0.14214,     0.14314,\n           0.14414,     0.14515,     0.14615,     0.14715,     0.14815,     0.14915,     0.15015,     0.15115,     0.15215,     0.15315,     0.15415,     0.15516,     0.15616,     0.15716,     0.15816,     0.15916,     0.16016,     0.16116,     0.16216,     0.16316,     0.16416,     0.16517,     0.16617,     0.16717,\n           0.16817,     0.16917,     0.17017,     0.17117,     0.17217,     0.17317,     0.17417,     0.17518,     0.17618,     0.17718,     0.17818,     0.17918,     0.18018,     0.18118,     0.18218,     0.18318,     0.18418,     0.18519,     0.18619,     0.18719,     0.18819,     0.18919,     0.19019,     0.19119,\n           0.19219,     0.19319,     0.19419,      0.1952,      0.1962,      0.1972,      0.1982,      0.1992,      0.2002,      0.2012,      0.2022,      0.2032,      0.2042,     0.20521,     0.20621,     0.20721,     0.20821,     0.20921,     0.21021,     0.21121,     0.21221,     0.21321,     0.21421,     0.21522,\n           0.21622,     0.21722,     0.21822,     0.21922,     0.22022,     0.22122,     0.22222,     0.22322,     0.22422,     0.22523,     0.22623,     0.22723,     0.22823,     0.22923,     0.23023,     0.23123,     0.23223,     0.23323,     0.23423,     0.23524,     0.23624,     0.23724,     0.23824,     0.23924,\n           0.24024,     0.24124,     0.24224,     0.24324,     0.24424,     0.24525,     0.24625,     0.24725,     0.24825,     0.24925,     0.25025,     0.25125,     0.25225,     0.25325,     0.25425,     0.25526,     0.25626,     0.25726,     0.25826,     0.25926,     0.26026,     0.26126,     0.26226,     0.26326,\n           0.26426,     0.26527,     0.26627,     0.26727,     0.26827,     0.26927,     0.27027,     0.27127,     0.27227,     0.27327,     0.27427,     0.27528,     0.27628,     0.27728,     0.27828,     0.27928,     0.28028,     0.28128,     0.28228,     0.28328,     0.28428,     0.28529,     0.28629,     0.28729,\n           0.28829,     0.28929,     0.29029,     0.29129,     0.29229,     0.29329,     0.29429,      0.2953,      0.2963,      0.2973,      0.2983,      0.2993,      0.3003,      0.3013,      0.3023,      0.3033,      0.3043,     0.30531,     0.30631,     0.30731,     0.30831,     0.30931,     0.31031,     0.31131,\n           0.31231,     0.31331,     0.31431,     0.31532,     0.31632,     0.31732,     0.31832,     0.31932,     0.32032,     0.32132,     0.32232,     0.32332,     0.32432,     0.32533,     0.32633,     0.32733,     0.32833,     0.32933,     0.33033,     0.33133,     0.33233,     0.33333,     0.33433,     0.33534,\n           0.33634,     0.33734,     0.33834,     0.33934,     0.34034,     0.34134,     0.34234,     0.34334,     0.34434,     0.34535,     0.34635,     0.34735,     0.34835,     0.34935,     0.35035,     0.35135,     0.35235,     0.35335,     0.35435,     0.35536,     0.35636,     0.35736,     0.35836,     0.35936,\n           0.36036,     0.36136,     0.36236,     0.36336,     0.36436,     0.36537,     0.36637,     0.36737,     0.36837,     0.36937,     0.37037,     0.37137,     0.37237,     0.37337,     0.37437,     0.37538,     0.37638,     0.37738,     0.37838,     0.37938,     0.38038,     0.38138,     0.38238,     0.38338,\n           0.38438,     0.38539,     0.38639,     0.38739,     0.38839,     0.38939,     0.39039,     0.39139,     0.39239,     0.39339,     0.39439,      0.3954,      0.3964,      0.3974,      0.3984,      0.3994,      0.4004,      0.4014,      0.4024,      0.4034,      0.4044,     0.40541,     0.40641,     0.40741,\n           0.40841,     0.40941,     0.41041,     0.41141,     0.41241,     0.41341,     0.41441,     0.41542,     0.41642,     0.41742,     0.41842,     0.41942,     0.42042,     0.42142,     0.42242,     0.42342,     0.42442,     0.42543,     0.42643,     0.42743,     0.42843,     0.42943,     0.43043,     0.43143,\n           0.43243,     0.43343,     0.43443,     0.43544,     0.43644,     0.43744,     0.43844,     0.43944,     0.44044,     0.44144,     0.44244,     0.44344,     0.44444,     0.44545,     0.44645,     0.44745,     0.44845,     0.44945,     0.45045,     0.45145,     0.45245,     0.45345,     0.45445,     0.45546,\n           0.45646,     0.45746,     0.45846,     0.45946,     0.46046,     0.46146,     0.46246,     0.46346,     0.46446,     0.46547,     0.46647,     0.46747,     0.46847,     0.46947,     0.47047,     0.47147,     0.47247,     0.47347,     0.47447,     0.47548,     0.47648,     0.47748,     0.47848,     0.47948,\n           0.48048,     0.48148,     0.48248,     0.48348,     0.48448,     0.48549,     0.48649,     0.48749,     0.48849,     0.48949,     0.49049,     0.49149,     0.49249,     0.49349,     0.49449,      0.4955,      0.4965,      0.4975,      0.4985,      0.4995,      0.5005,      0.5015,      0.5025,      0.5035,\n            0.5045,     0.50551,     0.50651,     0.50751,     0.50851,     0.50951,     0.51051,     0.51151,     0.51251,     0.51351,     0.51451,     0.51552,     0.51652,     0.51752,     0.51852,     0.51952,     0.52052,     0.52152,     0.52252,     0.52352,     0.52452,     0.52553,     0.52653,     0.52753,\n           0.52853,     0.52953,     0.53053,     0.53153,     0.53253,     0.53353,     0.53453,     0.53554,     0.53654,     0.53754,     0.53854,     0.53954,     0.54054,     0.54154,     0.54254,     0.54354,     0.54454,     0.54555,     0.54655,     0.54755,     0.54855,     0.54955,     0.55055,     0.55155,\n           0.55255,     0.55355,     0.55455,     0.55556,     0.55656,     0.55756,     0.55856,     0.55956,     0.56056,     0.56156,     0.56256,     0.56356,     0.56456,     0.56557,     0.56657,     0.56757,     0.56857,     0.56957,     0.57057,     0.57157,     0.57257,     0.57357,     0.57457,     0.57558,\n           0.57658,     0.57758,     0.57858,     0.57958,     0.58058,     0.58158,     0.58258,     0.58358,     0.58458,     0.58559,     0.58659,     0.58759,     0.58859,     0.58959,     0.59059,     0.59159,     0.59259,     0.59359,     0.59459,      0.5956,      0.5966,      0.5976,      0.5986,      0.5996,\n            0.6006,      0.6016,      0.6026,      0.6036,      0.6046,     0.60561,     0.60661,     0.60761,     0.60861,     0.60961,     0.61061,     0.61161,     0.61261,     0.61361,     0.61461,     0.61562,     0.61662,     0.61762,     0.61862,     0.61962,     0.62062,     0.62162,     0.62262,     0.62362,\n           0.62462,     0.62563,     0.62663,     0.62763,     0.62863,     0.62963,     0.63063,     0.63163,     0.63263,     0.63363,     0.63463,     0.63564,     0.63664,     0.63764,     0.63864,     0.63964,     0.64064,     0.64164,     0.64264,     0.64364,     0.64464,     0.64565,     0.64665,     0.64765,\n           0.64865,     0.64965,     0.65065,     0.65165,     0.65265,     0.65365,     0.65465,     0.65566,     0.65666,     0.65766,     0.65866,     0.65966,     0.66066,     0.66166,     0.66266,     0.66366,     0.66466,     0.66567,     0.66667,     0.66767,     0.66867,     0.66967,     0.67067,     0.67167,\n           0.67267,     0.67367,     0.67467,     0.67568,     0.67668,     0.67768,     0.67868,     0.67968,     0.68068,     0.68168,     0.68268,     0.68368,     0.68468,     0.68569,     0.68669,     0.68769,     0.68869,     0.68969,     0.69069,     0.69169,     0.69269,     0.69369,     0.69469,      0.6957,\n            0.6967,      0.6977,      0.6987,      0.6997,      0.7007,      0.7017,      0.7027,      0.7037,      0.7047,     0.70571,     0.70671,     0.70771,     0.70871,     0.70971,     0.71071,     0.71171,     0.71271,     0.71371,     0.71471,     0.71572,     0.71672,     0.71772,     0.71872,     0.71972,\n           0.72072,     0.72172,     0.72272,     0.72372,     0.72472,     0.72573,     0.72673,     0.72773,     0.72873,     0.72973,     0.73073,     0.73173,     0.73273,     0.73373,     0.73473,     0.73574,     0.73674,     0.73774,     0.73874,     0.73974,     0.74074,     0.74174,     0.74274,     0.74374,\n           0.74474,     0.74575,     0.74675,     0.74775,     0.74875,     0.74975,     0.75075,     0.75175,     0.75275,     0.75375,     0.75475,     0.75576,     0.75676,     0.75776,     0.75876,     0.75976,     0.76076,     0.76176,     0.76276,     0.76376,     0.76476,     0.76577,     0.76677,     0.76777,\n           0.76877,     0.76977,     0.77077,     0.77177,     0.77277,     0.77377,     0.77477,     0.77578,     0.77678,     0.77778,     0.77878,     0.77978,     0.78078,     0.78178,     0.78278,     0.78378,     0.78478,     0.78579,     0.78679,     0.78779,     0.78879,     0.78979,     0.79079,     0.79179,\n           0.79279,     0.79379,     0.79479,      0.7958,      0.7968,      0.7978,      0.7988,      0.7998,      0.8008,      0.8018,      0.8028,      0.8038,      0.8048,     0.80581,     0.80681,     0.80781,     0.80881,     0.80981,     0.81081,     0.81181,     0.81281,     0.81381,     0.81481,     0.81582,\n           0.81682,     0.81782,     0.81882,     0.81982,     0.82082,     0.82182,     0.82282,     0.82382,     0.82482,     0.82583,     0.82683,     0.82783,     0.82883,     0.82983,     0.83083,     0.83183,     0.83283,     0.83383,     0.83483,     0.83584,     0.83684,     0.83784,     0.83884,     0.83984,\n           0.84084,     0.84184,     0.84284,     0.84384,     0.84484,     0.84585,     0.84685,     0.84785,     0.84885,     0.84985,     0.85085,     0.85185,     0.85285,     0.85385,     0.85485,     0.85586,     0.85686,     0.85786,     0.85886,     0.85986,     0.86086,     0.86186,     0.86286,     0.86386,\n           0.86486,     0.86587,     0.86687,     0.86787,     0.86887,     0.86987,     0.87087,     0.87187,     0.87287,     0.87387,     0.87487,     0.87588,     0.87688,     0.87788,     0.87888,     0.87988,     0.88088,     0.88188,     0.88288,     0.88388,     0.88488,     0.88589,     0.88689,     0.88789,\n           0.88889,     0.88989,     0.89089,     0.89189,     0.89289,     0.89389,     0.89489,      0.8959,      0.8969,      0.8979,      0.8989,      0.8999,      0.9009,      0.9019,      0.9029,      0.9039,      0.9049,     0.90591,     0.90691,     0.90791,     0.90891,     0.90991,     0.91091,     0.91191,\n           0.91291,     0.91391,     0.91491,     0.91592,     0.91692,     0.91792,     0.91892,     0.91992,     0.92092,     0.92192,     0.92292,     0.92392,     0.92492,     0.92593,     0.92693,     0.92793,     0.92893,     0.92993,     0.93093,     0.93193,     0.93293,     0.93393,     0.93493,     0.93594,\n           0.93694,     0.93794,     0.93894,     0.93994,     0.94094,     0.94194,     0.94294,     0.94394,     0.94494,     0.94595,     0.94695,     0.94795,     0.94895,     0.94995,     0.95095,     0.95195,     0.95295,     0.95395,     0.95495,     0.95596,     0.95696,     0.95796,     0.95896,     0.95996,\n           0.96096,     0.96196,     0.96296,     0.96396,     0.96496,     0.96597,     0.96697,     0.96797,     0.96897,     0.96997,     0.97097,     0.97197,     0.97297,     0.97397,     0.97497,     0.97598,     0.97698,     0.97798,     0.97898,     0.97998,     0.98098,     0.98198,     0.98298,     0.98398,\n           0.98498,     0.98599,     0.98699,     0.98799,     0.98899,     0.98999,     0.99099,     0.99199,     0.99299,     0.99399,     0.99499,       0.996,       0.997,       0.998,       0.999,           1]), array([[    0.99431,     0.99431,     0.99431,     0.99431,     0.99431,     0.99431,     0.99431,     0.99431,     0.99431,     0.99431,     0.99431,     0.99431,     0.99431,     0.99431,     0.99431,     0.99431,     0.99431,     0.99431,     0.99431,     0.99431,     0.99431,     0.99431,     0.99431,\n            0.99431,     0.99431,     0.99431,     0.99431,     0.99431,     0.99431,     0.99431,     0.99431,     0.99431,     0.99431,     0.99431,     0.99431,     0.99431,     0.99431,     0.99431,     0.99431,     0.99431,     0.99431,     0.99431,     0.99431,     0.99431,     0.99431,     0.99431,\n            0.99431,     0.99431,     0.99431,     0.99431,     0.99431,     0.99431,     0.99431,     0.99431,     0.99431,     0.99431,     0.99431,     0.99431,     0.99431,     0.99431,     0.99431,     0.99431,     0.99431,     0.99431,     0.99431,     0.99431,     0.99431,     0.99431,     0.99431,\n            0.99431,     0.99431,     0.99431,     0.99431,     0.99431,     0.99431,     0.99431,     0.99431,     0.99431,     0.99431,     0.99431,     0.99431,     0.99431,     0.99431,     0.99431,     0.99431,     0.99431,     0.99431,     0.99431,     0.99431,     0.99431,     0.99431,     0.99431,\n            0.99431,     0.99431,     0.99431,     0.99431,     0.99431,     0.99431,     0.99431,     0.99431,     0.99431,     0.99431,     0.99431,     0.99431,     0.99431,     0.99431,     0.99431,     0.99431,     0.99431,     0.99431,     0.99431,     0.99431,     0.99431,     0.99431,     0.99431,\n            0.99431,     0.99431,     0.99431,     0.99431,     0.99431,     0.99431,     0.99431,     0.99431,     0.99431,     0.99431,     0.99431,     0.99431,     0.99431,     0.99431,     0.99431,     0.99431,     0.99431,     0.99431,     0.99431,     0.99431,     0.99431,     0.99431,     0.99431,\n            0.99431,     0.99431,     0.99431,     0.99431,     0.99431,     0.99431,     0.99431,     0.99431,     0.99431,     0.99431,     0.99431,     0.99431,     0.99431,     0.99431,     0.99431,     0.99431,     0.99431,     0.99431,     0.99431,     0.99431,     0.99431,     0.99431,     0.99431,\n            0.99431,     0.99431,     0.99431,     0.99431,     0.99431,     0.99431,     0.99431,     0.99431,     0.99431,     0.99431,     0.99431,     0.99431,     0.99431,     0.99431,     0.99431,     0.99431,     0.99431,     0.99431,     0.99431,     0.99431,     0.99431,     0.99431,     0.99431,\n            0.99431,     0.99431,     0.99431,     0.99431,     0.99431,     0.99431,     0.99431,     0.99431,     0.99431,     0.99431,     0.99431,     0.99431,     0.99431,     0.99431,     0.99431,     0.99431,     0.99431,     0.99431,     0.99431,     0.99431,     0.99431,     0.99431,     0.99431,\n            0.99431,     0.99431,     0.99431,     0.99431,     0.99431,     0.99431,     0.99431,     0.99431,     0.99431,     0.99431,     0.99431,     0.99431,     0.99431,     0.99431,     0.99431,     0.99431,     0.99431,     0.99431,     0.99431,     0.99431,     0.99431,     0.99431,     0.99431,\n            0.99431,     0.99431,     0.99431,     0.99431,     0.99431,     0.99431,     0.99431,     0.99431,     0.99431,     0.99431,     0.99431,     0.99431,     0.99431,     0.99431,     0.99431,     0.99431,     0.99431,     0.99431,     0.99431,     0.99431,     0.99431,     0.99431,     0.99431,\n            0.99431,     0.99431,     0.99431,     0.99431,     0.99431,     0.99431,     0.99431,     0.99431,     0.99431,     0.99431,     0.99431,     0.99431,     0.99431,     0.99431,     0.99431,     0.99431,     0.99431,     0.99431,     0.99431,     0.99431,     0.99431,     0.99431,     0.99431,\n            0.99431,     0.99431,     0.99431,     0.99431,     0.99431,     0.99431,     0.99431,     0.99431,     0.99431,     0.99431,     0.99431,     0.99431,     0.99431,     0.99431,     0.99431,     0.99431,     0.99431,     0.99431,     0.99431,     0.99431,     0.99431,     0.99431,     0.99431,\n            0.99431,     0.99431,     0.99431,     0.99431,     0.99431,     0.99431,     0.99431,     0.99431,     0.99431,     0.99431,     0.99431,     0.99431,     0.99431,     0.99431,     0.99431,     0.99431,     0.99431,     0.99431,     0.99431,     0.99431,     0.99431,     0.99431,     0.99431,\n            0.99431,     0.99431,     0.99431,     0.99431,     0.99431,     0.99431,     0.99431,     0.99431,     0.99431,     0.99431,     0.99431,     0.99431,     0.99431,     0.99431,     0.99431,     0.99431,     0.99431,     0.99431,     0.99431,     0.99431,     0.99431,     0.99431,     0.99431,\n            0.99431,     0.99431,     0.99431,     0.99431,     0.99431,     0.99431,     0.99431,     0.99431,     0.99431,     0.99431,     0.99431,     0.99431,     0.99431,     0.99431,     0.99431,     0.99431,     0.99431,     0.99431,     0.99431,     0.99431,     0.99431,     0.99431,     0.99431,\n            0.99431,     0.99431,     0.99431,     0.99431,     0.99431,     0.99431,     0.99431,     0.99431,     0.99431,     0.99431,     0.99431,     0.99431,     0.99431,     0.99431,     0.99431,     0.99431,     0.99431,     0.99431,     0.99431,     0.99431,     0.99431,     0.99431,     0.99431,\n            0.99431,     0.99431,     0.99431,     0.99431,     0.99431,     0.99431,     0.99431,     0.99431,     0.99431,     0.99431,     0.99431,     0.99431,     0.99431,     0.99431,     0.99431,     0.99431,     0.99431,     0.99431,     0.99431,     0.99431,     0.99431,     0.99431,     0.99431,\n            0.99431,     0.99431,     0.99431,     0.99431,     0.99431,     0.99431,     0.99431,     0.99431,     0.99431,     0.99431,     0.99431,     0.99431,     0.99431,     0.99431,     0.99431,     0.99431,     0.99431,     0.99431,     0.99431,     0.99431,     0.99431,     0.99431,     0.99431,\n            0.99431,     0.99431,     0.99431,     0.99431,     0.99431,     0.99431,     0.99431,     0.99431,     0.99431,     0.99431,     0.99431,     0.99431,     0.99431,     0.99431,     0.99431,     0.99431,     0.99431,     0.99431,     0.99431,     0.99431,     0.99431,     0.99431,     0.99431,\n            0.99431,     0.99431,     0.99431,     0.99431,     0.99431,     0.99431,     0.99431,     0.99431,     0.99431,     0.99431,     0.99431,     0.99431,     0.99431,     0.99431,     0.99431,     0.99431,     0.99431,     0.99431,     0.99431,     0.99431,     0.99431,     0.99431,     0.99431,\n            0.99431,     0.99431,     0.99431,     0.99431,     0.99431,     0.99431,     0.99431,     0.99431,     0.99431,     0.99431,     0.99431,     0.99431,     0.99431,     0.99431,     0.99431,     0.99431,     0.99431,     0.99431,     0.99431,     0.99431,     0.99431,     0.99431,     0.99431,\n            0.99431,     0.99431,     0.99431,     0.99431,     0.99431,     0.99431,     0.99431,     0.99431,     0.99431,     0.99431,     0.99431,     0.99431,     0.99431,     0.99431,     0.99431,     0.99431,     0.99431,     0.99431,     0.99431,     0.99431,     0.99431,     0.99431,     0.99431,\n            0.99431,     0.99431,     0.99431,     0.99431,     0.99431,     0.99431,     0.99431,     0.99431,     0.99431,     0.99431,     0.99431,     0.99431,     0.99431,     0.99431,     0.99431,     0.99431,     0.99431,     0.99431,     0.99431,     0.99431,     0.99431,     0.99431,     0.99431,\n            0.99431,     0.99431,     0.99431,     0.99431,     0.99431,     0.99431,     0.99431,     0.99431,     0.99431,     0.99431,     0.99431,     0.99431,     0.99431,     0.99431,     0.99431,     0.99431,     0.99431,     0.99431,     0.99431,     0.99431,     0.99431,     0.99431,     0.99431,\n            0.99431,     0.99431,     0.99431,     0.99431,     0.99431,     0.99431,     0.99431,     0.99431,     0.99431,     0.99431,     0.99431,     0.99431,     0.99431,     0.99431,     0.99431,     0.99431,     0.99431,     0.99431,     0.99431,     0.99431,     0.99431,     0.99431,     0.99431,\n            0.99431,     0.99431,     0.99431,     0.99431,     0.99431,     0.99431,     0.99431,     0.99431,     0.99431,     0.99431,     0.99431,     0.99431,     0.99431,     0.99431,     0.99431,     0.99431,     0.99431,     0.99431,     0.99431,     0.99431,     0.99431,     0.99431,     0.99431,\n            0.99431,     0.99431,     0.99431,     0.99431,     0.99431,     0.99431,     0.99431,     0.99431,     0.99431,     0.99431,     0.99431,     0.99431,     0.99431,     0.99431,     0.99431,     0.99431,     0.99431,     0.99431,     0.99431,     0.99431,     0.99431,     0.99431,     0.99431,\n            0.99431,     0.99431,     0.99431,     0.99431,     0.99431,     0.99431,     0.99431,     0.99431,     0.99431,     0.99431,     0.99431,     0.99431,     0.99431,     0.99431,     0.99431,     0.99431,     0.99431,     0.99431,     0.99431,     0.99431,     0.99431,     0.99431,     0.99431,\n            0.99431,     0.99431,     0.99431,     0.99431,     0.99431,     0.99431,     0.99431,     0.99431,     0.99431,     0.99431,     0.99431,     0.99431,     0.99431,     0.99431,     0.99431,     0.99303,     0.99302,     0.99301,     0.99301,       0.993,     0.99299,     0.99298,     0.99298,\n            0.99297,     0.99296,     0.99295,     0.99295,     0.99294,     0.99293,     0.99292,     0.99292,     0.99291,      0.9929,     0.99289,     0.99289,     0.99289,     0.99289,     0.99289,     0.99289,     0.99289,     0.99289,     0.99289,     0.99289,     0.99289,     0.99289,     0.99289,\n            0.99289,     0.99289,     0.99289,     0.99289,     0.99289,     0.99289,     0.99289,     0.99289,     0.99289,     0.99289,     0.99289,     0.99289,     0.99289,     0.99289,     0.99289,     0.99289,     0.99289,     0.99289,     0.99289,     0.99159,     0.99155,     0.99151,     0.99147,\n            0.99147,     0.99147,     0.99147,     0.99147,     0.99147,     0.99147,     0.99147,     0.99147,     0.99147,     0.99147,     0.99018,     0.99017,     0.99017,     0.99016,     0.99015,     0.99014,     0.99014,     0.99013,     0.99012,     0.99012,     0.99011,      0.9901,     0.99009,\n            0.99009,     0.99008,     0.99007,     0.99007,     0.99006,     0.99005,     0.99005,     0.99004,     0.99004,     0.99004,     0.99004,     0.98875,      0.9887,     0.98865,     0.98862,     0.98862,     0.98862,     0.98862,     0.98862,     0.98862,     0.98862,     0.98862,     0.98862,\n            0.98862,     0.98862,     0.98862,     0.98862,      0.9872,      0.9872,      0.9872,      0.9872,      0.9872,      0.9872,      0.9872,      0.9872,     0.98586,     0.98578,     0.98578,     0.98578,     0.98578,     0.98578,     0.98449,     0.98435,     0.98435,     0.98435,     0.98298,\n            0.98163,      0.9816,     0.98157,     0.98154,     0.98152,     0.97866,     0.97592,     0.97452,     0.97447,     0.97443,       0.973,     0.97155,     0.97024,     0.97019,     0.97013,       0.966,     0.96457,     0.95887,     0.95596,      0.9559,     0.95176,     0.95164,     0.94891,\n            0.94745,     0.94602,     0.94459,     0.94029,      0.9389,     0.93599,     0.93599,     0.92891,     0.92176,     0.91607,     0.91324,     0.90896,     0.89914,      0.8906,     0.87779,     0.87055,     0.86213,     0.85503,     0.85073,     0.84077,     0.83507,     0.82795,      0.8123,\n            0.80091,     0.78241,     0.77529,     0.75676,     0.73545,      0.7141,     0.70697,     0.69132,     0.66714,      0.6246,     0.59899,     0.57053,     0.55061,     0.53923,     0.52215,     0.49938,     0.47662,     0.42824,      0.4069,      0.3884,     0.37417,     0.35709,     0.33433,\n            0.31725,      0.2959,     0.26887,     0.24184,     0.22618,     0.20057,     0.17226,     0.14949,     0.13526,     0.12956,     0.11533,    0.098251,    0.084019,    0.072632,     0.06978,    0.065506,    0.054158,    0.049844,     0.03988,    0.038429,    0.035598,     0.03138,    0.028472,\n           0.024197,      0.0185,     0.01707,    0.015693,    0.011444,   0.0072495,   0.0071766,   0.0057973,   0.0043483,   0.0029381,   0.0015585,   0.0015494,   0.0015403,   0.0015312,   0.0015221,    0.001513,   0.0015038,   0.0014947,   0.0014856,   0.0014765,   0.0014674,   0.0014583,   0.0014492,\n          0.0014401,   0.0014309,           0,           0,           0,           0,           0,           0,           0,           0,           0,           0,           0,           0,           0,           0,           0,           0,           0,           0,           0,           0,           0,\n                  0,           0,           0,           0,           0,           0,           0,           0,           0,           0,           0,           0,           0,           0,           0,           0,           0,           0,           0,           0,           0,           0,           0,\n                  0,           0,           0,           0,           0,           0,           0,           0,           0,           0,           0,           0,           0,           0,           0,           0,           0,           0,           0,           0,           0,           0,           0,\n                  0,           0,           0,           0,           0,           0,           0,           0,           0,           0,           0]]), 'Confidence', 'Recall']]\nfitness: 0.7943855744803882\nkeys: ['metrics/precision(B)', 'metrics/recall(B)', 'metrics/mAP50(B)', 'metrics/mAP50-95(B)']\nmaps: array([    0.77498])\nnames: {0: 'pallet'}\nplot: True\nresults_dict: {'metrics/precision(B)': 0.905072352868008, 'metrics/recall(B)': 0.9900522560516316, 'metrics/mAP50(B)': 0.9690308649543358, 'metrics/mAP50-95(B)': 0.774980542205505, 'fitness': 0.7943855744803882}\nsave_dir: PosixPath('runs/detect/pallet_yolov8s4')\nspeed: {'preprocess': 0.17649873001573724, 'inference': 4.564140744996621, 'loss': 0.001094070012186421, 'postprocess': 1.7950154050049605}\ntask: 'detect'"
          },
          "metadata": {}
        }
      ],
      "execution_count": null
    },
    {
      "cell_type": "code",
      "source": [
        "\n",
        "from ultralytics import YOLO\n",
        "\n",
        "# Load the best model\n",
        "model = YOLO(\"/kaggle/working/runs/detect/pallet_yolov8s/weights/best.pt\")\n",
        "\n",
        "# Evaluate on test split\n",
        "metrics = model.val(data=\"/kaggle/input/yolov8/pallet detection.v1i.yolov8/data.yaml\", split=\"test\")\n",
        "\n",
        "# Access values from the results_dict safely\n",
        "results = metrics.results_dict\n",
        "\n",
        "print(f\"Precision: {results['metrics/precision(B)']:.4f}\")\n",
        "print(f\"Recall: {results['metrics/recall(B)']:.4f}\")\n",
        "print(f\"mAP50: {results['metrics/mAP50(B)']:.4f}\")\n",
        "print(f\"mAP50-95: {results['metrics/mAP50-95(B)']:.4f}\")\n"
      ],
      "metadata": {
        "trusted": true,
        "execution": {
          "iopub.status.busy": "2025-05-05T04:24:29.075864Z",
          "iopub.execute_input": "2025-05-05T04:24:29.07617Z",
          "iopub.status.idle": "2025-05-05T04:24:39.212545Z",
          "shell.execute_reply.started": "2025-05-05T04:24:29.076151Z",
          "shell.execute_reply": "2025-05-05T04:24:39.211904Z"
        },
        "id": "qbhGsqNSXUGL",
        "outputId": "51f25dfc-9afa-447c-af50-16f074e9b209"
      },
      "outputs": [
        {
          "name": "stdout",
          "text": "Ultralytics 8.3.127 🚀 Python-3.11.11 torch-2.5.1+cu124 CUDA:0 (Tesla P100-PCIE-16GB, 16269MiB)\nModel summary (fused): 72 layers, 11,125,971 parameters, 0 gradients, 28.4 GFLOPs\n\u001b[34m\u001b[1mval: \u001b[0mFast image access ✅ (ping: 1.2±0.2 ms, read: 61.7±17.3 MB/s, size: 69.1 KB)\n",
          "output_type": "stream"
        },
        {
          "name": "stderr",
          "text": "\u001b[34m\u001b[1mval: \u001b[0mScanning /kaggle/input/yolov8/pallet detection.v1i.yolov8/test/labels... 200 images, 0 backgrounds, 0 corrupt: 100%|██████████| 200/200 [00:00<00:00, 456.87it/s]",
          "output_type": "stream"
        },
        {
          "name": "stdout",
          "text": "WARNING ⚠️ \u001b[34m\u001b[1mval: \u001b[0mCache directory /kaggle/input/yolov8/pallet detection.v1i.yolov8/test is not writeable, cache not saved.\n",
          "output_type": "stream"
        },
        {
          "name": "stderr",
          "text": "\n                 Class     Images  Instances      Box(P          R      mAP50  mAP50-95): 100%|██████████| 13/13 [00:06<00:00,  1.98it/s]\n",
          "output_type": "stream"
        },
        {
          "name": "stdout",
          "text": "                   all        200       5180      0.942      0.971      0.967      0.833\n",
          "output_type": "stream"
        },
        {
          "name": "stderr",
          "text": "/usr/local/lib/python3.11/dist-packages/matplotlib/colors.py:721: RuntimeWarning: invalid value encountered in less\n  xa[xa < 0] = -1\n/usr/local/lib/python3.11/dist-packages/matplotlib/colors.py:721: RuntimeWarning: invalid value encountered in less\n  xa[xa < 0] = -1\n",
          "output_type": "stream"
        },
        {
          "name": "stdout",
          "text": "Speed: 1.9ms preprocess, 5.0ms inference, 0.0ms loss, 6.6ms postprocess per image\nResults saved to \u001b[1mruns/detect/val4\u001b[0m\nPrecision: 0.9420\nRecall: 0.9712\nmAP50: 0.9667\nmAP50-95: 0.8326\n",
          "output_type": "stream"
        }
      ],
      "execution_count": null
    }
  ]
}